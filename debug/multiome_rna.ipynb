{
 "cells": [
  {
   "cell_type": "code",
   "execution_count": 1,
   "metadata": {},
   "outputs": [
    {
     "name": "stdout",
     "output_type": "stream",
     "text": [
      "AnnData object with n_obs × n_vars = 82654 × 32285\n",
      "    obs: 'AIT29_subclass_label', 'AIT29_cluster_label', 'AIT21_cluster_label', 'AIT21_subclass_label', 'AIT21_supertype_label', 'library_prep', 'roi', 'sex'\n",
      "    uns: 'log1p'\n",
      "    obsm: 'X_mde', 'X_scVI', 'X_umap'\n",
      "    layers: 'counts', 'log(CPM)'\n"
     ]
    }
   ],
   "source": [
    "import scanpy as sc\n",
    "\n",
    "adata = sc.read_h5ad(\"/gpfs/home/asun/jin_lab/get/raw_data/Mouse_VIS_SS_MO_multiome_RNA/Mouse_VIS_SS_MO_multiome_RNA.h5ad\")\n",
    "print(adata)"
   ]
  },
  {
   "cell_type": "code",
   "execution_count": 3,
   "metadata": {},
   "outputs": [
    {
     "name": "stdout",
     "output_type": "stream",
     "text": [
      "[[34.  0.  0.  0.  0.]\n",
      " [29.  0.  2.  0.  0.]\n",
      " [21.  1.  0.  0.  0.]\n",
      " [15.  0.  0.  0.  0.]\n",
      " [34.  1.  3.  0.  0.]]\n"
     ]
    }
   ],
   "source": [
    "print(adata.X[:5, :5].toarray())"
   ]
  },
  {
   "cell_type": "code",
   "execution_count": 5,
   "metadata": {},
   "outputs": [
    {
     "name": "stdout",
     "output_type": "stream",
     "text": [
      "                                               AIT29_subclass_label  \\\n",
      "sample_id                                                             \n",
      "AATAACCGTAACTACG-L8XR_220331_02_H10-1171603624                L5_IT   \n",
      "AATCCATCACAGGGAC-L8XR_220331_02_A11-1170314855                L5_IT   \n",
      "ACACTTAAGGATAAAC-L8XR_220331_02_H10-1171603624                L5_IT   \n",
      "ACCCAACCATCACTTC-L8XR_210617_01_F08-1121704588                L5_IT   \n",
      "AGCGGATAGCAAACCT-L8XR_220331_02_A11-1170314855                L5_IT   \n",
      "\n",
      "                                               AIT29_cluster_label  \\\n",
      "sample_id                                                            \n",
      "AATAACCGTAACTACG-L8XR_220331_02_H10-1171603624  L5 IT VISp Col27a1   \n",
      "AATCCATCACAGGGAC-L8XR_220331_02_A11-1170314855  L5 IT VISp Col27a1   \n",
      "ACACTTAAGGATAAAC-L8XR_220331_02_H10-1171603624  L5 IT VISp Col27a1   \n",
      "ACCCAACCATCACTTC-L8XR_210617_01_F08-1121704588  L5 IT VISp Col27a1   \n",
      "AGCGGATAGCAAACCT-L8XR_220331_02_A11-1170314855  L5 IT VISp Col27a1   \n",
      "\n",
      "                                               AIT21_cluster_label  \\\n",
      "sample_id                                                            \n",
      "AATAACCGTAACTACG-L8XR_220331_02_H10-1171603624  L5 IT VISp Col27a1   \n",
      "AATCCATCACAGGGAC-L8XR_220331_02_A11-1170314855  L5 IT VISp Col27a1   \n",
      "ACACTTAAGGATAAAC-L8XR_220331_02_H10-1171603624  L5 IT VISp Col27a1   \n",
      "ACCCAACCATCACTTC-L8XR_210617_01_F08-1121704588  L5 IT VISp Col27a1   \n",
      "AGCGGATAGCAAACCT-L8XR_220331_02_A11-1170314855  L5 IT VISp Col27a1   \n",
      "\n",
      "                                               AIT21_subclass_label  \\\n",
      "sample_id                                                             \n",
      "AATAACCGTAACTACG-L8XR_220331_02_H10-1171603624       L5 IT CTX Glut   \n",
      "AATCCATCACAGGGAC-L8XR_220331_02_A11-1170314855       L5 IT CTX Glut   \n",
      "ACACTTAAGGATAAAC-L8XR_220331_02_H10-1171603624       L5 IT CTX Glut   \n",
      "ACCCAACCATCACTTC-L8XR_210617_01_F08-1121704588       L5 IT CTX Glut   \n",
      "AGCGGATAGCAAACCT-L8XR_220331_02_A11-1170314855       L5 IT CTX Glut   \n",
      "\n",
      "                                               AIT21_supertype_label  \\\n",
      "sample_id                                                              \n",
      "AATAACCGTAACTACG-L8XR_220331_02_H10-1171603624      L5 IT CTX Glut_1   \n",
      "AATCCATCACAGGGAC-L8XR_220331_02_A11-1170314855      L5 IT CTX Glut_1   \n",
      "ACACTTAAGGATAAAC-L8XR_220331_02_H10-1171603624      L5 IT CTX Glut_1   \n",
      "ACCCAACCATCACTTC-L8XR_210617_01_F08-1121704588      L5 IT CTX Glut_1   \n",
      "AGCGGATAGCAAACCT-L8XR_220331_02_A11-1170314855      L5 IT CTX Glut_1   \n",
      "\n",
      "                                                      library_prep  \\\n",
      "sample_id                                                            \n",
      "AATAACCGTAACTACG-L8XR_220331_02_H10-1171603624  L8XR_220331_02_H10   \n",
      "AATCCATCACAGGGAC-L8XR_220331_02_A11-1170314855  L8XR_220331_02_A11   \n",
      "ACACTTAAGGATAAAC-L8XR_220331_02_H10-1171603624  L8XR_220331_02_H10   \n",
      "ACCCAACCATCACTTC-L8XR_210617_01_F08-1121704588  L8XR_210617_01_F08   \n",
      "AGCGGATAGCAAACCT-L8XR_220331_02_A11-1170314855  L8XR_220331_02_A11   \n",
      "\n",
      "                                                            roi sex  \n",
      "sample_id                                                            \n",
      "AATAACCGTAACTACG-L8XR_220331_02_H10-1171603624  VIS_VISam_VISpm   F  \n",
      "AATCCATCACAGGGAC-L8XR_220331_02_A11-1170314855  VIS_VISam_VISpm   M  \n",
      "ACACTTAAGGATAAAC-L8XR_220331_02_H10-1171603624  VIS_VISam_VISpm   F  \n",
      "ACCCAACCATCACTTC-L8XR_210617_01_F08-1121704588             VISp   M  \n",
      "AGCGGATAGCAAACCT-L8XR_220331_02_A11-1170314855  VIS_VISam_VISpm   M  \n"
     ]
    }
   ],
   "source": [
    "print(adata.obs.head())"
   ]
  },
  {
   "cell_type": "code",
   "execution_count": 4,
   "metadata": {},
   "outputs": [
    {
     "name": "stdout",
     "output_type": "stream",
     "text": [
      "Empty DataFrame\n",
      "Columns: []\n",
      "Index: [Xkr4, Gm1992, Gm19938, Gm37381, Rp1]\n"
     ]
    }
   ],
   "source": [
    "print(adata.var.head())"
   ]
  }
 ],
 "metadata": {
  "kernelspec": {
   "display_name": "get",
   "language": "python",
   "name": "python3"
  },
  "language_info": {
   "codemirror_mode": {
    "name": "ipython",
    "version": 3
   },
   "file_extension": ".py",
   "mimetype": "text/x-python",
   "name": "python",
   "nbconvert_exporter": "python",
   "pygments_lexer": "ipython3",
   "version": "3.12.9"
  }
 },
 "nbformat": 4,
 "nbformat_minor": 2
}
