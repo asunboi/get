{
 "cells": [
  {
   "cell_type": "code",
   "execution_count": 1,
   "metadata": {},
   "outputs": [
    {
     "name": "stdout",
     "output_type": "stream",
     "text": [
      "AnnData object with n_obs × n_vars = 200061 × 32285\n",
      "    obs: 'Unnamed: 0', 'subcluster_id', 'subcluster_label', 'cluster_label', 'subclass_label', 'class_label', 'subcluster_prob', 'cluster_probability', 'subclass_probability', 'class_probability', 'library_prep', 'roi', 'sex', 'donor_name', 'age_label', 'cellNames'\n"
     ]
    }
   ],
   "source": [
    "import scanpy as sc\n",
    "\n",
    "adata = sc.read_h5ad(\"/gpfs/home/asun/jin_lab/get/raw_data/DevVIS_multiome_snRNA_processed/DevVIS_multiome_snRNA_processed.h5ad\")\n",
    "print(adata)"
   ]
  },
  {
   "cell_type": "code",
   "execution_count": 3,
   "metadata": {},
   "outputs": [
    {
     "data": {
      "text/plain": [
       "subclass_label\n",
       "L4/5 IT CTX Glut         22956\n",
       "L2/3 IT CTX Glut         22705\n",
       "L6 CT CTX Glut           19759\n",
       "IMN IT                   18929\n",
       "Astro-TE NN              13766\n",
       "L5 IT CTX Glut            8951\n",
       "Pvalb Gaba                8565\n",
       "L5 ET CTX Glut            8166\n",
       "L6 IT CTX Glut            8072\n",
       "OPC NN                    7562\n",
       "IMN nonIT                 6804\n",
       "Sst Gaba                  6080\n",
       "Glioblast                 5420\n",
       "Microglia NN              5014\n",
       "Oligo NN                  4615\n",
       "L6b/CT ENT Glut           3790\n",
       "Endo NN                   3077\n",
       "L5 NP CTX Glut            3054\n",
       "VLMC NN                   2626\n",
       "Vip Gaba                  2519\n",
       "MGE GABA                  2469\n",
       "CGE GABA                  2206\n",
       "Lamp5 Gaba                1711\n",
       "L6b CTX Glut              1465\n",
       "RG                        1289\n",
       "ABC NN                    1211\n",
       "CLA-EPd-CTX Car3 Glut     1089\n",
       "IP nonIT                  1005\n",
       "IP IT                      991\n",
       "NEC                        933\n",
       "Peri NN                    897\n",
       "Sncg Gaba                  748\n",
       "BAM NN                     412\n",
       "Pvalb chandelier Gaba      397\n",
       "MGE GABA RG                347\n",
       "Sst Chodl Gaba             206\n",
       "Immature CR Glut            96\n",
       "Lamp5 Lhx6 Gaba             86\n",
       "CR Glut                     57\n",
       "SMC NN                      16\n",
       "Name: count, dtype: int64"
      ]
     },
     "execution_count": 3,
     "metadata": {},
     "output_type": "execute_result"
    }
   ],
   "source": [
    "adata.obs[\"subclass_label\"].value_counts()"
   ]
  },
  {
   "cell_type": "code",
   "execution_count": null,
   "metadata": {},
   "outputs": [],
   "source": []
  },
  {
   "cell_type": "code",
   "execution_count": 4,
   "metadata": {},
   "outputs": [
    {
     "name": "stdout",
     "output_type": "stream",
     "text": [
      "[[51  3  2  0  0]\n",
      " [11  0  0  0  0]\n",
      " [23  2  1  0  0]\n",
      " [ 0  0  0  0  0]\n",
      " [38  2  5  0  0]]\n"
     ]
    }
   ],
   "source": [
    "print(adata.X[:5, :5].toarray())"
   ]
  },
  {
   "cell_type": "code",
   "execution_count": 6,
   "metadata": {},
   "outputs": [
    {
     "name": "stdout",
     "output_type": "stream",
     "text": [
      "                                                Unnamed: 0  subcluster_id  \\\n",
      "AAACAGCCAATTAAGG-L8XR_210909_02_G08-1131257171           1            670   \n",
      "AAACAGCCAGCAACAG-L8XR_210909_02_G08-1131257171           2            304   \n",
      "AAACATGCAAGGGTTG-L8XR_210909_02_G08-1131257171           3            311   \n",
      "AAACATGCATACTCCT-L8XR_210909_02_G08-1131257171           4            707   \n",
      "AAACCAACACCAGCAT-L8XR_210909_02_G08-1131257171           5            396   \n",
      "\n",
      "                                                           subcluster_label  \\\n",
      "AAACAGCCAATTAAGG-L8XR_210909_02_G08-1131257171            803_Sst Gaba_10_4   \n",
      "AAACAGCCAGCAACAG-L8XR_210909_02_G08-1131257171  4_CLA-EPd-CTX Car3 Glut_1_3   \n",
      "AAACATGCAAGGGTTG-L8XR_210909_02_G08-1131257171        37_L6 IT CTX Glut_1_6   \n",
      "AAACATGCATACTCCT-L8XR_210909_02_G08-1131257171             5311_Endo NN_1_4   \n",
      "AAACCAACACCAGCAT-L8XR_210909_02_G08-1131257171    100_L4/5 IT CTX Glut_6_14   \n",
      "\n",
      "                                                            cluster_label  \\\n",
      "AAACAGCCAATTAAGG-L8XR_210909_02_G08-1131257171            803_Sst Gaba_10   \n",
      "AAACAGCCAGCAACAG-L8XR_210909_02_G08-1131257171  4_CLA-EPd-CTX Car3 Glut_1   \n",
      "AAACATGCAAGGGTTG-L8XR_210909_02_G08-1131257171        37_L6 IT CTX Glut_1   \n",
      "AAACATGCATACTCCT-L8XR_210909_02_G08-1131257171             5311_Endo NN_1   \n",
      "AAACCAACACCAGCAT-L8XR_210909_02_G08-1131257171     100_L4/5 IT CTX Glut_6   \n",
      "\n",
      "                                                       subclass_label  \\\n",
      "AAACAGCCAATTAAGG-L8XR_210909_02_G08-1131257171               Sst Gaba   \n",
      "AAACAGCCAGCAACAG-L8XR_210909_02_G08-1131257171  CLA-EPd-CTX Car3 Glut   \n",
      "AAACATGCAAGGGTTG-L8XR_210909_02_G08-1131257171         L6 IT CTX Glut   \n",
      "AAACATGCATACTCCT-L8XR_210909_02_G08-1131257171                Endo NN   \n",
      "AAACCAACACCAGCAT-L8XR_210909_02_G08-1131257171       L4/5 IT CTX Glut   \n",
      "\n",
      "                                                 class_label  subcluster_prob  \\\n",
      "AAACAGCCAATTAAGG-L8XR_210909_02_G08-1131257171  CTX-MGE GABA             0.34   \n",
      "AAACAGCCAGCAACAG-L8XR_210909_02_G08-1131257171       IT Glut             0.67   \n",
      "AAACATGCAAGGGTTG-L8XR_210909_02_G08-1131257171       IT Glut             0.44   \n",
      "AAACATGCATACTCCT-L8XR_210909_02_G08-1131257171      Vascular             0.46   \n",
      "AAACCAACACCAGCAT-L8XR_210909_02_G08-1131257171       IT Glut             0.18   \n",
      "\n",
      "                                                cluster_probability  \\\n",
      "AAACAGCCAATTAAGG-L8XR_210909_02_G08-1131257171                 0.66   \n",
      "AAACAGCCAGCAACAG-L8XR_210909_02_G08-1131257171                 0.83   \n",
      "AAACATGCAAGGGTTG-L8XR_210909_02_G08-1131257171                 0.75   \n",
      "AAACATGCATACTCCT-L8XR_210909_02_G08-1131257171                 0.60   \n",
      "AAACCAACACCAGCAT-L8XR_210909_02_G08-1131257171                 0.25   \n",
      "\n",
      "                                                subclass_probability  \\\n",
      "AAACAGCCAATTAAGG-L8XR_210909_02_G08-1131257171                  0.76   \n",
      "AAACAGCCAGCAACAG-L8XR_210909_02_G08-1131257171                  0.83   \n",
      "AAACATGCAAGGGTTG-L8XR_210909_02_G08-1131257171                  0.95   \n",
      "AAACATGCATACTCCT-L8XR_210909_02_G08-1131257171                  0.83   \n",
      "AAACCAACACCAGCAT-L8XR_210909_02_G08-1131257171                  0.25   \n",
      "\n",
      "                                                class_probability  \\\n",
      "AAACAGCCAATTAAGG-L8XR_210909_02_G08-1131257171               0.82   \n",
      "AAACAGCCAGCAACAG-L8XR_210909_02_G08-1131257171               0.89   \n",
      "AAACATGCAAGGGTTG-L8XR_210909_02_G08-1131257171               0.99   \n",
      "AAACATGCATACTCCT-L8XR_210909_02_G08-1131257171               0.91   \n",
      "AAACCAACACCAGCAT-L8XR_210909_02_G08-1131257171               0.84   \n",
      "\n",
      "                                                      library_prep  \\\n",
      "AAACAGCCAATTAAGG-L8XR_210909_02_G08-1131257171  L8XR_210909_02_G08   \n",
      "AAACAGCCAGCAACAG-L8XR_210909_02_G08-1131257171  L8XR_210909_02_G08   \n",
      "AAACATGCAAGGGTTG-L8XR_210909_02_G08-1131257171  L8XR_210909_02_G08   \n",
      "AAACATGCATACTCCT-L8XR_210909_02_G08-1131257171  L8XR_210909_02_G08   \n",
      "AAACCAACACCAGCAT-L8XR_210909_02_G08-1131257171  L8XR_210909_02_G08   \n",
      "\n",
      "                                                               roi sex  \\\n",
      "AAACAGCCAATTAAGG-L8XR_210909_02_G08-1131257171  Mouse Multiome VIS   M   \n",
      "AAACAGCCAGCAACAG-L8XR_210909_02_G08-1131257171  Mouse Multiome VIS   M   \n",
      "AAACATGCAAGGGTTG-L8XR_210909_02_G08-1131257171  Mouse Multiome VIS   M   \n",
      "AAACATGCATACTCCT-L8XR_210909_02_G08-1131257171  Mouse Multiome VIS   M   \n",
      "AAACCAACACCAGCAT-L8XR_210909_02_G08-1131257171  Mouse Multiome VIS   M   \n",
      "\n",
      "                                                    donor_name age_label  \\\n",
      "AAACAGCCAATTAAGG-L8XR_210909_02_G08-1131257171  C57BL6J-598371       P11   \n",
      "AAACAGCCAGCAACAG-L8XR_210909_02_G08-1131257171  C57BL6J-598371       P11   \n",
      "AAACATGCAAGGGTTG-L8XR_210909_02_G08-1131257171  C57BL6J-598371       P11   \n",
      "AAACATGCATACTCCT-L8XR_210909_02_G08-1131257171  C57BL6J-598371       P11   \n",
      "AAACCAACACCAGCAT-L8XR_210909_02_G08-1131257171  C57BL6J-598371       P11   \n",
      "\n",
      "                                                                                cellNames  \n",
      "AAACAGCCAATTAAGG-L8XR_210909_02_G08-1131257171  812_A03_MTX-2023_mouse#AAACAGCCAATTAAGG-1  \n",
      "AAACAGCCAGCAACAG-L8XR_210909_02_G08-1131257171  812_A03_MTX-2023_mouse#AAACAGCCAGCAACAG-1  \n",
      "AAACATGCAAGGGTTG-L8XR_210909_02_G08-1131257171  812_A03_MTX-2023_mouse#AAACATGCAAGGGTTG-1  \n",
      "AAACATGCATACTCCT-L8XR_210909_02_G08-1131257171  812_A03_MTX-2023_mouse#AAACATGCATACTCCT-1  \n",
      "AAACCAACACCAGCAT-L8XR_210909_02_G08-1131257171  812_A03_MTX-2023_mouse#AAACCAACACCAGCAT-1  \n"
     ]
    }
   ],
   "source": [
    "print(adata.obs.head())"
   ]
  },
  {
   "cell_type": "code",
   "execution_count": 5,
   "metadata": {},
   "outputs": [
    {
     "name": "stdout",
     "output_type": "stream",
     "text": [
      "Empty DataFrame\n",
      "Columns: []\n",
      "Index: [Xkr4, Gm1992, Gm19938, Gm37381, Rp1]\n"
     ]
    }
   ],
   "source": [
    "print(adata.var.head())"
   ]
  }
 ],
 "metadata": {
  "kernelspec": {
   "display_name": "get",
   "language": "python",
   "name": "python3"
  },
  "language_info": {
   "codemirror_mode": {
    "name": "ipython",
    "version": 3
   },
   "file_extension": ".py",
   "mimetype": "text/x-python",
   "name": "python",
   "nbconvert_exporter": "python",
   "pygments_lexer": "ipython3",
   "version": "3.12.9"
  }
 },
 "nbformat": 4,
 "nbformat_minor": 2
}
