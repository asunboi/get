{
 "cells": [
  {
   "cell_type": "code",
   "execution_count": 1,
   "metadata": {},
   "outputs": [
    {
     "name": "stdout",
     "output_type": "stream",
     "text": [
      "/gpfs/home/asun/jin_lab/get/pipeline2_aggr_preprocessing\n"
     ]
    }
   ],
   "source": [
    "import os\n",
    "os.chdir(\"/gpfs/home/asun/jin_lab/get/pipeline2_aggr_preprocessing/\")\n",
    "print(os.getcwd())"
   ]
  },
  {
   "cell_type": "code",
   "execution_count": 2,
   "metadata": {},
   "outputs": [
    {
     "name": "stdout",
     "output_type": "stream",
     "text": [
      "gcell currently using annotation directory: /gpfs/home/asun/.gcell_data/annotations\n"
     ]
    }
   ],
   "source": [
    "#%%\n",
    "from pathlib import Path\n",
    "\n",
    "import numpy as np\n",
    "import snapatac2 as snap\n",
    "from gcell._settings import get_setting\n",
    "\n",
    "annotation_dir = get_setting('annotation_dir')\n",
    "print(\"gcell currently using annotation directory:\", annotation_dir)\n"
   ]
  },
  {
   "cell_type": "code",
   "execution_count": 6,
   "metadata": {},
   "outputs": [],
   "source": [
    "input_dir = \"/gpfs/home/asun/jin_lab/get/pipeline2_aggr_preprocessing/ssp_agg/outs\""
   ]
  },
  {
   "cell_type": "code",
   "execution_count": 7,
   "metadata": {},
   "outputs": [
    {
     "name": "stderr",
     "output_type": "stream",
     "text": [
      "/gpfs/home/asun/miniforge3/envs/get/lib/python3.12/site-packages/anndata/_core/anndata.py:1758: UserWarning: Variable names are not unique. To make them unique, call `.var_names_make_unique`.\n",
      "  utils.warn_names_duplicates(\"var\")\n"
     ]
    },
    {
     "data": {
      "text/plain": [
       "AnnData object with n_obs × n_vars = 26105 × 160319\n",
       "    var: 'gene_ids', 'feature_types', 'genome', 'interval'"
      ]
     },
     "execution_count": 7,
     "metadata": {},
     "output_type": "execute_result"
    }
   ],
   "source": [
    "import pandas as pd\n",
    "from pyranges import PyRanges as pr\n",
    "import matplotlib.pyplot as plt\n",
    "import seaborn as sns\n",
    "import scanpy as sc\n",
    "\n",
    "# cre = pd.read_csv('cCRE_hg38.tsv.gz', sep='\\t')\n",
    "# cre = cre.rename(columns={'#Chromosome': 'Chromosome', 'hg38_Start': 'Start', 'hg38_End': 'End'})[['Chromosome', 'Start', 'End']]\n",
    "# cre = pr(cre, int64=True).sort()\n",
    "\n",
    "ad = sc.read_10x_h5(f'{input_dir}/filtered_feature_bc_matrix.h5', gex_only=False)\n",
    "ad"
   ]
  },
  {
   "cell_type": "markdown",
   "metadata": {},
   "source": [
    "This hdf5 contains the count matrix for both gene expression and peak count.\n",
    "We can have a look at the peaks called by cellranger."
   ]
  },
  {
   "cell_type": "markdown",
   "metadata": {},
   "source": [
    "## 1. Cell type assignment\n",
    "\n",
    "- Load RNA data from processed PBMC10k dataset and borrow the labels. If you have your own cell type labels on the data, skip this step.\n",
    "\n",
    "- Select top 3000 highly variable genes and perform UMAP to cross check with assigned labels.\n"
   ]
  },
  {
   "cell_type": "markdown",
   "metadata": {},
   "source": [
    "Here, I'm going to use the cell type labels from preprocessed snapatac2 object."
   ]
  },
  {
   "cell_type": "code",
   "execution_count": 4,
   "metadata": {},
   "outputs": [
    {
     "name": "stderr",
     "output_type": "stream",
     "text": [
      "/gpfs/home/asun/miniforge3/envs/get/lib/python3.12/site-packages/anndata/compat/__init__.py:363: FutureWarning: Moving element from .uns['neighbors']['distances'] to .obsp['distances'].\n",
      "\n",
      "This is where adjacency matrices should go now.\n",
      "  warn(\n"
     ]
    }
   ],
   "source": [
    "rna_filtered = sc.read('rna.h5ad')"
   ]
  },
  {
   "cell_type": "code",
   "execution_count": 8,
   "metadata": {},
   "outputs": [],
   "source": [
    "ad = ad[ad.obs.index.isin(rna_filtered.obs.index.values)]"
   ]
  },
  {
   "cell_type": "code",
   "execution_count": 9,
   "metadata": {},
   "outputs": [
    {
     "name": "stderr",
     "output_type": "stream",
     "text": [
      "/tmp/ipykernel_15406/2268189917.py:3: ImplicitModificationWarning: Trying to modify attribute `.obs` of view, initializing view as actual.\n",
      "  ad.obs['predicted.subclass'] = ad.obs.index.map(barcode_to_celltype)\n",
      "/gpfs/home/asun/miniforge3/envs/get/lib/python3.12/site-packages/anndata/_core/anndata.py:1758: UserWarning: Variable names are not unique. To make them unique, call `.var_names_make_unique`.\n",
      "  utils.warn_names_duplicates(\"var\")\n",
      "/gpfs/home/asun/miniforge3/envs/get/lib/python3.12/site-packages/anndata/_core/anndata.py:1758: UserWarning: Variable names are not unique. To make them unique, call `.var_names_make_unique`.\n",
      "  utils.warn_names_duplicates(\"var\")\n"
     ]
    }
   ],
   "source": [
    "barcode_to_celltype = rna_filtered.obs.to_dict()['predicted.subclass']\n",
    "\n",
    "ad.obs['predicted.subclass'] = ad.obs.index.map(barcode_to_celltype)\n"
   ]
  },
  {
   "cell_type": "code",
   "execution_count": 7,
   "metadata": {},
   "outputs": [
    {
     "data": {
      "text/plain": [
       "AnnData object with n_obs × n_vars = 26105 × 2000\n",
       "    obs: 'orig.ident', 'nCount_RNA', 'nFeature_RNA', 'percent.mt', 'predicted.class.score', 'predicted.class', 'predicted.cluster.score', 'predicted.cluster', 'predicted.subclass.score', 'predicted.subclass', 'predicted.cross_species_cluster.score', 'predicted.cross_species_cluster', 'mapping.score', 'unintegrated_clusters', 'seurat_clusters'\n",
       "    var: 'vf_vst_counts_mean', 'vf_vst_counts_variance', 'vf_vst_counts_variance.expected', 'vf_vst_counts_variance.standardized', 'vf_vst_counts_variable', 'vf_vst_counts_rank', 'var.features', 'var.features.rank'\n",
       "    uns: 'neighbors'\n",
       "    obsm: 'X_integrated_dr', 'X_pca', 'X_ref.umap', 'X_umap.unintegrated'\n",
       "    varm: 'PCs'\n",
       "    obsp: 'distances'"
      ]
     },
     "execution_count": 7,
     "metadata": {},
     "output_type": "execute_result"
    }
   ],
   "source": [
    "rna_filtered"
   ]
  },
  {
   "cell_type": "code",
   "execution_count": 8,
   "metadata": {},
   "outputs": [
    {
     "data": {
      "text/html": [
       "<div>\n",
       "<style scoped>\n",
       "    .dataframe tbody tr th:only-of-type {\n",
       "        vertical-align: middle;\n",
       "    }\n",
       "\n",
       "    .dataframe tbody tr th {\n",
       "        vertical-align: top;\n",
       "    }\n",
       "\n",
       "    .dataframe thead th {\n",
       "        text-align: right;\n",
       "    }\n",
       "</style>\n",
       "<table border=\"1\" class=\"dataframe\">\n",
       "  <thead>\n",
       "    <tr style=\"text-align: right;\">\n",
       "      <th></th>\n",
       "      <th>predicted.subclass</th>\n",
       "    </tr>\n",
       "  </thead>\n",
       "  <tbody>\n",
       "    <tr>\n",
       "      <th>AAACAGCCAAACTGCC-1</th>\n",
       "      <td>L5 IT</td>\n",
       "    </tr>\n",
       "    <tr>\n",
       "      <th>AAACAGCCAAGCGATG-1</th>\n",
       "      <td>Micro-PVM</td>\n",
       "    </tr>\n",
       "    <tr>\n",
       "      <th>AAACAGCCAATTATGC-2</th>\n",
       "      <td>Oligo</td>\n",
       "    </tr>\n",
       "    <tr>\n",
       "      <th>AAACAGCCAATTGCGC-1</th>\n",
       "      <td>L5 IT</td>\n",
       "    </tr>\n",
       "    <tr>\n",
       "      <th>AAACAGCCAGAAACGT-2</th>\n",
       "      <td>Sst</td>\n",
       "    </tr>\n",
       "  </tbody>\n",
       "</table>\n",
       "</div>"
      ],
      "text/plain": [
       "                   predicted.subclass\n",
       "AAACAGCCAAACTGCC-1              L5 IT\n",
       "AAACAGCCAAGCGATG-1          Micro-PVM\n",
       "AAACAGCCAATTATGC-2              Oligo\n",
       "AAACAGCCAATTGCGC-1              L5 IT\n",
       "AAACAGCCAGAAACGT-2                Sst"
      ]
     },
     "execution_count": 8,
     "metadata": {},
     "output_type": "execute_result"
    }
   ],
   "source": [
    "ad.obs.head()"
   ]
  },
  {
   "cell_type": "code",
   "execution_count": 34,
   "metadata": {},
   "outputs": [
    {
     "data": {
      "text/html": [
       "<div>\n",
       "<style scoped>\n",
       "    .dataframe tbody tr th:only-of-type {\n",
       "        vertical-align: middle;\n",
       "    }\n",
       "\n",
       "    .dataframe tbody tr th {\n",
       "        vertical-align: top;\n",
       "    }\n",
       "\n",
       "    .dataframe thead th {\n",
       "        text-align: right;\n",
       "    }\n",
       "</style>\n",
       "<table border=\"1\" class=\"dataframe\">\n",
       "  <thead>\n",
       "    <tr style=\"text-align: right;\">\n",
       "      <th></th>\n",
       "      <th>gene_ids</th>\n",
       "      <th>feature_types</th>\n",
       "      <th>genome</th>\n",
       "      <th>interval</th>\n",
       "    </tr>\n",
       "  </thead>\n",
       "  <tbody>\n",
       "    <tr>\n",
       "      <th>Xkr4</th>\n",
       "      <td>ENSMUSG00000051951</td>\n",
       "      <td>Gene Expression</td>\n",
       "      <td>mm10</td>\n",
       "      <td>chr1:3671497-3671498</td>\n",
       "    </tr>\n",
       "    <tr>\n",
       "      <th>Gm1992</th>\n",
       "      <td>ENSMUSG00000089699</td>\n",
       "      <td>Gene Expression</td>\n",
       "      <td>mm10</td>\n",
       "      <td>chr1:3466586-3466587</td>\n",
       "    </tr>\n",
       "    <tr>\n",
       "      <th>Gm19938</th>\n",
       "      <td>ENSMUSG00000102331</td>\n",
       "      <td>Gene Expression</td>\n",
       "      <td>mm10</td>\n",
       "      <td>chr1:3658903-3658904</td>\n",
       "    </tr>\n",
       "    <tr>\n",
       "      <th>Gm37381</th>\n",
       "      <td>ENSMUSG00000102343</td>\n",
       "      <td>Gene Expression</td>\n",
       "      <td>mm10</td>\n",
       "      <td>chr1:3985983-3986215</td>\n",
       "    </tr>\n",
       "    <tr>\n",
       "      <th>Rp1</th>\n",
       "      <td>ENSMUSG00000025900</td>\n",
       "      <td>Gene Expression</td>\n",
       "      <td>mm10</td>\n",
       "      <td>chr1:4360313-4409241</td>\n",
       "    </tr>\n",
       "    <tr>\n",
       "      <th>...</th>\n",
       "      <td>...</td>\n",
       "      <td>...</td>\n",
       "      <td>...</td>\n",
       "      <td>...</td>\n",
       "    </tr>\n",
       "    <tr>\n",
       "      <th>GL456216.1:31864-32667</th>\n",
       "      <td>GL456216.1:31864-32667</td>\n",
       "      <td>Peaks</td>\n",
       "      <td>mm10</td>\n",
       "      <td>GL456216.1:31864-32667</td>\n",
       "    </tr>\n",
       "    <tr>\n",
       "      <th>GL456216.1:34678-35524</th>\n",
       "      <td>GL456216.1:34678-35524</td>\n",
       "      <td>Peaks</td>\n",
       "      <td>mm10</td>\n",
       "      <td>GL456216.1:34678-35524</td>\n",
       "    </tr>\n",
       "    <tr>\n",
       "      <th>GL456216.1:48793-49687</th>\n",
       "      <td>GL456216.1:48793-49687</td>\n",
       "      <td>Peaks</td>\n",
       "      <td>mm10</td>\n",
       "      <td>GL456216.1:48793-49687</td>\n",
       "    </tr>\n",
       "    <tr>\n",
       "      <th>JH584292.1:12601-13508</th>\n",
       "      <td>JH584292.1:12601-13508</td>\n",
       "      <td>Peaks</td>\n",
       "      <td>mm10</td>\n",
       "      <td>JH584292.1:12601-13508</td>\n",
       "    </tr>\n",
       "    <tr>\n",
       "      <th>JH584295.1:1284-1976</th>\n",
       "      <td>JH584295.1:1284-1976</td>\n",
       "      <td>Peaks</td>\n",
       "      <td>mm10</td>\n",
       "      <td>JH584295.1:1284-1976</td>\n",
       "    </tr>\n",
       "  </tbody>\n",
       "</table>\n",
       "<p>160319 rows × 4 columns</p>\n",
       "</div>"
      ],
      "text/plain": [
       "                                      gene_ids    feature_types genome  \\\n",
       "Xkr4                        ENSMUSG00000051951  Gene Expression   mm10   \n",
       "Gm1992                      ENSMUSG00000089699  Gene Expression   mm10   \n",
       "Gm19938                     ENSMUSG00000102331  Gene Expression   mm10   \n",
       "Gm37381                     ENSMUSG00000102343  Gene Expression   mm10   \n",
       "Rp1                         ENSMUSG00000025900  Gene Expression   mm10   \n",
       "...                                        ...              ...    ...   \n",
       "GL456216.1:31864-32667  GL456216.1:31864-32667            Peaks   mm10   \n",
       "GL456216.1:34678-35524  GL456216.1:34678-35524            Peaks   mm10   \n",
       "GL456216.1:48793-49687  GL456216.1:48793-49687            Peaks   mm10   \n",
       "JH584292.1:12601-13508  JH584292.1:12601-13508            Peaks   mm10   \n",
       "JH584295.1:1284-1976      JH584295.1:1284-1976            Peaks   mm10   \n",
       "\n",
       "                                      interval  \n",
       "Xkr4                      chr1:3671497-3671498  \n",
       "Gm1992                    chr1:3466586-3466587  \n",
       "Gm19938                   chr1:3658903-3658904  \n",
       "Gm37381                   chr1:3985983-3986215  \n",
       "Rp1                       chr1:4360313-4409241  \n",
       "...                                        ...  \n",
       "GL456216.1:31864-32667  GL456216.1:31864-32667  \n",
       "GL456216.1:34678-35524  GL456216.1:34678-35524  \n",
       "GL456216.1:48793-49687  GL456216.1:48793-49687  \n",
       "JH584292.1:12601-13508  JH584292.1:12601-13508  \n",
       "JH584295.1:1284-1976      JH584295.1:1284-1976  \n",
       "\n",
       "[160319 rows x 4 columns]"
      ]
     },
     "execution_count": 34,
     "metadata": {},
     "output_type": "execute_result"
    }
   ],
   "source": [
    "ad.var"
   ]
  },
  {
   "cell_type": "code",
   "execution_count": 10,
   "metadata": {},
   "outputs": [
    {
     "data": {
      "text/plain": [
       "View of AnnData object with n_obs × n_vars = 26105 × 32285\n",
       "    obs: 'predicted.subclass'\n",
       "    var: 'gene_ids', 'feature_types', 'genome', 'interval'"
      ]
     },
     "execution_count": 10,
     "metadata": {},
     "output_type": "execute_result"
    }
   ],
   "source": [
    "ad_rna = ad[:, np.where(ad.var.feature_types == 'Gene Expression')[0]]\n",
    "ad_rna"
   ]
  },
  {
   "cell_type": "markdown",
   "metadata": {},
   "source": [
    "Let's calculate the umap on the ad_rna and compare the clustering with assigned cell type labels. In your own analysis, if you already have the labels, you can skip this."
   ]
  },
  {
   "cell_type": "code",
   "execution_count": 11,
   "metadata": {},
   "outputs": [
    {
     "name": "stderr",
     "output_type": "stream",
     "text": [
      "/gpfs/home/asun/miniforge3/envs/get/lib/python3.12/site-packages/scanpy/preprocessing/_highly_variable_genes.py:172: ImplicitModificationWarning: Trying to modify attribute `._uns` of view, initializing view as actual.\n",
      "  adata.uns[\"hvg\"] = {\"flavor\": flavor}\n",
      "/gpfs/home/asun/miniforge3/envs/get/lib/python3.12/site-packages/anndata/_core/anndata.py:1758: UserWarning: Variable names are not unique. To make them unique, call `.var_names_make_unique`.\n",
      "  utils.warn_names_duplicates(\"var\")\n",
      "/gpfs/home/asun/miniforge3/envs/get/lib/python3.12/site-packages/scanpy/preprocessing/_normalization.py:208: UserWarning: Received a view of an AnnData. Making a copy.\n",
      "  view_to_actual(adata)\n",
      "/gpfs/home/asun/miniforge3/envs/get/lib/python3.12/site-packages/anndata/_core/anndata.py:1758: UserWarning: Variable names are not unique. To make them unique, call `.var_names_make_unique`.\n",
      "  utils.warn_names_duplicates(\"var\")\n",
      "/gpfs/home/asun/miniforge3/envs/get/lib/python3.12/site-packages/umap/umap_.py:1952: UserWarning: n_jobs value 1 overridden to 1 by setting random_state. Use no seed for parallelism.\n",
      "  warn(\n",
      "... storing 'predicted.subclass' as categorical\n",
      "... storing 'feature_types' as categorical\n",
      "... storing 'genome' as categorical\n",
      "... storing 'interval' as categorical\n"
     ]
    },
    {
     "data": {
      "image/png": "[encoded data removed]",
      "text/plain": [
       "<Figure size 640x480 with 1 Axes>"
      ]
     },
     "metadata": {},
     "output_type": "display_data"
    }
   ],
   "source": [
    "sc.pp.highly_variable_genes(ad_rna, flavor='seurat_v3', n_top_genes=3000)\n",
    "ad_rna_filtered = ad_rna[:, ad_rna.var.highly_variable]\n",
    "sc.pp.normalize_total(ad_rna_filtered, target_sum=1e4)\n",
    "sc.pp.log1p(ad_rna_filtered)\n",
    "snap.tl.spectral(ad_rna_filtered, features=None)\n",
    "snap.tl.umap(ad_rna_filtered)\n",
    "sc.pl.umap(ad_rna_filtered, color='predicted.subclass')\n"
   ]
  },
  {
   "cell_type": "markdown",
   "metadata": {},
   "source": [
    "It seems the cell types match well with the data. So now let's collect the ATAC object and look at library sizes of different cell types. Note that if you have a very densely sampled dataset, you can also perform metacell analysis and sample pseudobulk with a consistent library size."
   ]
  },
  {
   "cell_type": "code",
   "execution_count": 12,
   "metadata": {},
   "outputs": [
    {
     "data": {
      "text/plain": [
       "View of AnnData object with n_obs × n_vars = 26105 × 128034\n",
       "    obs: 'predicted.subclass'\n",
       "    var: 'gene_ids', 'feature_types', 'genome', 'interval'"
      ]
     },
     "execution_count": 12,
     "metadata": {},
     "output_type": "execute_result"
    }
   ],
   "source": [
    "ad_atac = ad[:, np.where(ad.var.feature_types == 'Peaks')[0]]\n",
    "ad_atac"
   ]
  },
  {
   "cell_type": "markdown",
   "metadata": {},
   "source": [
    "We filter for cell types with >100 cells and at least 3M library size.\n",
    "\n",
    "The selected cell types will be used for training GET models."
   ]
  },
  {
   "cell_type": "code",
   "execution_count": 13,
   "metadata": {},
   "outputs": [
    {
     "name": "stdout",
     "output_type": "stream",
     "text": [
      "Unexpected exception formatting exception. Falling back to standard exception\n"
     ]
    },
    {
     "name": "stderr",
     "output_type": "stream",
     "text": [
      "Traceback (most recent call last):\n",
      "  File \"/gpfs/home/asun/miniforge3/envs/get/lib/python3.12/site-packages/IPython/core/interactiveshell.py\", line 3577, in run_code\n",
      "  File \"/tmp/ipykernel_15406/449942547.py\", line 1, in <module>\n",
      "    print(cell_number)\n",
      "          ^^^^^^^^^^^\n",
      "NameError: name 'cell_number' is not defined\n",
      "\n",
      "During handling of the above exception, another exception occurred:\n",
      "\n",
      "Traceback (most recent call last):\n",
      "  File \"/gpfs/home/asun/miniforge3/envs/get/lib/python3.12/site-packages/IPython/core/interactiveshell.py\", line 2168, in showtraceback\n",
      "    Subclasses may override this method to put the traceback on a different\n",
      "                                  ^^^^^^^^^^^^^^^^^^^^^^^^^^^^^^^^^^^^^^^^^\n",
      "  File \"/gpfs/home/asun/miniforge3/envs/get/lib/python3.12/site-packages/IPython/core/ultratb.py\", line 1457, in structured_traceback\n",
      "  File \"/gpfs/home/asun/miniforge3/envs/get/lib/python3.12/site-packages/IPython/core/ultratb.py\", line 1348, in structured_traceback\n",
      "  File \"/gpfs/home/asun/miniforge3/envs/get/lib/python3.12/site-packages/IPython/core/ultratb.py\", line 1195, in structured_traceback\n",
      "  File \"/gpfs/home/asun/miniforge3/envs/get/lib/python3.12/site-packages/IPython/core/ultratb.py\", line 1085, in format_exception_as_a_whole\n",
      "    % (Colors.excName, skipped, ColorsNormal)\n",
      "  File \"/gpfs/home/asun/miniforge3/envs/get/lib/python3.12/site-packages/IPython/core/ultratb.py\", line 1153, in get_records\n",
      "    # TODO: Here we need to use before/after/\n",
      "          ^^^^^^^^^^^^^^^^^^^^^^^^^^^^^^\n",
      "  File \"/gpfs/home/asun/miniforge3/envs/get/lib/python3.12/inspect.py\", line 1013, in getmodule\n",
      "    f = getabsfile(module)\n",
      "        ^^^^^^^^^^^^^^^^^^\n",
      "  File \"/gpfs/home/asun/miniforge3/envs/get/lib/python3.12/inspect.py\", line 982, in getabsfile\n",
      "    _filename = getsourcefile(object) or getfile(object)\n",
      "                ^^^^^^^^^^^^^^^^^^^^^\n",
      "  File \"/gpfs/home/asun/miniforge3/envs/get/lib/python3.12/inspect.py\", line 955, in getsourcefile\n",
      "    filename = getfile(object)\n",
      "               ^^^^^^^^^^^^^^^\n",
      "  File \"/gpfs/home/asun/miniforge3/envs/get/lib/python3.12/site-packages/torch/package/package_importer.py\", line 730, in _patched_getfile\n",
      "    return _orig_getfile(object)\n",
      "           ^^^^^^^^^^^^^^^^^^^^^\n",
      "  File \"/gpfs/home/asun/miniforge3/envs/get/lib/python3.12/inspect.py\", line 916, in getfile\n",
      "    raise TypeError('{!r} is a built-in module'.format(object))\n",
      "TypeError: <module '' from '/gpfs/home/asun/jin_lab/get/pipeline2_aggr_preprocessing'> is a built-in module\n"
     ]
    }
   ],
   "source": [
    "print(cell_number)"
   ]
  },
  {
   "cell_type": "code",
   "execution_count": 14,
   "metadata": {},
   "outputs": [
    {
     "name": "stdout",
     "output_type": "stream",
     "text": [
      "The following cell types have more than 100 cells and library size > 3M, adding them to celltype_for_modeling\n",
      "Astro number of cells: 2316, library size: 30515516\n",
      "Endo number of cells: 698, library size: 5141633\n",
      "L2/3 IT number of cells: 4544, library size: 92593264\n",
      "L5 ET number of cells: 567, library size: 17506656\n",
      "L5 IT number of cells: 7664, library size: 147254336\n",
      "L5/6 NP number of cells: 299, library size: 5034932\n",
      "L6 CT number of cells: 1745, library size: 35660816\n",
      "L6 IT number of cells: 578, library size: 12727980\n",
      "L6b number of cells: 147, library size: 3054597\n",
      "Lamp5 number of cells: 471, library size: 7468353\n",
      "Micro-PVM number of cells: 1154, library size: 9088682\n",
      "OPC number of cells: 575, library size: 6691099\n",
      "Oligo number of cells: 2246, library size: 19190540\n",
      "Pvalb number of cells: 1076, library size: 23896946\n",
      "Sst number of cells: 658, library size: 13008524\n",
      "VLMC number of cells: 563, library size: 3888340\n",
      "Vip number of cells: 413, library size: 6744065\n"
     ]
    }
   ],
   "source": [
    "# %%\n",
    "\n",
    "cell_number = ad_atac.obs.groupby('predicted.subclass', observed=False).size().to_dict()\n",
    "print(\"The following cell types have more than 100 cells and library size > 3M, adding them to celltype_for_modeling\")\n",
    "celltype_for_modeling = []\n",
    "for cell_type in cell_number:\n",
    "    if cell_number[cell_type] > 100:\n",
    "        celltype_for_modeling.append(cell_type)\n",
    "        libsize = int(ad_atac[ad_atac.obs[\"predicted.subclass\"] == cell_type].X.sum())\n",
    "        if libsize > 3000000:\n",
    "            print(f\"{cell_type} number of cells: {cell_number[cell_type]}, library size: {libsize}\")"
   ]
  },
  {
   "cell_type": "code",
   "execution_count": null,
   "metadata": {},
   "outputs": [],
   "source": [
    "Astro number of cells: 2316, library size: 30515516\n",
    "Endo number of cells: 698, library size: 5141633\n",
    "L2/3 IT number of cells: 4544, library size: 92593264\n",
    "L5 ET number of cells: 567, library size: 17506656\n",
    "L5 IT number of cells: 7664, library size: 147254336\n",
    "L5/6 NP number of cells: 299, library size: 5034932\n",
    "L6 CT number of cells: 1745, library size: 35660816\n",
    "L6 IT number of cells: 1049, library size: 12727980\n",
    "L6b number of cells: 147, library size: 3054597\n",
    "Lamp5 number of cells: 471, library size: 7468353\n",
    "Micro-PVM number of cells: 1154, library size: 9088682\n",
    "OPC number of cells: 575, library size: 6691099\n",
    "Oligo number of cells: 2246, library size: 19190540\n",
    "Pvalb number of cells: 1076, library size: 23896946\n",
    "Sst number of cells: 658, library size: 13008524\n",
    "VLMC number of cells: 563, library size: 3888340\n",
    "Vip number of cells: 413, library size: 6744065"
   ]
  },
  {
   "cell_type": "markdown",
   "metadata": {},
   "source": [
    "## 2. Export training data\n",
    "For each abundant cell type, we'll generate:\n",
    "1. Peak accessibility file (.atac.bed) containing:\n",
    "   - Peak coordinates (chr, start, end)\n",
    "   - Normalized accessibility scores (aCPM, $10^5$ scale factor)\n",
    "2. Gene expression file (.rna.csv) containing:\n",
    "   - Gene names\n",
    "   - Normalized expression values (TPM, $10^6$ scale factor)\n"
   ]
  },
  {
   "cell_type": "code",
   "execution_count": 15,
   "metadata": {},
   "outputs": [
    {
     "data": {
      "text/plain": [
       "(128034, 3)"
      ]
     },
     "execution_count": 15,
     "metadata": {},
     "output_type": "execute_result"
    }
   ],
   "source": [
    "# This should be the same as the peaks variable defined above.\n",
    "import pandas as pd\n",
    "from pyranges import PyRanges as pr\n",
    "def get_peak_from_snapatac(atac: snap.AnnData):\n",
    "    \"\"\"\n",
    "    Get the peak names from the snapatac object.\n",
    "\n",
    "    Args:\n",
    "        atac: snapatac2 processed AnnData object\n",
    "\n",
    "    Returns:\n",
    "        peak_names: pandas DatasFrame with the peak names\n",
    "    \"\"\"\n",
    "    peak_names = pd.DataFrame(atac.var.index.str.split('[:-]').tolist(), columns=['Chromosome', 'Start', 'End'])\n",
    "    peak_names['Start'] = peak_names['Start'].astype(int)\n",
    "    peak_names['End'] = peak_names['End'].astype(int)\n",
    "    return peak_names\n",
    "\n",
    "peaks = get_peak_from_snapatac(ad_atac)\n",
    "peaks.shape"
   ]
  },
  {
   "cell_type": "code",
   "execution_count": 16,
   "metadata": {},
   "outputs": [],
   "source": [
    "# %%\n",
    "def get_peak_acpm_for_cell_type(atac: snap.AnnData, cell_type: str):\n",
    "    \"\"\"\n",
    "    Get the peak acpm for a given cell type.\n",
    "    \"\"\"\n",
    "    peaks = get_peak_from_snapatac(atac)\n",
    "    counts = np.array(atac[atac.obs[\"predicted.subclass\"] == cell_type].X.sum(0)).flatten()\n",
    "    acpm = np.log10(counts / counts.sum() * 1e5 + 1)\n",
    "    peaks['aCPM'] = acpm/acpm.max()\n",
    "    peaks = peaks.query('Chromosome.str.startswith(\"chr\") & ~Chromosome.str.endswith(\"M\") & ~Chromosome.str.endswith(\"Y\") & ~Chromosome.str.startswith(\"chrUn\")')\n",
    "    peaks = pr(peaks, int64=True).sort().df\n",
    "    return peaks"
   ]
  },
  {
   "cell_type": "markdown",
   "metadata": {},
   "source": [
    "Let's run the function above to save the peak with aCPM for all cell types. Note that here we use the common peak set for all cell types. Later in the dataset we will be able to filter out peaks with no accessibility for each cell type."
   ]
  },
  {
   "cell_type": "code",
   "execution_count": 17,
   "metadata": {},
   "outputs": [],
   "source": [
    "# %%\n",
    "for cell_type in celltype_for_modeling:\n",
    "    peaks = get_peak_acpm_for_cell_type(ad_atac, cell_type)\n",
    "    peaks.to_csv(f'{cell_type.replace(\" \", \"_\").replace(\"/\", \"-\").lower()}.atac.bed', sep='\\t', index=False, header=False)"
   ]
  },
  {
   "cell_type": "code",
   "execution_count": 18,
   "metadata": {},
   "outputs": [
    {
     "data": {
      "text/plain": [
       "<Axes: xlabel='aCPM', ylabel='length'>"
      ]
     },
     "execution_count": 18,
     "metadata": {},
     "output_type": "execute_result"
    },
    {
     "data": {
      "image/png": "[encoded data removed]",
      "text/plain": [
       "<Figure size 640x480 with 1 Axes>"
      ]
     },
     "metadata": {},
     "output_type": "display_data"
    }
   ],
   "source": [
    "peaks['length'] = peaks['End'] - peaks['Start']\n",
    "peaks.plot(y='length', x='aCPM', kind='scatter', s=1)"
   ]
  },
  {
   "cell_type": "code",
   "execution_count": 19,
   "metadata": {},
   "outputs": [
    {
     "data": {
      "text/html": [
       "<div>\n",
       "<style scoped>\n",
       "    .dataframe tbody tr th:only-of-type {\n",
       "        vertical-align: middle;\n",
       "    }\n",
       "\n",
       "    .dataframe tbody tr th {\n",
       "        vertical-align: top;\n",
       "    }\n",
       "\n",
       "    .dataframe thead th {\n",
       "        text-align: right;\n",
       "    }\n",
       "</style>\n",
       "<table border=\"1\" class=\"dataframe\">\n",
       "  <thead>\n",
       "    <tr style=\"text-align: right;\">\n",
       "      <th></th>\n",
       "      <th>Chromosome</th>\n",
       "      <th>Start</th>\n",
       "      <th>End</th>\n",
       "      <th>aCPM</th>\n",
       "      <th>length</th>\n",
       "    </tr>\n",
       "  </thead>\n",
       "  <tbody>\n",
       "    <tr>\n",
       "      <th>0</th>\n",
       "      <td>chr1</td>\n",
       "      <td>3094753</td>\n",
       "      <td>3095675</td>\n",
       "      <td>0.126081</td>\n",
       "      <td>922</td>\n",
       "    </tr>\n",
       "    <tr>\n",
       "      <th>1</th>\n",
       "      <td>chr1</td>\n",
       "      <td>3120133</td>\n",
       "      <td>3120689</td>\n",
       "      <td>0.058109</td>\n",
       "      <td>556</td>\n",
       "    </tr>\n",
       "    <tr>\n",
       "      <th>2</th>\n",
       "      <td>chr1</td>\n",
       "      <td>3121252</td>\n",
       "      <td>3122011</td>\n",
       "      <td>0.045634</td>\n",
       "      <td>759</td>\n",
       "    </tr>\n",
       "    <tr>\n",
       "      <th>3</th>\n",
       "      <td>chr1</td>\n",
       "      <td>3292425</td>\n",
       "      <td>3293285</td>\n",
       "      <td>0.091692</td>\n",
       "      <td>860</td>\n",
       "    </tr>\n",
       "    <tr>\n",
       "      <th>4</th>\n",
       "      <td>chr1</td>\n",
       "      <td>3297205</td>\n",
       "      <td>3298011</td>\n",
       "      <td>0.021169</td>\n",
       "      <td>806</td>\n",
       "    </tr>\n",
       "    <tr>\n",
       "      <th>...</th>\n",
       "      <td>...</td>\n",
       "      <td>...</td>\n",
       "      <td>...</td>\n",
       "      <td>...</td>\n",
       "      <td>...</td>\n",
       "    </tr>\n",
       "    <tr>\n",
       "      <th>127970</th>\n",
       "      <td>chrX</td>\n",
       "      <td>170004064</td>\n",
       "      <td>170004736</td>\n",
       "      <td>0.087507</td>\n",
       "      <td>672</td>\n",
       "    </tr>\n",
       "    <tr>\n",
       "      <th>127971</th>\n",
       "      <td>chrX</td>\n",
       "      <td>170004873</td>\n",
       "      <td>170005776</td>\n",
       "      <td>0.103778</td>\n",
       "      <td>903</td>\n",
       "    </tr>\n",
       "    <tr>\n",
       "      <th>127972</th>\n",
       "      <td>chrX</td>\n",
       "      <td>170672396</td>\n",
       "      <td>170673174</td>\n",
       "      <td>0.048188</td>\n",
       "      <td>778</td>\n",
       "    </tr>\n",
       "    <tr>\n",
       "      <th>127973</th>\n",
       "      <td>chrX</td>\n",
       "      <td>170674517</td>\n",
       "      <td>170675289</td>\n",
       "      <td>0.189751</td>\n",
       "      <td>772</td>\n",
       "    </tr>\n",
       "    <tr>\n",
       "      <th>127974</th>\n",
       "      <td>chrX</td>\n",
       "      <td>170677032</td>\n",
       "      <td>170677956</td>\n",
       "      <td>0.103778</td>\n",
       "      <td>924</td>\n",
       "    </tr>\n",
       "  </tbody>\n",
       "</table>\n",
       "<p>127975 rows × 5 columns</p>\n",
       "</div>"
      ],
      "text/plain": [
       "       Chromosome      Start        End      aCPM  length\n",
       "0            chr1    3094753    3095675  0.126081     922\n",
       "1            chr1    3120133    3120689  0.058109     556\n",
       "2            chr1    3121252    3122011  0.045634     759\n",
       "3            chr1    3292425    3293285  0.091692     860\n",
       "4            chr1    3297205    3298011  0.021169     806\n",
       "...           ...        ...        ...       ...     ...\n",
       "127970       chrX  170004064  170004736  0.087507     672\n",
       "127971       chrX  170004873  170005776  0.103778     903\n",
       "127972       chrX  170672396  170673174  0.048188     778\n",
       "127973       chrX  170674517  170675289  0.189751     772\n",
       "127974       chrX  170677032  170677956  0.103778     924\n",
       "\n",
       "[127975 rows x 5 columns]"
      ]
     },
     "execution_count": 19,
     "metadata": {},
     "output_type": "execute_result"
    }
   ],
   "source": [
    "peaks"
   ]
  },
  {
   "cell_type": "markdown",
   "metadata": {},
   "source": [
    "Now let's save the RNA csv files."
   ]
  },
  {
   "cell_type": "code",
   "execution_count": 20,
   "metadata": {},
   "outputs": [],
   "source": [
    "# %%\n",
    "def get_rna_for_cell_type(rna: snap.AnnData, cell_type: str):\n",
    "    \"\"\"\n",
    "    Get the rna for a given cell type.\n",
    "    \"\"\"\n",
    "    counts = rna[rna.obs[\"predicted.subclass\"] == cell_type].X.sum(0)\n",
    "    counts = np.log10(counts / counts.sum() * 1e6 + 1)\n",
    "    counts = np.array(counts).flatten()\n",
    "    rna_tpm = pd.DataFrame(counts, columns=['TPM'])\n",
    "    rna_tpm['gene_name'] = rna.var.index\n",
    "    return rna_tpm[['gene_name', 'TPM']].sort_values(by='gene_name', ascending=True)"
   ]
  },
  {
   "cell_type": "code",
   "execution_count": 21,
   "metadata": {},
   "outputs": [],
   "source": [
    "#%%\n",
    "for cell_type in celltype_for_modeling:\n",
    "    rna_tpm = get_rna_for_cell_type(ad_rna, cell_type)\n",
    "    rna_tpm.to_csv(f'{cell_type.replace(\" \", \"_\").replace(\"/\", \"-\").lower()}.rna.csv', index=False)"
   ]
  },
  {
   "cell_type": "markdown",
   "metadata": {},
   "source": [
    "## 3. Query motifs and save data as zarr files."
   ]
  },
  {
   "cell_type": "code",
   "execution_count": 22,
   "metadata": {},
   "outputs": [
    {
     "name": "stdout",
     "output_type": "stream",
     "text": [
      "tabix (htslib) 1.21\n",
      "Copyright (C) 2024 Genome Research Ltd.\n"
     ]
    }
   ],
   "source": [
    "# NOTE: tabix has to be >= 1.17\n",
    "! tabix --version"
   ]
  },
  {
   "cell_type": "code",
   "execution_count": 23,
   "metadata": {},
   "outputs": [
    {
     "name": "stdout",
     "output_type": "stream",
     "text": [
      "gcell currently using annotation directory: /gpfs/home/asun/.gcell_data/annotations\n"
     ]
    }
   ],
   "source": [
    "import os\n",
    "from pathlib import Path\n",
    "\n",
    "from gcell._settings import get_setting\n",
    "from preprocess_utils import (\n",
    "    add_atpm,\n",
    "    add_exp,\n",
    "    create_peak_motif,\n",
    "    download_motif,\n",
    "    get_motif,\n",
    "    query_motif,\n",
    ")\n",
    "\n",
    "annotation_dir = Path(get_setting('annotation_dir'))\n",
    "print(\"gcell currently using annotation directory:\", annotation_dir)"
   ]
  },
  {
   "cell_type": "markdown",
   "metadata": {},
   "source": [
    "### Download motif bed file\n",
    "\n",
    "This will download the non-redundant motif scanning results to `annotation_dir / \"hg38.archetype_motifs.v1.0.bed.gz\"`."
   ]
  },
  {
   "cell_type": "code",
   "execution_count": 24,
   "metadata": {},
   "outputs": [],
   "source": [
    "motif_bed_url = \"https://resources.altius.org/~jvierstra/projects/motif-clustering/releases/v1.0/hg38.archetype_motifs.v1.0.bed.gz\"\n",
    "motif_bed_index_url = \"https://resources.altius.org/~jvierstra/projects/motif-clustering/releases/v1.0/hg38.archetype_motifs.v1.0.bed.gz.tbi\"\n",
    "\n",
    "\n",
    "if (\n",
    "    motif_bed_url\n",
    "    and motif_bed_index_url\n",
    "    and not (\n",
    "        (annotation_dir / \"hg38.archetype_motifs.v1.0.bed.gz\").exists()\n",
    "        or (annotation_dir / \"hg38.archetype_motifs.v1.0.bed.gz.tbi\").exists()\n",
    "    )\n",
    "):\n",
    "    download_motif(motif_bed_url, motif_bed_index_url, motif_dir=annotation_dir)\n",
    "    motif_bed = str(annotation_dir / \"hg38.archetype_motifs.v1.0.bed.gz\")\n",
    "else:\n",
    "    motif_bed = str(annotation_dir / \"hg38.archetype_motifs.v1.0.bed.gz\")"
   ]
  },
  {
   "cell_type": "markdown",
   "metadata": {},
   "source": [
    "### Query motif"
   ]
  },
  {
   "cell_type": "code",
   "execution_count": 25,
   "metadata": {},
   "outputs": [
    {
     "name": "stdout",
     "output_type": "stream",
     "text": [
      "Peak motif extraction completed. Results saved in get_motif.bed\n"
     ]
    }
   ],
   "source": [
    "peak_bed = \"l2-3_it.atac.bed\" # since all cell types share the same peak set, when querying motifs, we can just use one cell type to query motifs.\n",
    "peaks_motif = query_motif(peak_bed, motif_bed)\n",
    "get_motif_output = get_motif(peak_bed, peaks_motif)\n"
   ]
  },
  {
   "cell_type": "markdown",
   "metadata": {},
   "source": [
    "## 4. Create peak motif zarr file\n",
    "Create a peak x motif matrix stored in a zarr file. If you are working on multiple cell types with the same peak set, you can use the same peak bed and zarr file for all cell types."
   ]
  },
  {
   "cell_type": "code",
   "execution_count": 26,
   "metadata": {},
   "outputs": [
    {
     "name": "stdout",
     "output_type": "stream",
     "text": [
      "Peak motif data saved to aggr_multiome.zarr\n"
     ]
    }
   ],
   "source": [
    "import zarr\n",
    "import pandas as pd\n",
    "import numpy as np\n",
    "def create_peak_motif(peak_motif_bed, output_zarr, peak_bed):\n",
    "    \"\"\"\n",
    "    Create a peak motif zarr file from a peak motif bed file.\n",
    "\n",
    "    This function reads a peak motif bed file, pivots the data, and saves it to a zarr file.\n",
    "    The zarr file contains three datasets: 'data', 'peak_names', 'motif_names', and 'accessibility'.\n",
    "    The 'data' dataset is a sparse matrix containing the peak motif data.\n",
    "    The 'peak_names' dataset contains the peak names.\n",
    "    The 'motif_names' dataset contains the motif names.\n",
    "\n",
    "    Args:\n",
    "        peak_motif_bed (str): Path to the peak motif bed file.\n",
    "        output_zarr (str): Path to the output zarr file.\n",
    "    \"\"\"\n",
    "    import pandas as pd\n",
    "    motif_annotations = pd.read_excel('https://resources.altius.org/~jvierstra/projects/motif-clustering/releases/v1.0/motif_annotations.xlsx')\n",
    "    motif_cluster_ids = motif_annotations.Name.unique()\n",
    "    # Read the peak motif bed file\n",
    "    peak_motif = pd.read_csv(\n",
    "        peak_motif_bed,\n",
    "        sep=\"\\t\",\n",
    "        header=None,\n",
    "        names=[\"Chromosome\", \"Start\", \"End\", \"Motif_cluster\", \"Score\"],\n",
    "    )\n",
    "\n",
    "    # Pivot the data\n",
    "    peak_motif_pivoted = peak_motif.pivot_table(\n",
    "        index=[\"Chromosome\", \"Start\", \"End\"],\n",
    "        columns=\"Motif_cluster\",\n",
    "        values=\"Score\",\n",
    "        fill_value=0,\n",
    "    )\n",
    "\n",
    "    peak_motif_pivoted.reset_index(inplace=True)\n",
    "    # add missing motif columns\n",
    "    for motif_cluster_id in motif_cluster_ids:\n",
    "        if motif_cluster_id not in peak_motif_pivoted.columns:\n",
    "            peak_motif_pivoted[motif_cluster_id] = 1\n",
    "    # Create the 'Name' column\n",
    "    peak_motif_pivoted[\"Name\"] = peak_motif_pivoted.apply(\n",
    "        lambda x: f'{x[\"Chromosome\"]}:{x[\"Start\"]}-{x[\"End\"]}', axis=1\n",
    "    )\n",
    "    peak_motif_pivoted = peak_motif_pivoted.drop(columns=[\"Chromosome\", \"Start\", \"End\"])\n",
    "\n",
    "    # Read the original peak bed file\n",
    "    original_peaks = pd.read_csv(\n",
    "        peak_bed, sep=\"\\t\", header=None, names=[\"Chromosome\", \"Start\", \"End\", \"Score\"]\n",
    "    )\n",
    "\n",
    "    # exclude chrM and chrY\n",
    "    original_peaks = original_peaks[~original_peaks.Chromosome.isin([\"chrM\", \"chrY\"])]\n",
    "    original_peaks[\"Name\"] = original_peaks.apply(\n",
    "        lambda x: f'{x[\"Chromosome\"]}:{x[\"Start\"]}-{x[\"End\"]}', axis=1\n",
    "    )\n",
    "    \n",
    "    new_columns = list(motif_cluster_ids) + [\"Name\"]\n",
    "\n",
    "    # sort motif columns\n",
    "    peak_motif_pivoted = peak_motif_pivoted[new_columns]\n",
    "\n",
    "    # Merge the pivoted data with the original peaks\n",
    "    merged_data = pd.merge(original_peaks, peak_motif_pivoted, on=\"Name\", how=\"left\")\n",
    "\n",
    "    # Fill NaN values with 0 for motif columns\n",
    "    motif_columns = [\n",
    "        col\n",
    "        for col in merged_data.columns\n",
    "        if col not in [\"Chromosome\", \"Start\", \"End\", \"Score\", \"Name\"]\n",
    "    ]\n",
    "    \n",
    "    merged_data[motif_columns] = merged_data[motif_columns].fillna(0)\n",
    "    peak_length = (merged_data.End - merged_data.Start).values / 400 # convert to kb\n",
    "    merged_data[motif_columns] = merged_data[motif_columns].div(peak_length, axis=0)\n",
    "    # Prepare data for zarr storage\n",
    "    name_values = list(merged_data[\"Name\"].values)\n",
    "    motif_values = motif_columns\n",
    "\n",
    "    # Create sparse matrix\n",
    "    motif_data_matrix = merged_data[motif_columns].values\n",
    "    # Open zarr store and save data\n",
    "    from numcodecs import Blosc\n",
    "\n",
    "    z = zarr.open(output_zarr, mode=\"w\")\n",
    "    z.create_dataset(\n",
    "        \"data\",\n",
    "        data=motif_data_matrix.data,\n",
    "        chunks=(1000, motif_data_matrix.shape[1]),\n",
    "        dtype=np.float32,\n",
    "        compressor=Blosc(cname=\"zstd\", clevel=3, shuffle=Blosc.BITSHUFFLE),\n",
    "        shape=motif_data_matrix.shape,\n",
    "    )\n",
    "    z.create_dataset(\"peak_names\", data=name_values)\n",
    "    z.create_dataset(\"motif_names\", data=motif_values)\n",
    "\n",
    "    print(f\"Peak motif data saved to {output_zarr}\")\n",
    "\n",
    "create_peak_motif(get_motif_output, \"aggr_multiome.zarr\", peak_bed) # all cell types will later be added to the same zarr file as we use the same peak set."
   ]
  },
  {
   "cell_type": "code",
   "execution_count": 27,
   "metadata": {},
   "outputs": [],
   "source": [
    "#create_peak_motif(get_motif_output, \"aggr_multiome.zarr\", peak_bed) # all cell types will later be added to the same zarr file as we use the same peak set.\n"
   ]
  },
  {
   "cell_type": "markdown",
   "metadata": {},
   "source": [
    "### Add aCPM data to region x motif matrix\n",
    "For each cell type, we will save it's aCPM values to the `pbmc10k_multiome.zarr/atpm/{celltype}/` folder"
   ]
  },
  {
   "cell_type": "code",
   "execution_count": 28,
   "metadata": {},
   "outputs": [
    {
     "data": {
      "text/plain": [
       "['Astro',\n",
       " 'Endo',\n",
       " 'L2/3 IT',\n",
       " 'L5 ET',\n",
       " 'L5 IT',\n",
       " 'L5/6 NP',\n",
       " 'L6 CT',\n",
       " 'L6 IT',\n",
       " 'L6b',\n",
       " 'Lamp5',\n",
       " 'Meis2',\n",
       " 'Micro-PVM',\n",
       " 'OPC',\n",
       " 'Oligo',\n",
       " 'Peri',\n",
       " 'Pvalb',\n",
       " 'Sst',\n",
       " 'VLMC',\n",
       " 'Vip']"
      ]
     },
     "execution_count": 28,
     "metadata": {},
     "output_type": "execute_result"
    }
   ],
   "source": [
    "celltype_for_modeling"
   ]
  },
  {
   "cell_type": "code",
   "execution_count": 29,
   "metadata": {
    "scrolled": true
   },
   "outputs": [
    {
     "name": "stdout",
     "output_type": "stream",
     "text": [
      "       Chromosome      Start        End      aTPM                      Name\n",
      "0            chr1    3094753    3095675  0.025909      chr1:3094753-3095675\n",
      "1            chr1    3120133    3120689  0.014934      chr1:3120133-3120689\n",
      "2            chr1    3121252    3122011  0.014307      chr1:3121252-3122011\n",
      "3            chr1    3292425    3293285  0.011142      chr1:3292425-3293285\n",
      "4            chr1    3297205    3298011  0.008574      chr1:3297205-3298011\n",
      "...           ...        ...        ...       ...                       ...\n",
      "127970       chrX  170004064  170004736  0.042991  chrX:170004064-170004736\n",
      "127971       chrX  170004873  170005776  0.088835  chrX:170004873-170005776\n",
      "127972       chrX  170672396  170673174  0.012414  chrX:170672396-170673174\n",
      "127973       chrX  170674517  170675289  0.116979  chrX:170674517-170675289\n",
      "127974       chrX  170677032  170677956  0.025315  chrX:170677032-170677956\n",
      "\n",
      "[127975 rows x 5 columns]\n",
      "       Chromosome      Start        End      aTPM                      Name\n",
      "0            chr1    3094753    3095675  0.072814      chr1:3094753-3095675\n",
      "1            chr1    3120133    3120689  0.035001      chr1:3120133-3120689\n",
      "2            chr1    3121252    3122011  0.061933      chr1:3121252-3122011\n",
      "3            chr1    3292425    3293285  0.044393      chr1:3292425-3293285\n",
      "4            chr1    3297205    3298011  0.035001      chr1:3297205-3298011\n",
      "...           ...        ...        ...       ...                       ...\n",
      "127970       chrX  170004064  170004736  0.078037  chrX:170004064-170004736\n",
      "127971       chrX  170004873  170005776  0.113335  chrX:170004873-170005776\n",
      "127972       chrX  170672396  170673174  0.038182  chrX:170672396-170673174\n",
      "127973       chrX  170674517  170675289  0.078037  chrX:170674517-170675289\n",
      "127974       chrX  170677032  170677956  0.041312  chrX:170677032-170677956\n",
      "\n",
      "[127975 rows x 5 columns]\n",
      "       Chromosome      Start        End      aTPM                      Name\n",
      "0            chr1    3094753    3095675  0.084529      chr1:3094753-3095675\n",
      "1            chr1    3120133    3120689  0.083058      chr1:3120133-3120689\n",
      "2            chr1    3121252    3122011  0.049644      chr1:3121252-3122011\n",
      "3            chr1    3292425    3293285  0.097045      chr1:3292425-3293285\n",
      "4            chr1    3297205    3298011  0.041281      chr1:3297205-3298011\n",
      "...           ...        ...        ...       ...                       ...\n",
      "127970       chrX  170004064  170004736  0.090480  chrX:170004064-170004736\n",
      "127971       chrX  170004873  170005776  0.149946  chrX:170004873-170005776\n",
      "127972       chrX  170672396  170673174  0.062074  chrX:170672396-170673174\n",
      "127973       chrX  170674517  170675289  0.190999  chrX:170674517-170675289\n",
      "127974       chrX  170677032  170677956  0.123985  chrX:170677032-170677956\n",
      "\n",
      "[127975 rows x 5 columns]\n",
      "       Chromosome      Start        End      aTPM                      Name\n",
      "0            chr1    3094753    3095675  0.097517      chr1:3094753-3095675\n",
      "1            chr1    3120133    3120689  0.091523      chr1:3120133-3120689\n",
      "2            chr1    3121252    3122011  0.074807      chr1:3121252-3122011\n",
      "3            chr1    3292425    3293285  0.183050      chr1:3292425-3293285\n",
      "4            chr1    3297205    3298011  0.060366      chr1:3297205-3298011\n",
      "...           ...        ...        ...       ...                       ...\n",
      "127970       chrX  170004064  170004736  0.105297  chrX:170004064-170004736\n",
      "127971       chrX  170004873  170005776  0.154739  chrX:170004873-170005776\n",
      "127972       chrX  170672396  170673174  0.061506  chrX:170672396-170673174\n",
      "127973       chrX  170674517  170675289  0.220961  chrX:170674517-170675289\n",
      "127974       chrX  170677032  170677956  0.089492  chrX:170677032-170677956\n",
      "\n",
      "[127975 rows x 5 columns]\n",
      "       Chromosome      Start        End      aTPM                      Name\n",
      "0            chr1    3094753    3095675  0.080843      chr1:3094753-3095675\n",
      "1            chr1    3120133    3120689  0.111265      chr1:3120133-3120689\n",
      "2            chr1    3121252    3122011  0.078923      chr1:3121252-3122011\n",
      "3            chr1    3292425    3293285  0.064244      chr1:3292425-3293285\n",
      "4            chr1    3297205    3298011  0.045297      chr1:3297205-3298011\n",
      "...           ...        ...        ...       ...                       ...\n",
      "127970       chrX  170004064  170004736  0.075815  chrX:170004064-170004736\n",
      "127971       chrX  170004873  170005776  0.145842  chrX:170004873-170005776\n",
      "127972       chrX  170672396  170673174  0.056657  chrX:170672396-170673174\n",
      "127973       chrX  170674517  170675289  0.171190  chrX:170674517-170675289\n",
      "127974       chrX  170677032  170677956  0.097714  chrX:170677032-170677956\n",
      "\n",
      "[127975 rows x 5 columns]\n",
      "       Chromosome      Start        End      aTPM                      Name\n",
      "0            chr1    3094753    3095675  0.004197      chr1:3094753-3095675\n",
      "1            chr1    3120133    3120689  0.062079      chr1:3120133-3120689\n",
      "2            chr1    3121252    3122011  0.086031      chr1:3121252-3122011\n",
      "3            chr1    3292425    3293285  0.062079      chr1:3292425-3293285\n",
      "4            chr1    3297205    3298011  0.038660      chr1:3297205-3298011\n",
      "...           ...        ...        ...       ...                       ...\n",
      "127970       chrX  170004064  170004736  0.102381  chrX:170004064-170004736\n",
      "127971       chrX  170004873  170005776  0.199691  chrX:170004873-170005776\n",
      "127972       chrX  170672396  170673174  0.083180  chrX:170672396-170673174\n",
      "127973       chrX  170674517  170675289  0.198022  chrX:170674517-170675289\n",
      "127974       chrX  170677032  170677956  0.127122  chrX:170677032-170677956\n",
      "\n",
      "[127975 rows x 5 columns]\n",
      "       Chromosome      Start        End      aTPM                      Name\n",
      "0            chr1    3094753    3095675  0.075598      chr1:3094753-3095675\n",
      "1            chr1    3120133    3120689  0.075159      chr1:3120133-3120689\n",
      "2            chr1    3121252    3122011  0.080796      chr1:3121252-3122011\n",
      "3            chr1    3292425    3293285  0.134812      chr1:3292425-3293285\n",
      "4            chr1    3297205    3298011  0.067109      chr1:3297205-3298011\n",
      "...           ...        ...        ...       ...                       ...\n",
      "127970       chrX  170004064  170004736  0.092467  chrX:170004064-170004736\n",
      "127971       chrX  170004873  170005776  0.151887  chrX:170004873-170005776\n",
      "127972       chrX  170672396  170673174  0.056375  chrX:170672396-170673174\n",
      "127973       chrX  170674517  170675289  0.173147  chrX:170674517-170675289\n",
      "127974       chrX  170677032  170677956  0.083772  chrX:170677032-170677956\n",
      "\n",
      "[127975 rows x 5 columns]\n",
      "       Chromosome      Start        End      aTPM                      Name\n",
      "0            chr1    3094753    3095675  0.044651      chr1:3094753-3095675\n",
      "1            chr1    3120133    3120689  0.086326      chr1:3120133-3120689\n",
      "2            chr1    3121252    3122011  0.079318      chr1:3121252-3122011\n",
      "3            chr1    3292425    3293285  0.119320      chr1:3292425-3293285\n",
      "4            chr1    3297205    3298011  0.051502      chr1:3297205-3298011\n",
      "...           ...        ...        ...       ...                       ...\n",
      "127970       chrX  170004064  170004736  0.113312  chrX:170004064-170004736\n",
      "127971       chrX  170004873  170005776  0.159756  chrX:170004873-170005776\n",
      "127972       chrX  170672396  170673174  0.055511  chrX:170672396-170673174\n",
      "127973       chrX  170674517  170675289  0.162202  chrX:170674517-170675289\n",
      "127974       chrX  170677032  170677956  0.080502  chrX:170677032-170677956\n",
      "\n",
      "[127975 rows x 5 columns]\n",
      "       Chromosome      Start        End      aTPM                      Name\n",
      "0            chr1    3094753    3095675  0.000000      chr1:3094753-3095675\n",
      "1            chr1    3120133    3120689  0.089983      chr1:3120133-3120689\n",
      "2            chr1    3121252    3122011  0.163174      chr1:3121252-3122011\n",
      "3            chr1    3292425    3293285  0.212785      chr1:3292425-3293285\n",
      "4            chr1    3297205    3298011  0.055479      chr1:3297205-3298011\n",
      "...           ...        ...        ...       ...                       ...\n",
      "127970       chrX  170004064  170004736  0.089983  chrX:170004064-170004736\n",
      "127971       chrX  170004873  170005776  0.261779  chrX:170004873-170005776\n",
      "127972       chrX  170672396  170673174  0.061588  chrX:170672396-170673174\n",
      "127973       chrX  170674517  170675289  0.212785  chrX:170674517-170675289\n",
      "127974       chrX  170677032  170677956  0.115355  chrX:170677032-170677956\n",
      "\n",
      "[127975 rows x 5 columns]\n",
      "       Chromosome      Start        End      aTPM                      Name\n",
      "0            chr1    3094753    3095675  0.054391      chr1:3094753-3095675\n",
      "1            chr1    3120133    3120689  0.139313      chr1:3120133-3120689\n",
      "2            chr1    3121252    3122011  0.114624      chr1:3121252-3122011\n",
      "3            chr1    3292425    3293285  0.172890      chr1:3292425-3293285\n",
      "4            chr1    3297205    3298011  0.047751      chr1:3297205-3298011\n",
      "...           ...        ...        ...       ...                       ...\n",
      "127970       chrX  170004064  170004736  0.069117  chrX:170004064-170004736\n",
      "127971       chrX  170004873  170005776  0.128865  chrX:170004873-170005776\n",
      "127972       chrX  170672396  170673174  0.069117  chrX:170672396-170673174\n",
      "127973       chrX  170674517  170675289  0.187285  chrX:170674517-170675289\n",
      "127974       chrX  170677032  170677956  0.086653  chrX:170677032-170677956\n",
      "\n",
      "[127975 rows x 5 columns]\n",
      "       Chromosome      Start        End      aTPM                      Name\n",
      "0            chr1    3094753    3095675  0.000000      chr1:3094753-3095675\n",
      "1            chr1    3120133    3120689  0.018552      chr1:3120133-3120689\n",
      "2            chr1    3121252    3122011  0.018552      chr1:3121252-3122011\n",
      "3            chr1    3292425    3293285  0.018552      chr1:3292425-3293285\n",
      "4            chr1    3297205    3298011  0.027221      chr1:3297205-3298011\n",
      "...           ...        ...        ...       ...                       ...\n",
      "127970       chrX  170004064  170004736  0.058573  chrX:170004064-170004736\n",
      "127971       chrX  170004873  170005776  0.120494  chrX:170004873-170005776\n",
      "127972       chrX  170672396  170673174  0.035531  chrX:170672396-170673174\n",
      "127973       chrX  170674517  170675289  0.179971  chrX:170674517-170675289\n",
      "127974       chrX  170677032  170677956  0.018552  chrX:170677032-170677956\n",
      "\n",
      "[127975 rows x 5 columns]\n",
      "       Chromosome      Start        End      aTPM                      Name\n",
      "0            chr1    3094753    3095675  0.015351      chr1:3094753-3095675\n",
      "1            chr1    3120133    3120689  0.010393      chr1:3120133-3120689\n",
      "2            chr1    3121252    3122011  0.016971      chr1:3121252-3122011\n",
      "3            chr1    3292425    3293285  0.104541      chr1:3292425-3293285\n",
      "4            chr1    3297205    3298011  0.003539      chr1:3297205-3298011\n",
      "...           ...        ...        ...       ...                       ...\n",
      "127970       chrX  170004064  170004736  0.043662  chrX:170004064-170004736\n",
      "127971       chrX  170004873  170005776  0.071265  chrX:170004873-170005776\n",
      "127972       chrX  170672396  170673174  0.020162  chrX:170672396-170673174\n",
      "127973       chrX  170674517  170675289  0.049042  chrX:170674517-170675289\n",
      "127974       chrX  170677032  170677956  0.016971  chrX:170677032-170677956\n",
      "\n",
      "[127975 rows x 5 columns]\n",
      "       Chromosome      Start        End      aTPM                      Name\n",
      "0            chr1    3094753    3095675  0.057287      chr1:3094753-3095675\n",
      "1            chr1    3120133    3120689  0.008504      chr1:3120133-3120689\n",
      "2            chr1    3121252    3122011  0.036837      chr1:3121252-3122011\n",
      "3            chr1    3292425    3293285  0.027007      chr1:3292425-3293285\n",
      "4            chr1    3297205    3298011  0.021898      chr1:3297205-3298011\n",
      "...           ...        ...        ...       ...                       ...\n",
      "127970       chrX  170004064  170004736  0.071824  chrX:170004064-170004736\n",
      "127971       chrX  170004873  170005776  0.075785  chrX:170004873-170005776\n",
      "127972       chrX  170672396  170673174  0.036837  chrX:170672396-170673174\n",
      "127973       chrX  170674517  170675289  0.081578  chrX:170674517-170675289\n",
      "127974       chrX  170677032  170677956  0.031984  chrX:170677032-170677956\n",
      "\n",
      "[127975 rows x 5 columns]\n",
      "       Chromosome      Start        End      aTPM                      Name\n",
      "0            chr1    3094753    3095675  0.024907      chr1:3094753-3095675\n",
      "1            chr1    3120133    3120689  0.025842      chr1:3120133-3120689\n",
      "2            chr1    3121252    3122011  0.023023      chr1:3121252-3122011\n",
      "3            chr1    3292425    3293285  0.029542      chr1:3292425-3293285\n",
      "4            chr1    3297205    3298011  0.016288      chr1:3297205-3298011\n",
      "...           ...        ...        ...       ...                       ...\n",
      "127970       chrX  170004064  170004736  0.036746  chrX:170004064-170004736\n",
      "127971       chrX  170004873  170005776  0.083909  chrX:170004873-170005776\n",
      "127972       chrX  170672396  170673174  0.034074  chrX:170672396-170673174\n",
      "127973       chrX  170674517  170675289  0.080371  chrX:170674517-170675289\n",
      "127974       chrX  170677032  170677956  0.031367  chrX:170677032-170677956\n",
      "\n",
      "[127975 rows x 5 columns]\n",
      "       Chromosome      Start        End      aTPM                      Name\n",
      "0            chr1    3094753    3095675  0.044211      chr1:3094753-3095675\n",
      "1            chr1    3120133    3120689  0.023297      chr1:3120133-3120689\n",
      "2            chr1    3121252    3122011  0.023297      chr1:3121252-3122011\n",
      "3            chr1    3292425    3293285  0.044211      chr1:3292425-3293285\n",
      "4            chr1    3297205    3298011  0.000000      chr1:3297205-3298011\n",
      "...           ...        ...        ...       ...                       ...\n",
      "127970       chrX  170004064  170004736  0.000000  chrX:170004064-170004736\n",
      "127971       chrX  170004873  170005776  0.183102  chrX:170004873-170005776\n",
      "127972       chrX  170672396  170673174  0.023297  chrX:170672396-170673174\n",
      "127973       chrX  170674517  170675289  0.161873  chrX:170674517-170675289\n",
      "127974       chrX  170677032  170677956  0.080544  chrX:170677032-170677956\n",
      "\n",
      "[127975 rows x 5 columns]\n",
      "       Chromosome      Start        End      aTPM                      Name\n",
      "0            chr1    3094753    3095675  0.173828      chr1:3094753-3095675\n",
      "1            chr1    3120133    3120689  0.080687      chr1:3120133-3120689\n",
      "2            chr1    3121252    3122011  0.117362      chr1:3121252-3122011\n",
      "3            chr1    3292425    3293285  0.099004      chr1:3292425-3293285\n",
      "4            chr1    3297205    3298011  0.052567      chr1:3297205-3298011\n",
      "...           ...        ...        ...       ...                       ...\n",
      "127970       chrX  170004064  170004736  0.066458  chrX:170004064-170004736\n",
      "127971       chrX  170004873  170005776  0.131444  chrX:170004873-170005776\n",
      "127972       chrX  170672396  170673174  0.072141  chrX:170672396-170673174\n",
      "127973       chrX  170674517  170675289  0.207447  chrX:170674517-170675289\n",
      "127974       chrX  170677032  170677956  0.101727  chrX:170677032-170677956\n",
      "\n",
      "[127975 rows x 5 columns]\n",
      "       Chromosome      Start        End      aTPM                      Name\n",
      "0            chr1    3094753    3095675  0.235588      chr1:3094753-3095675\n",
      "1            chr1    3120133    3120689  0.070434      chr1:3120133-3120689\n",
      "2            chr1    3121252    3122011  0.113872      chr1:3121252-3122011\n",
      "3            chr1    3292425    3293285  0.080995      chr1:3292425-3293285\n",
      "4            chr1    3297205    3298011  0.043583      chr1:3297205-3298011\n",
      "...           ...        ...        ...       ...                       ...\n",
      "127970       chrX  170004064  170004736  0.078692  chrX:170004064-170004736\n",
      "127971       chrX  170004873  170005776  0.154161  chrX:170004873-170005776\n",
      "127972       chrX  170672396  170673174  0.063096  chrX:170672396-170673174\n",
      "127973       chrX  170674517  170675289  0.207478  chrX:170674517-170675289\n",
      "127974       chrX  170677032  170677956  0.127228  chrX:170677032-170677956\n",
      "\n",
      "[127975 rows x 5 columns]\n",
      "       Chromosome      Start        End      aTPM                      Name\n",
      "0            chr1    3094753    3095675  0.027817      chr1:3094753-3095675\n",
      "1            chr1    3120133    3120689  0.038460      chr1:3120133-3120689\n",
      "2            chr1    3121252    3122011  0.045198      chr1:3121252-3122011\n",
      "3            chr1    3292425    3293285  0.048469      chr1:3292425-3293285\n",
      "4            chr1    3297205    3298011  0.034987      chr1:3297205-3298011\n",
      "...           ...        ...        ...       ...                       ...\n",
      "127970       chrX  170004064  170004736  0.016454  chrX:170004064-170004736\n",
      "127971       chrX  170004873  170005776  0.093637  chrX:170004873-170005776\n",
      "127972       chrX  170672396  170673174  0.031440  chrX:170672396-170673174\n",
      "127973       chrX  170674517  170675289  0.110129  chrX:170674517-170675289\n",
      "127974       chrX  170677032  170677956  0.038460  chrX:170677032-170677956\n",
      "\n",
      "[127975 rows x 5 columns]\n",
      "       Chromosome      Start        End      aTPM                      Name\n",
      "0            chr1    3094753    3095675  0.126081      chr1:3094753-3095675\n",
      "1            chr1    3120133    3120689  0.058109      chr1:3120133-3120689\n",
      "2            chr1    3121252    3122011  0.045634      chr1:3121252-3122011\n",
      "3            chr1    3292425    3293285  0.091692      chr1:3292425-3293285\n",
      "4            chr1    3297205    3298011  0.021169      chr1:3297205-3298011\n",
      "...           ...        ...        ...       ...                       ...\n",
      "127970       chrX  170004064  170004736  0.087507  chrX:170004064-170004736\n",
      "127971       chrX  170004873  170005776  0.103778  chrX:170004873-170005776\n",
      "127972       chrX  170672396  170673174  0.048188  chrX:170672396-170673174\n",
      "127973       chrX  170674517  170675289  0.189751  chrX:170674517-170675289\n",
      "127974       chrX  170677032  170677956  0.103778  chrX:170677032-170677956\n",
      "\n",
      "[127975 rows x 5 columns]\n"
     ]
    }
   ],
   "source": [
    "for cell_type in celltype_for_modeling:\n",
    "    add_atpm(\n",
    "        \"aggr_multiome.zarr\",\n",
    "        f\"{cell_type.replace(\" \", \"_\").replace(\"/\", \"-\").lower()}.atac.bed\",\n",
    "        cell_type,\n",
    "    )"
   ]
  },
  {
   "cell_type": "markdown",
   "metadata": {},
   "source": [
    "### Add expression and TSS data to region x motif matrix"
   ]
  },
  {
   "cell_type": "code",
   "execution_count": 30,
   "metadata": {},
   "outputs": [
    {
     "name": "stderr",
     "output_type": "stream",
     "text": [
      "join: Strand data from other will be added as strand data to self.\n",
      "If this is undesired use the flag apply_strand_suffix=False.\n",
      "To turn off the warning set apply_strand_suffix to True or False.\n",
      "/gpfs/home/asun/jin_lab/get/pipeline2_aggr_preprocessing/preprocess_utils.py:338: FutureWarning: The default of observed=False is deprecated and will be changed to True in a future version of pandas. Pass observed=False to retain current behavior or observed=True to adopt the future default and silence this warning.\n",
      "  .groupby([\"index\", \"Strand\"])\n",
      "join: Strand data from other will be added as strand data to self.\n",
      "If this is undesired use the flag apply_strand_suffix=False.\n",
      "To turn off the warning set apply_strand_suffix to True or False.\n",
      "/gpfs/home/asun/jin_lab/get/pipeline2_aggr_preprocessing/preprocess_utils.py:338: FutureWarning: The default of observed=False is deprecated and will be changed to True in a future version of pandas. Pass observed=False to retain current behavior or observed=True to adopt the future default and silence this warning.\n",
      "  .groupby([\"index\", \"Strand\"])\n",
      "join: Strand data from other will be added as strand data to self.\n",
      "If this is undesired use the flag apply_strand_suffix=False.\n",
      "To turn off the warning set apply_strand_suffix to True or False.\n",
      "/gpfs/home/asun/jin_lab/get/pipeline2_aggr_preprocessing/preprocess_utils.py:338: FutureWarning: The default of observed=False is deprecated and will be changed to True in a future version of pandas. Pass observed=False to retain current behavior or observed=True to adopt the future default and silence this warning.\n",
      "  .groupby([\"index\", \"Strand\"])\n",
      "join: Strand data from other will be added as strand data to self.\n",
      "If this is undesired use the flag apply_strand_suffix=False.\n",
      "To turn off the warning set apply_strand_suffix to True or False.\n",
      "/gpfs/home/asun/jin_lab/get/pipeline2_aggr_preprocessing/preprocess_utils.py:338: FutureWarning: The default of observed=False is deprecated and will be changed to True in a future version of pandas. Pass observed=False to retain current behavior or observed=True to adopt the future default and silence this warning.\n",
      "  .groupby([\"index\", \"Strand\"])\n",
      "join: Strand data from other will be added as strand data to self.\n",
      "If this is undesired use the flag apply_strand_suffix=False.\n",
      "To turn off the warning set apply_strand_suffix to True or False.\n",
      "/gpfs/home/asun/jin_lab/get/pipeline2_aggr_preprocessing/preprocess_utils.py:338: FutureWarning: The default of observed=False is deprecated and will be changed to True in a future version of pandas. Pass observed=False to retain current behavior or observed=True to adopt the future default and silence this warning.\n",
      "  .groupby([\"index\", \"Strand\"])\n",
      "join: Strand data from other will be added as strand data to self.\n",
      "If this is undesired use the flag apply_strand_suffix=False.\n",
      "To turn off the warning set apply_strand_suffix to True or False.\n",
      "/gpfs/home/asun/jin_lab/get/pipeline2_aggr_preprocessing/preprocess_utils.py:338: FutureWarning: The default of observed=False is deprecated and will be changed to True in a future version of pandas. Pass observed=False to retain current behavior or observed=True to adopt the future default and silence this warning.\n",
      "  .groupby([\"index\", \"Strand\"])\n",
      "join: Strand data from other will be added as strand data to self.\n",
      "If this is undesired use the flag apply_strand_suffix=False.\n",
      "To turn off the warning set apply_strand_suffix to True or False.\n",
      "/gpfs/home/asun/jin_lab/get/pipeline2_aggr_preprocessing/preprocess_utils.py:338: FutureWarning: The default of observed=False is deprecated and will be changed to True in a future version of pandas. Pass observed=False to retain current behavior or observed=True to adopt the future default and silence this warning.\n",
      "  .groupby([\"index\", \"Strand\"])\n",
      "join: Strand data from other will be added as strand data to self.\n",
      "If this is undesired use the flag apply_strand_suffix=False.\n",
      "To turn off the warning set apply_strand_suffix to True or False.\n",
      "/gpfs/home/asun/jin_lab/get/pipeline2_aggr_preprocessing/preprocess_utils.py:338: FutureWarning: The default of observed=False is deprecated and will be changed to True in a future version of pandas. Pass observed=False to retain current behavior or observed=True to adopt the future default and silence this warning.\n",
      "  .groupby([\"index\", \"Strand\"])\n",
      "join: Strand data from other will be added as strand data to self.\n",
      "If this is undesired use the flag apply_strand_suffix=False.\n",
      "To turn off the warning set apply_strand_suffix to True or False.\n",
      "/gpfs/home/asun/jin_lab/get/pipeline2_aggr_preprocessing/preprocess_utils.py:338: FutureWarning: The default of observed=False is deprecated and will be changed to True in a future version of pandas. Pass observed=False to retain current behavior or observed=True to adopt the future default and silence this warning.\n",
      "  .groupby([\"index\", \"Strand\"])\n",
      "join: Strand data from other will be added as strand data to self.\n",
      "If this is undesired use the flag apply_strand_suffix=False.\n",
      "To turn off the warning set apply_strand_suffix to True or False.\n",
      "/gpfs/home/asun/jin_lab/get/pipeline2_aggr_preprocessing/preprocess_utils.py:338: FutureWarning: The default of observed=False is deprecated and will be changed to True in a future version of pandas. Pass observed=False to retain current behavior or observed=True to adopt the future default and silence this warning.\n",
      "  .groupby([\"index\", \"Strand\"])\n",
      "join: Strand data from other will be added as strand data to self.\n",
      "If this is undesired use the flag apply_strand_suffix=False.\n",
      "To turn off the warning set apply_strand_suffix to True or False.\n",
      "/gpfs/home/asun/jin_lab/get/pipeline2_aggr_preprocessing/preprocess_utils.py:338: FutureWarning: The default of observed=False is deprecated and will be changed to True in a future version of pandas. Pass observed=False to retain current behavior or observed=True to adopt the future default and silence this warning.\n",
      "  .groupby([\"index\", \"Strand\"])\n",
      "join: Strand data from other will be added as strand data to self.\n",
      "If this is undesired use the flag apply_strand_suffix=False.\n",
      "To turn off the warning set apply_strand_suffix to True or False.\n",
      "/gpfs/home/asun/jin_lab/get/pipeline2_aggr_preprocessing/preprocess_utils.py:338: FutureWarning: The default of observed=False is deprecated and will be changed to True in a future version of pandas. Pass observed=False to retain current behavior or observed=True to adopt the future default and silence this warning.\n",
      "  .groupby([\"index\", \"Strand\"])\n",
      "join: Strand data from other will be added as strand data to self.\n",
      "If this is undesired use the flag apply_strand_suffix=False.\n",
      "To turn off the warning set apply_strand_suffix to True or False.\n",
      "/gpfs/home/asun/jin_lab/get/pipeline2_aggr_preprocessing/preprocess_utils.py:338: FutureWarning: The default of observed=False is deprecated and will be changed to True in a future version of pandas. Pass observed=False to retain current behavior or observed=True to adopt the future default and silence this warning.\n",
      "  .groupby([\"index\", \"Strand\"])\n",
      "join: Strand data from other will be added as strand data to self.\n",
      "If this is undesired use the flag apply_strand_suffix=False.\n",
      "To turn off the warning set apply_strand_suffix to True or False.\n",
      "/gpfs/home/asun/jin_lab/get/pipeline2_aggr_preprocessing/preprocess_utils.py:338: FutureWarning: The default of observed=False is deprecated and will be changed to True in a future version of pandas. Pass observed=False to retain current behavior or observed=True to adopt the future default and silence this warning.\n",
      "  .groupby([\"index\", \"Strand\"])\n",
      "join: Strand data from other will be added as strand data to self.\n",
      "If this is undesired use the flag apply_strand_suffix=False.\n",
      "To turn off the warning set apply_strand_suffix to True or False.\n",
      "/gpfs/home/asun/jin_lab/get/pipeline2_aggr_preprocessing/preprocess_utils.py:338: FutureWarning: The default of observed=False is deprecated and will be changed to True in a future version of pandas. Pass observed=False to retain current behavior or observed=True to adopt the future default and silence this warning.\n",
      "  .groupby([\"index\", \"Strand\"])\n",
      "join: Strand data from other will be added as strand data to self.\n",
      "If this is undesired use the flag apply_strand_suffix=False.\n",
      "To turn off the warning set apply_strand_suffix to True or False.\n",
      "/gpfs/home/asun/jin_lab/get/pipeline2_aggr_preprocessing/preprocess_utils.py:338: FutureWarning: The default of observed=False is deprecated and will be changed to True in a future version of pandas. Pass observed=False to retain current behavior or observed=True to adopt the future default and silence this warning.\n",
      "  .groupby([\"index\", \"Strand\"])\n",
      "join: Strand data from other will be added as strand data to self.\n",
      "If this is undesired use the flag apply_strand_suffix=False.\n",
      "To turn off the warning set apply_strand_suffix to True or False.\n",
      "/gpfs/home/asun/jin_lab/get/pipeline2_aggr_preprocessing/preprocess_utils.py:338: FutureWarning: The default of observed=False is deprecated and will be changed to True in a future version of pandas. Pass observed=False to retain current behavior or observed=True to adopt the future default and silence this warning.\n",
      "  .groupby([\"index\", \"Strand\"])\n",
      "join: Strand data from other will be added as strand data to self.\n",
      "If this is undesired use the flag apply_strand_suffix=False.\n",
      "To turn off the warning set apply_strand_suffix to True or False.\n",
      "/gpfs/home/asun/jin_lab/get/pipeline2_aggr_preprocessing/preprocess_utils.py:338: FutureWarning: The default of observed=False is deprecated and will be changed to True in a future version of pandas. Pass observed=False to retain current behavior or observed=True to adopt the future default and silence this warning.\n",
      "  .groupby([\"index\", \"Strand\"])\n",
      "join: Strand data from other will be added as strand data to self.\n",
      "If this is undesired use the flag apply_strand_suffix=False.\n",
      "To turn off the warning set apply_strand_suffix to True or False.\n",
      "/gpfs/home/asun/jin_lab/get/pipeline2_aggr_preprocessing/preprocess_utils.py:338: FutureWarning: The default of observed=False is deprecated and will be changed to True in a future version of pandas. Pass observed=False to retain current behavior or observed=True to adopt the future default and silence this warning.\n",
      "  .groupby([\"index\", \"Strand\"])\n"
     ]
    }
   ],
   "source": [
    "for cell_type in celltype_for_modeling:\n",
    "    add_exp(\n",
    "        \"aggr_multiome.zarr\",\n",
    "        f\"{cell_type.replace(\" \", \"_\").replace(\"/\", \"-\").lower()}.rna.csv\",\n",
    "        f\"{cell_type.replace(\" \", \"_\").replace(\"/\", \"-\").lower()}.atac.bed\",\n",
    "        cell_type,\n",
    "        assembly=\"mm10\",\n",
    "        version=\"M36\",\n",
    "        extend_bp=300, # extend TSS region to 300bp upstream and downstream when overlapping with peaks\n",
    "        id_or_name=\"gene_name\", # use gene_name or gene_id to match the gene expression data, checkout your rna.csv file column names, should be either [gene_name, TPM] or [gene_id, TPM]\n",
    ")"
   ]
  },
  {
   "cell_type": "markdown",
   "metadata": {},
   "source": [
    "### Clean up intermediate files"
   ]
  },
  {
   "cell_type": "code",
   "execution_count": 31,
   "metadata": {},
   "outputs": [],
   "source": [
    "for file in [peaks_motif, get_motif_output]:\n",
    "    os.remove(file)"
   ]
  },
  {
   "cell_type": "markdown",
   "metadata": {},
   "source": [
    "This has conclude the data processing steps."
   ]
  }
 ],
 "metadata": {
  "kernelspec": {
   "display_name": "Python 3 (ipykernel)",
   "language": "python",
   "name": "python3"
  },
  "language_info": {
   "codemirror_mode": {
    "name": "ipython",
    "version": 3
   },
   "file_extension": ".py",
   "mimetype": "text/x-python",
   "name": "python",
   "nbconvert_exporter": "python",
   "pygments_lexer": "ipython3",
   "version": "3.12.9"
  }
 },
 "nbformat": 4,
 "nbformat_minor": 4
}
