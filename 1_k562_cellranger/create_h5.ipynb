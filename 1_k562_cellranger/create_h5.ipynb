{
 "cells": [
  {
   "cell_type": "code",
   "execution_count": null,
   "metadata": {},
   "outputs": [],
   "source": [
    "import scanpy as sc\n",
    "import scipy.io\n",
    "import pandas as pd\n",
    "\n",
    "# File paths for Replicate 1 (ATAC and RNA)\n",
    "atac_matrix_file_1 = \"GSM8780558_K562_DMSO_ATAC_1_matrix.mtx.gz\"\n",
    "atac_barcodes_file_1 = \"GSM8780558_K562_DMSO_ATAC_1_barcodes.tsv.gz\"\n",
    "atac_fragments_file_1 = \"GSM8780558_K562_DMSO_ATAC_1_atac_fragments.tsv.gz\"\n",
    "\n",
    "rna_matrix_file_1 = \"GSM8780566_K562_DMSO_RNA_1_matrix.mtx.gz\"\n",
    "rna_barcodes_file_1 = \"GSM8780566_K562_DMSO_RNA_1_barcodes.tsv.gz\"\n",
    "rna_features_file_1 = \"GSM8780566_K562_DMSO_RNA_1_features.tsv.gz\"\n",
    "\n",
    "# File paths for Replicate 2 (ATAC and RNA)\n",
    "atac_matrix_file_2 = \"GSM8780559_K562_DMSO_ATAC_2_matrix.mtx.gz\"\n",
    "atac_barcodes_file_2 = \"GSM8780559_K562_DMSO_ATAC_2_barcodes.tsv.gz\"\n",
    "atac_fragments_file_2 = \"GSM8780559_K562_DMSO_ATAC_2_atac_fragments.tsv.gz\"\n",
    "\n",
    "rna_matrix_file_2 = \"GSM8780567_K562_DMSO_RNA_2_matrix.mtx.gz\"\n",
    "rna_barcodes_file_2 = \"GSM8780567_K562_DMSO_RNA_2_barcodes.tsv.gz\"\n",
    "rna_features_file_2 = \"GSM8780567_K562_DMSO_RNA_2_features.tsv.gz\"\n",
    "\n",
    "# 1. Load the ATAC-seq data matrices (MTX format)\n",
    "atac_matrix_1 = scipy.io.mmread(atac_matrix_file_1).tocsc()\n",
    "atac_matrix_2 = scipy.io.mmread(atac_matrix_file_2).tocsc()\n",
    "\n",
    "# 2. Load the RNA-seq data matrices (MTX format)\n",
    "rna_matrix_1 = scipy.io.mmread(rna_matrix_file_1).tocsc()\n",
    "rna_matrix_2 = scipy.io.mmread(rna_matrix_file_2).tocsc()\n",
    "\n",
    "# 3. Load the barcodes (cells)\n",
    "atac_barcodes_1 = pd.read_csv(atac_barcodes_file_1, header=None, sep=\"\\t\").squeeze().tolist()\n",
    "atac_barcodes_2 = pd.read_csv(atac_barcodes_file_2, header=None, sep=\"\\t\").squeeze().tolist()\n",
    "\n",
    "rna_barcodes_1 = pd.read_csv(rna_barcodes_file_1, header=None, sep=\"\\t\").squeeze().tolist()\n",
    "rna_barcodes_2 = pd.read_csv(rna_barcodes_file_2, header=None, sep=\"\\t\").squeeze().tolist()\n",
    "\n",
    "# 4. Load the features (fragments for ATAC-seq, genes for RNA-seq)\n",
    "atac_fragments_1 = pd.read_csv(atac_fragments_file_1, header=None, sep=\"\\t\").squeeze().tolist()\n",
    "atac_fragments_2 = pd.read_csv(atac_fragments_file_2, header=None, sep=\"\\t\").squeeze().tolist()\n",
    "\n",
    "rna_features_1 = pd.read_csv(rna_features_file_1, header=None, sep=\"\\t\").squeeze().tolist()\n",
    "rna_features_2 = pd.read_csv(rna_features_file_2, header=None, sep=\"\\t\").squeeze().tolist()\n",
    "\n",
    "# 5. Combine the matrices, barcodes, and features\n",
    "atac_matrix = scipy.sparse.hstack([atac_matrix_1, atac_matrix_2])\n",
    "rna_matrix = scipy.sparse.hstack([rna_matrix_1, rna_matrix_2])\n",
    "\n",
    "barcodes = atac_barcodes_1 + atac_barcodes_2  # Barcodes are the same for ATAC and RNA (same cells)\n",
    "fragments = atac_fragments_1 + atac_fragments_2  # ATAC features (fragments)\n",
    "rna_features = rna_features_1 + rna_features_2  # RNA features (genes)\n",
    "\n",
    "# 6. Create the AnnData object for combined ATAC and RNA data (with two modalities)\n",
    "adata = sc.AnnData(atac_matrix.T)  # Transpose to make it (cells x features)\n",
    "adata.obs_names = barcodes  # Cells (barcodes)\n",
    "adata.var_names = fragments  # ATAC-seq features (fragments)\n",
    "\n",
    "# Add RNA data to the AnnData object\n",
    "adata.raw = sc.AnnData(rna_matrix.T)  # Store RNA data as raw (i.e., not normalized)\n",
    "adata.raw.obs_names = barcodes  # Same barcodes (cells)\n",
    "adata.raw.var_names = rna_features  # RNA features (genes)\n",
    "\n",
    "# 7. Save the combined AnnData object to an H5AD file (HDF5 format)\n",
    "adata.write(\"K562_DMSO_ATAC_RNA_combined_replicates.h5ad\")\n",
    "\n",
    "print(\"HDF5 file created: K562_DMSO_ATAC_RNA_combined_replicates.h5ad\")"
   ]
  },
  {
   "cell_type": "code",
   "execution_count": 2,
   "metadata": {},
   "outputs": [
    {
     "ename": "AttributeError",
     "evalue": "'DataFrame' object has no attribute 'tolist'",
     "output_type": "error",
     "traceback": [
      "\u001b[0;31m---------------------------------------------------------------------------\u001b[0m",
      "\u001b[0;31mAttributeError\u001b[0m                            Traceback (most recent call last)",
      "\u001b[0;32m/tmp/ipykernel_24186/2473102324.py\u001b[0m in \u001b[0;36m?\u001b[0;34m()\u001b[0m\n\u001b[1;32m     39\u001b[0m \u001b[0mrna_barcodes_1\u001b[0m \u001b[0;34m=\u001b[0m \u001b[0mpd\u001b[0m\u001b[0;34m.\u001b[0m\u001b[0mread_csv\u001b[0m\u001b[0;34m(\u001b[0m\u001b[0mrna_barcodes_file_1\u001b[0m\u001b[0;34m,\u001b[0m \u001b[0mheader\u001b[0m\u001b[0;34m=\u001b[0m\u001b[0;32mNone\u001b[0m\u001b[0;34m,\u001b[0m \u001b[0msep\u001b[0m\u001b[0;34m=\u001b[0m\u001b[0;34m\"\\t\"\u001b[0m\u001b[0;34m)\u001b[0m\u001b[0;34m.\u001b[0m\u001b[0msqueeze\u001b[0m\u001b[0;34m(\u001b[0m\u001b[0;34m)\u001b[0m\u001b[0;34m.\u001b[0m\u001b[0mtolist\u001b[0m\u001b[0;34m(\u001b[0m\u001b[0;34m)\u001b[0m\u001b[0;34m\u001b[0m\u001b[0;34m\u001b[0m\u001b[0m\n\u001b[1;32m     40\u001b[0m \u001b[0mrna_barcodes_2\u001b[0m \u001b[0;34m=\u001b[0m \u001b[0mpd\u001b[0m\u001b[0;34m.\u001b[0m\u001b[0mread_csv\u001b[0m\u001b[0;34m(\u001b[0m\u001b[0mrna_barcodes_file_2\u001b[0m\u001b[0;34m,\u001b[0m \u001b[0mheader\u001b[0m\u001b[0;34m=\u001b[0m\u001b[0;32mNone\u001b[0m\u001b[0;34m,\u001b[0m \u001b[0msep\u001b[0m\u001b[0;34m=\u001b[0m\u001b[0;34m\"\\t\"\u001b[0m\u001b[0;34m)\u001b[0m\u001b[0;34m.\u001b[0m\u001b[0msqueeze\u001b[0m\u001b[0;34m(\u001b[0m\u001b[0;34m)\u001b[0m\u001b[0;34m.\u001b[0m\u001b[0mtolist\u001b[0m\u001b[0;34m(\u001b[0m\u001b[0;34m)\u001b[0m\u001b[0;34m\u001b[0m\u001b[0;34m\u001b[0m\u001b[0m\n\u001b[1;32m     41\u001b[0m \u001b[0;34m\u001b[0m\u001b[0m\n\u001b[1;32m     42\u001b[0m \u001b[0;31m# 4. Load the features (fragments for ATAC-seq, genes for RNA-seq)\u001b[0m\u001b[0;34m\u001b[0m\u001b[0;34m\u001b[0m\u001b[0m\n\u001b[0;32m---> 43\u001b[0;31m \u001b[0matac_fragments_1\u001b[0m \u001b[0;34m=\u001b[0m \u001b[0mpd\u001b[0m\u001b[0;34m.\u001b[0m\u001b[0mread_csv\u001b[0m\u001b[0;34m(\u001b[0m\u001b[0matac_fragments_file_1\u001b[0m\u001b[0;34m,\u001b[0m \u001b[0mheader\u001b[0m\u001b[0;34m=\u001b[0m\u001b[0;32mNone\u001b[0m\u001b[0;34m,\u001b[0m \u001b[0msep\u001b[0m\u001b[0;34m=\u001b[0m\u001b[0;34m\"\\t\"\u001b[0m\u001b[0;34m,\u001b[0m \u001b[0mcomment\u001b[0m\u001b[0;34m=\u001b[0m\u001b[0;34m\"#\"\u001b[0m\u001b[0;34m)\u001b[0m\u001b[0;34m.\u001b[0m\u001b[0msqueeze\u001b[0m\u001b[0;34m(\u001b[0m\u001b[0;34m)\u001b[0m\u001b[0;34m.\u001b[0m\u001b[0mtolist\u001b[0m\u001b[0;34m(\u001b[0m\u001b[0;34m)\u001b[0m\u001b[0;34m\u001b[0m\u001b[0;34m\u001b[0m\u001b[0m\n\u001b[0m\u001b[1;32m     44\u001b[0m \u001b[0matac_fragments_2\u001b[0m \u001b[0;34m=\u001b[0m \u001b[0mpd\u001b[0m\u001b[0;34m.\u001b[0m\u001b[0mread_csv\u001b[0m\u001b[0;34m(\u001b[0m\u001b[0matac_fragments_file_2\u001b[0m\u001b[0;34m,\u001b[0m \u001b[0mheader\u001b[0m\u001b[0;34m=\u001b[0m\u001b[0;32mNone\u001b[0m\u001b[0;34m,\u001b[0m \u001b[0msep\u001b[0m\u001b[0;34m=\u001b[0m\u001b[0;34m\"\\t\"\u001b[0m\u001b[0;34m,\u001b[0m \u001b[0mcomment\u001b[0m\u001b[0;34m=\u001b[0m\u001b[0;34m\"#\"\u001b[0m\u001b[0;34m)\u001b[0m\u001b[0;34m.\u001b[0m\u001b[0msqueeze\u001b[0m\u001b[0;34m(\u001b[0m\u001b[0;34m)\u001b[0m\u001b[0;34m.\u001b[0m\u001b[0mtolist\u001b[0m\u001b[0;34m(\u001b[0m\u001b[0;34m)\u001b[0m\u001b[0;34m\u001b[0m\u001b[0;34m\u001b[0m\u001b[0m\n\u001b[1;32m     45\u001b[0m \u001b[0;34m\u001b[0m\u001b[0m\n\u001b[1;32m     46\u001b[0m \u001b[0mrna_features_1\u001b[0m \u001b[0;34m=\u001b[0m \u001b[0mpd\u001b[0m\u001b[0;34m.\u001b[0m\u001b[0mread_csv\u001b[0m\u001b[0;34m(\u001b[0m\u001b[0mrna_features_file_1\u001b[0m\u001b[0;34m,\u001b[0m \u001b[0mheader\u001b[0m\u001b[0;34m=\u001b[0m\u001b[0;32mNone\u001b[0m\u001b[0;34m,\u001b[0m \u001b[0msep\u001b[0m\u001b[0;34m=\u001b[0m\u001b[0;34m\"\\t\"\u001b[0m\u001b[0;34m)\u001b[0m\u001b[0;34m.\u001b[0m\u001b[0msqueeze\u001b[0m\u001b[0;34m(\u001b[0m\u001b[0;34m)\u001b[0m\u001b[0;34m.\u001b[0m\u001b[0mtolist\u001b[0m\u001b[0;34m(\u001b[0m\u001b[0;34m)\u001b[0m\u001b[0;34m\u001b[0m\u001b[0;34m\u001b[0m\u001b[0m\n",
      "\u001b[0;32m~/miniforge3/envs/get/lib/python3.12/site-packages/pandas/core/generic.py\u001b[0m in \u001b[0;36m?\u001b[0;34m(self, name)\u001b[0m\n\u001b[1;32m   6314\u001b[0m             \u001b[0;32mand\u001b[0m \u001b[0mname\u001b[0m \u001b[0;32mnot\u001b[0m \u001b[0;32min\u001b[0m \u001b[0mself\u001b[0m\u001b[0;34m.\u001b[0m\u001b[0m_accessors\u001b[0m\u001b[0;34m\u001b[0m\u001b[0;34m\u001b[0m\u001b[0m\n\u001b[1;32m   6315\u001b[0m             \u001b[0;32mand\u001b[0m \u001b[0mself\u001b[0m\u001b[0;34m.\u001b[0m\u001b[0m_info_axis\u001b[0m\u001b[0;34m.\u001b[0m\u001b[0m_can_hold_identifiers_and_holds_name\u001b[0m\u001b[0;34m(\u001b[0m\u001b[0mname\u001b[0m\u001b[0;34m)\u001b[0m\u001b[0;34m\u001b[0m\u001b[0;34m\u001b[0m\u001b[0m\n\u001b[1;32m   6316\u001b[0m         \u001b[0;34m)\u001b[0m\u001b[0;34m:\u001b[0m\u001b[0;34m\u001b[0m\u001b[0;34m\u001b[0m\u001b[0m\n\u001b[1;32m   6317\u001b[0m             \u001b[0;32mreturn\u001b[0m \u001b[0mself\u001b[0m\u001b[0;34m[\u001b[0m\u001b[0mname\u001b[0m\u001b[0;34m]\u001b[0m\u001b[0;34m\u001b[0m\u001b[0;34m\u001b[0m\u001b[0m\n\u001b[0;32m-> 6318\u001b[0;31m         \u001b[0;32mreturn\u001b[0m \u001b[0mobject\u001b[0m\u001b[0;34m.\u001b[0m\u001b[0m__getattribute__\u001b[0m\u001b[0;34m(\u001b[0m\u001b[0mself\u001b[0m\u001b[0;34m,\u001b[0m \u001b[0mname\u001b[0m\u001b[0;34m)\u001b[0m\u001b[0;34m\u001b[0m\u001b[0;34m\u001b[0m\u001b[0m\n\u001b[0m",
      "\u001b[0;31mAttributeError\u001b[0m: 'DataFrame' object has no attribute 'tolist'"
     ]
    }
   ],
   "source": [
    "import scanpy as sc\n",
    "import scipy.io\n",
    "import pandas as pd\n",
    "import os\n",
    "\n",
    "# Define input directory path (change this to the path where your files are located)\n",
    "input_dir = \"/gpfs/home/asun/jin_lab/get/raw_data/k562\"  # Set the appropriate directory path\n",
    "\n",
    "# File paths for Replicate 1 (ATAC and RNA)\n",
    "atac_matrix_file_1 = os.path.join(input_dir, \"GSM8780558_K562_DMSO_ATAC_1_matrix.mtx.gz\")\n",
    "atac_barcodes_file_1 = os.path.join(input_dir, \"GSM8780558_K562_DMSO_ATAC_1_barcodes.tsv.gz\")\n",
    "atac_fragments_file_1 = os.path.join(input_dir, \"GSM8780558_K562_DMSO_ATAC_1_atac_fragments.tsv.gz\")\n",
    "\n",
    "rna_matrix_file_1 = os.path.join(input_dir, \"GSM8780566_K562_DMSO_RNA_1_matrix.mtx.gz\")\n",
    "rna_barcodes_file_1 = os.path.join(input_dir, \"GSM8780566_K562_DMSO_RNA_1_barcodes.tsv.gz\")\n",
    "rna_features_file_1 = os.path.join(input_dir, \"GSM8780566_K562_DMSO_RNA_1_features.tsv.gz\")\n",
    "\n",
    "# File paths for Replicate 2 (ATAC and RNA)\n",
    "atac_matrix_file_2 = os.path.join(input_dir, \"GSM8780559_K562_DMSO_ATAC_2_matrix.mtx.gz\")\n",
    "atac_barcodes_file_2 = os.path.join(input_dir, \"GSM8780559_K562_DMSO_ATAC_2_barcodes.tsv.gz\")\n",
    "atac_fragments_file_2 = os.path.join(input_dir, \"GSM8780559_K562_DMSO_ATAC_2_atac_fragments.tsv.gz\")\n",
    "\n",
    "rna_matrix_file_2 = os.path.join(input_dir, \"GSM8780567_K562_DMSO_RNA_2_matrix.mtx.gz\")\n",
    "rna_barcodes_file_2 = os.path.join(input_dir, \"GSM8780567_K562_DMSO_RNA_2_barcodes.tsv.gz\")\n",
    "rna_features_file_2 = os.path.join(input_dir, \"GSM8780567_K562_DMSO_RNA_2_features.tsv.gz\")\n",
    "\n",
    "# 1. Load the ATAC-seq data matrices (MTX format)\n",
    "atac_matrix_1 = scipy.io.mmread(atac_matrix_file_1).tocsc()\n",
    "atac_matrix_2 = scipy.io.mmread(atac_matrix_file_2).tocsc()\n",
    "\n",
    "# 2. Load the RNA-seq data matrices (MTX format)\n",
    "rna_matrix_1 = scipy.io.mmread(rna_matrix_file_1).tocsc()\n",
    "rna_matrix_2 = scipy.io.mmread(rna_matrix_file_2).tocsc()\n",
    "\n"
   ]
  },
  {
   "cell_type": "code",
   "execution_count": 3,
   "metadata": {},
   "outputs": [
    {
     "data": {
      "text/plain": [
       "<Compressed Sparse Column sparse matrix of dtype 'int64'\n",
       "\twith 135186850 stored elements and shape (246390, 13547)>"
      ]
     },
     "execution_count": 3,
     "metadata": {},
     "output_type": "execute_result"
    }
   ],
   "source": [
    "rna_matrix_2"
   ]
  },
  {
   "cell_type": "code",
   "execution_count": 4,
   "metadata": {},
   "outputs": [],
   "source": [
    "atac_barcodes_1 = pd.read_csv(atac_barcodes_file_1, header=None, sep=\"\\t\")"
   ]
  },
  {
   "cell_type": "code",
   "execution_count": 5,
   "metadata": {},
   "outputs": [
    {
     "data": {
      "text/html": [
       "<div>\n",
       "<style scoped>\n",
       "    .dataframe tbody tr th:only-of-type {\n",
       "        vertical-align: middle;\n",
       "    }\n",
       "\n",
       "    .dataframe tbody tr th {\n",
       "        vertical-align: top;\n",
       "    }\n",
       "\n",
       "    .dataframe thead th {\n",
       "        text-align: right;\n",
       "    }\n",
       "</style>\n",
       "<table border=\"1\" class=\"dataframe\">\n",
       "  <thead>\n",
       "    <tr style=\"text-align: right;\">\n",
       "      <th></th>\n",
       "      <th>0</th>\n",
       "    </tr>\n",
       "  </thead>\n",
       "  <tbody>\n",
       "    <tr>\n",
       "      <th>0</th>\n",
       "      <td>AAACAGCCAAATATCC-1</td>\n",
       "    </tr>\n",
       "    <tr>\n",
       "      <th>1</th>\n",
       "      <td>AAACAGCCACCGGTAT-1</td>\n",
       "    </tr>\n",
       "    <tr>\n",
       "      <th>2</th>\n",
       "      <td>AAACAGCCACGCAACT-1</td>\n",
       "    </tr>\n",
       "    <tr>\n",
       "      <th>3</th>\n",
       "      <td>AAACAGCCATCACAGC-1</td>\n",
       "    </tr>\n",
       "    <tr>\n",
       "      <th>4</th>\n",
       "      <td>AAACAGCCATGTTGGC-1</td>\n",
       "    </tr>\n",
       "    <tr>\n",
       "      <th>...</th>\n",
       "      <td>...</td>\n",
       "    </tr>\n",
       "    <tr>\n",
       "      <th>12616</th>\n",
       "      <td>TTTGTGTTCGGTCAAT-1</td>\n",
       "    </tr>\n",
       "    <tr>\n",
       "      <th>12617</th>\n",
       "      <td>TTTGTTGGTCACGAAC-1</td>\n",
       "    </tr>\n",
       "    <tr>\n",
       "      <th>12618</th>\n",
       "      <td>TTTGTTGGTCCTTCAG-1</td>\n",
       "    </tr>\n",
       "    <tr>\n",
       "      <th>12619</th>\n",
       "      <td>TTTGTTGGTGGTTATG-1</td>\n",
       "    </tr>\n",
       "    <tr>\n",
       "      <th>12620</th>\n",
       "      <td>TTTGTTGGTTTGGGCG-1</td>\n",
       "    </tr>\n",
       "  </tbody>\n",
       "</table>\n",
       "<p>12621 rows × 1 columns</p>\n",
       "</div>"
      ],
      "text/plain": [
       "                        0\n",
       "0      AAACAGCCAAATATCC-1\n",
       "1      AAACAGCCACCGGTAT-1\n",
       "2      AAACAGCCACGCAACT-1\n",
       "3      AAACAGCCATCACAGC-1\n",
       "4      AAACAGCCATGTTGGC-1\n",
       "...                   ...\n",
       "12616  TTTGTGTTCGGTCAAT-1\n",
       "12617  TTTGTTGGTCACGAAC-1\n",
       "12618  TTTGTTGGTCCTTCAG-1\n",
       "12619  TTTGTTGGTGGTTATG-1\n",
       "12620  TTTGTTGGTTTGGGCG-1\n",
       "\n",
       "[12621 rows x 1 columns]"
      ]
     },
     "execution_count": 5,
     "metadata": {},
     "output_type": "execute_result"
    }
   ],
   "source": [
    "atac_barcodes_1"
   ]
  },
  {
   "cell_type": "code",
   "execution_count": null,
   "metadata": {},
   "outputs": [],
   "source": [
    "# 3. Load the barcodes (cells)\n",
    "atac_barcodes_1 = pd.read_csv(atac_barcodes_file_1, header=None, sep=\"\\t\").squeeze().tolist()\n",
    "atac_barcodes_2 = pd.read_csv(atac_barcodes_file_2, header=None, sep=\"\\t\").squeeze().tolist()\n",
    "\n",
    "rna_barcodes_1 = pd.read_csv(rna_barcodes_file_1, header=None, sep=\"\\t\").squeeze().tolist()\n",
    "rna_barcodes_2 = pd.read_csv(rna_barcodes_file_2, header=None, sep=\"\\t\").squeeze().tolist()\n",
    "\n"
   ]
  },
  {
   "cell_type": "code",
   "execution_count": 6,
   "metadata": {},
   "outputs": [],
   "source": [
    "atac_fragments_1 = pd.read_csv(atac_fragments_file_1, header=None, sep=\"\\t\", comment=\"#\")"
   ]
  },
  {
   "cell_type": "code",
   "execution_count": 7,
   "metadata": {},
   "outputs": [
    {
     "data": {
      "text/html": [
       "<div>\n",
       "<style scoped>\n",
       "    .dataframe tbody tr th:only-of-type {\n",
       "        vertical-align: middle;\n",
       "    }\n",
       "\n",
       "    .dataframe tbody tr th {\n",
       "        vertical-align: top;\n",
       "    }\n",
       "\n",
       "    .dataframe thead th {\n",
       "        text-align: right;\n",
       "    }\n",
       "</style>\n",
       "<table border=\"1\" class=\"dataframe\">\n",
       "  <thead>\n",
       "    <tr style=\"text-align: right;\">\n",
       "      <th></th>\n",
       "      <th>0</th>\n",
       "      <th>1</th>\n",
       "      <th>2</th>\n",
       "      <th>3</th>\n",
       "      <th>4</th>\n",
       "    </tr>\n",
       "  </thead>\n",
       "  <tbody>\n",
       "    <tr>\n",
       "      <th>0</th>\n",
       "      <td>chr1</td>\n",
       "      <td>10001</td>\n",
       "      <td>10091</td>\n",
       "      <td>GCAGCCAGTATACTGG-1</td>\n",
       "      <td>1</td>\n",
       "    </tr>\n",
       "    <tr>\n",
       "      <th>1</th>\n",
       "      <td>chr1</td>\n",
       "      <td>10001</td>\n",
       "      <td>10097</td>\n",
       "      <td>GAGGTGAGTTGCACAA-1</td>\n",
       "      <td>1</td>\n",
       "    </tr>\n",
       "    <tr>\n",
       "      <th>2</th>\n",
       "      <td>chr1</td>\n",
       "      <td>10001</td>\n",
       "      <td>10198</td>\n",
       "      <td>GATGCATTCATGCCTC-1</td>\n",
       "      <td>1</td>\n",
       "    </tr>\n",
       "    <tr>\n",
       "      <th>3</th>\n",
       "      <td>chr1</td>\n",
       "      <td>10001</td>\n",
       "      <td>10222</td>\n",
       "      <td>GATCGAGCAATTAGGA-1</td>\n",
       "      <td>1</td>\n",
       "    </tr>\n",
       "    <tr>\n",
       "      <th>4</th>\n",
       "      <td>chr1</td>\n",
       "      <td>10005</td>\n",
       "      <td>10334</td>\n",
       "      <td>AGTAGCTTCACCTGCT-1</td>\n",
       "      <td>1</td>\n",
       "    </tr>\n",
       "    <tr>\n",
       "      <th>...</th>\n",
       "      <td>...</td>\n",
       "      <td>...</td>\n",
       "      <td>...</td>\n",
       "      <td>...</td>\n",
       "      <td>...</td>\n",
       "    </tr>\n",
       "    <tr>\n",
       "      <th>253517885</th>\n",
       "      <td>KI270713.1</td>\n",
       "      <td>39170</td>\n",
       "      <td>39410</td>\n",
       "      <td>TCTACCTCATCTTGAG-1</td>\n",
       "      <td>2</td>\n",
       "    </tr>\n",
       "    <tr>\n",
       "      <th>253517886</th>\n",
       "      <td>KI270713.1</td>\n",
       "      <td>39170</td>\n",
       "      <td>39410</td>\n",
       "      <td>TGTGAAACAGGAATCG-1</td>\n",
       "      <td>1</td>\n",
       "    </tr>\n",
       "    <tr>\n",
       "      <th>253517887</th>\n",
       "      <td>KI270713.1</td>\n",
       "      <td>39194</td>\n",
       "      <td>39519</td>\n",
       "      <td>AGGCCCAGTAGCTAGC-1</td>\n",
       "      <td>1</td>\n",
       "    </tr>\n",
       "    <tr>\n",
       "      <th>253517888</th>\n",
       "      <td>KI270713.1</td>\n",
       "      <td>39724</td>\n",
       "      <td>39939</td>\n",
       "      <td>CGCCAAATCCCTCACG-1</td>\n",
       "      <td>1</td>\n",
       "    </tr>\n",
       "    <tr>\n",
       "      <th>253517889</th>\n",
       "      <td>KI270713.1</td>\n",
       "      <td>39734</td>\n",
       "      <td>39884</td>\n",
       "      <td>GGAACCTGTTCCAGGG-1</td>\n",
       "      <td>1</td>\n",
       "    </tr>\n",
       "  </tbody>\n",
       "</table>\n",
       "<p>253517890 rows × 5 columns</p>\n",
       "</div>"
      ],
      "text/plain": [
       "                    0      1      2                   3  4\n",
       "0                chr1  10001  10091  GCAGCCAGTATACTGG-1  1\n",
       "1                chr1  10001  10097  GAGGTGAGTTGCACAA-1  1\n",
       "2                chr1  10001  10198  GATGCATTCATGCCTC-1  1\n",
       "3                chr1  10001  10222  GATCGAGCAATTAGGA-1  1\n",
       "4                chr1  10005  10334  AGTAGCTTCACCTGCT-1  1\n",
       "...               ...    ...    ...                 ... ..\n",
       "253517885  KI270713.1  39170  39410  TCTACCTCATCTTGAG-1  2\n",
       "253517886  KI270713.1  39170  39410  TGTGAAACAGGAATCG-1  1\n",
       "253517887  KI270713.1  39194  39519  AGGCCCAGTAGCTAGC-1  1\n",
       "253517888  KI270713.1  39724  39939  CGCCAAATCCCTCACG-1  1\n",
       "253517889  KI270713.1  39734  39884  GGAACCTGTTCCAGGG-1  1\n",
       "\n",
       "[253517890 rows x 5 columns]"
      ]
     },
     "execution_count": 7,
     "metadata": {},
     "output_type": "execute_result"
    }
   ],
   "source": [
    "atac_fragments_1"
   ]
  },
  {
   "cell_type": "code",
   "execution_count": null,
   "metadata": {},
   "outputs": [],
   "source": [
    "# 4. Load the features (fragments for ATAC-seq, genes for RNA-seq)\n",
    "atac_fragments_1 = pd.read_csv(atac_fragments_file_1, header=None, sep=\"\\t\", comment=\"#\").squeeze().tolist()\n",
    "atac_fragments_2 = pd.read_csv(atac_fragments_file_2, header=None, sep=\"\\t\", comment=\"#\").squeeze().tolist()\n",
    "\n",
    "rna_features_1 = pd.read_csv(rna_features_file_1, header=None, sep=\"\\t\").squeeze().tolist()\n",
    "rna_features_2 = pd.read_csv(rna_features_file_2, header=None, sep=\"\\t\").squeeze().tolist()\n"
   ]
  },
  {
   "cell_type": "code",
   "execution_count": null,
   "metadata": {},
   "outputs": [],
   "source": [
    "# 5. Combine the matrices, barcodes, and features\n",
    "atac_matrix = scipy.sparse.hstack([atac_matrix_1, atac_matrix_2])\n",
    "rna_matrix = scipy.sparse.hstack([rna_matrix_1, rna_matrix_2])\n",
    "\n",
    "barcodes = atac_barcodes_1 + atac_barcodes_2  # Barcodes are the same for ATAC and RNA (same cells)\n",
    "fragments = atac_fragments_1 + atac_fragments_2  # ATAC features (fragments)\n",
    "rna_features = rna_features_1 + rna_features_2  # RNA features (genes)\n",
    "\n"
   ]
  },
  {
   "cell_type": "code",
   "execution_count": null,
   "metadata": {},
   "outputs": [],
   "source": [
    "# 6. Create the AnnData object for combined ATAC and RNA data (with two modalities)\n",
    "adata = sc.AnnData(atac_matrix.T)  # Transpose to make it (cells x features)\n",
    "adata.obs_names = barcodes  # Cells (barcodes)\n",
    "adata.var_names = fragments  # ATAC-seq features (fragments)\n",
    "\n",
    "# Add RNA data to the AnnData object\n",
    "adata.raw = sc.AnnData(rna_matrix.T)  # Store RNA data as raw (i.e., not normalized)\n",
    "adata.raw.obs_names = barcodes  # Same barcodes (cells)\n",
    "adata.raw.var_names = rna_features  # RNA features (genes)\n",
    "\n"
   ]
  },
  {
   "cell_type": "code",
   "execution_count": 10,
   "metadata": {},
   "outputs": [],
   "source": [
    "adata = sc.AnnData(rna_matrix_1.T)  # Store RNA data as raw (i.e., not normalized)\n"
   ]
  },
  {
   "cell_type": "code",
   "execution_count": 18,
   "metadata": {},
   "outputs": [
    {
     "data": {
      "text/plain": [
       "AnnData object with n_obs × n_vars = 12621 × 255992"
      ]
     },
     "execution_count": 18,
     "metadata": {},
     "output_type": "execute_result"
    }
   ],
   "source": [
    "adata"
   ]
  },
  {
   "cell_type": "code",
   "execution_count": 17,
   "metadata": {},
   "outputs": [
    {
     "data": {
      "text/html": [
       "<div>\n",
       "<style scoped>\n",
       "    .dataframe tbody tr th:only-of-type {\n",
       "        vertical-align: middle;\n",
       "    }\n",
       "\n",
       "    .dataframe tbody tr th {\n",
       "        vertical-align: top;\n",
       "    }\n",
       "\n",
       "    .dataframe thead th {\n",
       "        text-align: right;\n",
       "    }\n",
       "</style>\n",
       "<table border=\"1\" class=\"dataframe\">\n",
       "  <thead>\n",
       "    <tr style=\"text-align: right;\">\n",
       "      <th></th>\n",
       "      <th>0</th>\n",
       "      <th>1</th>\n",
       "      <th>2</th>\n",
       "      <th>3</th>\n",
       "      <th>4</th>\n",
       "      <th>5</th>\n",
       "    </tr>\n",
       "  </thead>\n",
       "  <tbody>\n",
       "    <tr>\n",
       "      <th>0</th>\n",
       "      <td>ENSG00000243485</td>\n",
       "      <td>MIR1302-2HG</td>\n",
       "      <td>Gene Expression</td>\n",
       "      <td>chr1</td>\n",
       "      <td>29553</td>\n",
       "      <td>30267</td>\n",
       "    </tr>\n",
       "    <tr>\n",
       "      <th>1</th>\n",
       "      <td>ENSG00000237613</td>\n",
       "      <td>FAM138A</td>\n",
       "      <td>Gene Expression</td>\n",
       "      <td>chr1</td>\n",
       "      <td>36080</td>\n",
       "      <td>36081</td>\n",
       "    </tr>\n",
       "    <tr>\n",
       "      <th>2</th>\n",
       "      <td>ENSG00000186092</td>\n",
       "      <td>OR4F5</td>\n",
       "      <td>Gene Expression</td>\n",
       "      <td>chr1</td>\n",
       "      <td>65418</td>\n",
       "      <td>69055</td>\n",
       "    </tr>\n",
       "    <tr>\n",
       "      <th>3</th>\n",
       "      <td>ENSG00000238009</td>\n",
       "      <td>AL627309.1</td>\n",
       "      <td>Gene Expression</td>\n",
       "      <td>chr1</td>\n",
       "      <td>120931</td>\n",
       "      <td>133723</td>\n",
       "    </tr>\n",
       "    <tr>\n",
       "      <th>4</th>\n",
       "      <td>ENSG00000239945</td>\n",
       "      <td>AL627309.3</td>\n",
       "      <td>Gene Expression</td>\n",
       "      <td>chr1</td>\n",
       "      <td>91104</td>\n",
       "      <td>91105</td>\n",
       "    </tr>\n",
       "    <tr>\n",
       "      <th>...</th>\n",
       "      <td>...</td>\n",
       "      <td>...</td>\n",
       "      <td>...</td>\n",
       "      <td>...</td>\n",
       "      <td>...</td>\n",
       "      <td>...</td>\n",
       "    </tr>\n",
       "    <tr>\n",
       "      <th>255987</th>\n",
       "      <td>KI270713.1:15882-16673</td>\n",
       "      <td>KI270713.1:15882-16673</td>\n",
       "      <td>Peaks</td>\n",
       "      <td>KI270713.1</td>\n",
       "      <td>15882</td>\n",
       "      <td>16673</td>\n",
       "    </tr>\n",
       "    <tr>\n",
       "      <th>255988</th>\n",
       "      <td>KI270713.1:21469-22377</td>\n",
       "      <td>KI270713.1:21469-22377</td>\n",
       "      <td>Peaks</td>\n",
       "      <td>KI270713.1</td>\n",
       "      <td>21469</td>\n",
       "      <td>22377</td>\n",
       "    </tr>\n",
       "    <tr>\n",
       "      <th>255989</th>\n",
       "      <td>KI270713.1:26768-27527</td>\n",
       "      <td>KI270713.1:26768-27527</td>\n",
       "      <td>Peaks</td>\n",
       "      <td>KI270713.1</td>\n",
       "      <td>26768</td>\n",
       "      <td>27527</td>\n",
       "    </tr>\n",
       "    <tr>\n",
       "      <th>255990</th>\n",
       "      <td>KI270713.1:29577-30473</td>\n",
       "      <td>KI270713.1:29577-30473</td>\n",
       "      <td>Peaks</td>\n",
       "      <td>KI270713.1</td>\n",
       "      <td>29577</td>\n",
       "      <td>30473</td>\n",
       "    </tr>\n",
       "    <tr>\n",
       "      <th>255991</th>\n",
       "      <td>KI270713.1:36790-37713</td>\n",
       "      <td>KI270713.1:36790-37713</td>\n",
       "      <td>Peaks</td>\n",
       "      <td>KI270713.1</td>\n",
       "      <td>36790</td>\n",
       "      <td>37713</td>\n",
       "    </tr>\n",
       "  </tbody>\n",
       "</table>\n",
       "<p>255992 rows × 6 columns</p>\n",
       "</div>"
      ],
      "text/plain": [
       "                             0                       1                2  \\\n",
       "0              ENSG00000243485             MIR1302-2HG  Gene Expression   \n",
       "1              ENSG00000237613                 FAM138A  Gene Expression   \n",
       "2              ENSG00000186092                   OR4F5  Gene Expression   \n",
       "3              ENSG00000238009              AL627309.1  Gene Expression   \n",
       "4              ENSG00000239945              AL627309.3  Gene Expression   \n",
       "...                        ...                     ...              ...   \n",
       "255987  KI270713.1:15882-16673  KI270713.1:15882-16673            Peaks   \n",
       "255988  KI270713.1:21469-22377  KI270713.1:21469-22377            Peaks   \n",
       "255989  KI270713.1:26768-27527  KI270713.1:26768-27527            Peaks   \n",
       "255990  KI270713.1:29577-30473  KI270713.1:29577-30473            Peaks   \n",
       "255991  KI270713.1:36790-37713  KI270713.1:36790-37713            Peaks   \n",
       "\n",
       "                 3       4       5  \n",
       "0             chr1   29553   30267  \n",
       "1             chr1   36080   36081  \n",
       "2             chr1   65418   69055  \n",
       "3             chr1  120931  133723  \n",
       "4             chr1   91104   91105  \n",
       "...            ...     ...     ...  \n",
       "255987  KI270713.1   15882   16673  \n",
       "255988  KI270713.1   21469   22377  \n",
       "255989  KI270713.1   26768   27527  \n",
       "255990  KI270713.1   29577   30473  \n",
       "255991  KI270713.1   36790   37713  \n",
       "\n",
       "[255992 rows x 6 columns]"
      ]
     },
     "execution_count": 17,
     "metadata": {},
     "output_type": "execute_result"
    }
   ],
   "source": [
    "rna_features_1 = pd.read_csv(rna_features_file_1, header=None, sep=\"\\t\")\n",
    "\n",
    "rna_features_1"
   ]
  },
  {
   "cell_type": "code",
   "execution_count": null,
   "metadata": {},
   "outputs": [],
   "source": [
    "# 7. Save the combined AnnData object to an H5AD file (HDF5 format)\n",
    "#adata.write(\"K562_DMSO_ATAC_RNA_combined_replicates.h5ad\")\n",
    "\n",
    "print(\"HDF5 file created: K562_DMSO_ATAC_RNA_combined_replicates.h5ad\")"
   ]
  },
  {
   "cell_type": "code",
   "execution_count": 19,
   "metadata": {},
   "outputs": [
    {
     "data": {
      "text/plain": [
       "AnnData object with n_obs × n_vars = 12621 × 255992"
      ]
     },
     "execution_count": 19,
     "metadata": {},
     "output_type": "execute_result"
    }
   ],
   "source": [
    "adata = sc.AnnData(atac_matrix_1.T)  # Store RNA data as raw (i.e., not normalized)\n",
    "adata"
   ]
  },
  {
   "cell_type": "code",
   "execution_count": 20,
   "metadata": {},
   "outputs": [
    {
     "name": "stdout",
     "output_type": "stream",
     "text": [
      "[[0 0 0 ... 0 0 0]\n",
      " [0 0 0 ... 0 0 0]\n",
      " [0 0 0 ... 0 0 0]\n",
      " [0 0 0 ... 0 0 0]\n",
      " [0 0 0 ... 0 2 0]]\n"
     ]
    }
   ],
   "source": [
    "print(adata.X[:5, :].toarray())"
   ]
  },
  {
   "cell_type": "code",
   "execution_count": 21,
   "metadata": {},
   "outputs": [
    {
     "name": "stdout",
     "output_type": "stream",
     "text": [
      "[[0 0 0 ... 0 0 0]\n",
      " [0 0 0 ... 0 0 0]\n",
      " [0 0 0 ... 0 0 0]\n",
      " [0 0 0 ... 0 0 0]\n",
      " [0 0 0 ... 0 2 0]]\n"
     ]
    }
   ],
   "source": [
    "rna_adata = sc.AnnData(rna_matrix_1.T)  # Store RNA data as raw (i.e., not normalized)\n",
    "print(rna_adata.X[:5, :].toarray())"
   ]
  },
  {
   "cell_type": "code",
   "execution_count": 24,
   "metadata": {},
   "outputs": [
    {
     "name": "stdout",
     "output_type": "stream",
     "text": [
      "Data matrices identical: True\n"
     ]
    }
   ],
   "source": [
    "import numpy as np\n",
    "data_identical = np.allclose(adata.X.toarray(), rna_adata.X.toarray())  # Converts sparse to dense for comparison\n",
    "print(f\"Data matrices identical: {data_identical}\")"
   ]
  },
  {
   "cell_type": "code",
   "execution_count": null,
   "metadata": {},
   "outputs": [],
   "source": []
  }
 ],
 "metadata": {
  "kernelspec": {
   "display_name": "get",
   "language": "python",
   "name": "python3"
  },
  "language_info": {
   "codemirror_mode": {
    "name": "ipython",
    "version": 3
   },
   "file_extension": ".py",
   "mimetype": "text/x-python",
   "name": "python",
   "nbconvert_exporter": "python",
   "pygments_lexer": "ipython3",
   "version": "3.12.9"
  }
 },
 "nbformat": 4,
 "nbformat_minor": 2
}
