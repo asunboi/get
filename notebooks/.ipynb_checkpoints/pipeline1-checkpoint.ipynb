{
 "cells": [
  {
   "cell_type": "markdown",
   "id": "e9118a00-b16d-4f02-87bc-ee6cbc140484",
   "metadata": {},
   "source": [
    "reference /gpfs/group/jin/boli/241229_multiome_align/count\n",
    "\n",
    "#!/bin/bash\n",
    "#SBATCH --mem=80gb\n",
    "#SBATCH --nodes=1\n",
    "#SBATCH --cpus-per-task=16\n",
    "#SBATCH --time=24:00:00\n",
    "\n",
    "## Running cellranger analysis of 10X data\n",
    "## NB: use different script for cDNA only libraries\n",
    "## Configured to work with Slurm\n",
    "\n",
    "module load cellranger-arc\n",
    "#module unload python\n",
    "\n",
    "ID=\"241228_10X_Multi\"\n",
    "\n",
    "LIBRARIESPATH=\"/gpfs/group/jin/boli/241229_multiome_align/count/241229_libraries_Multi.csv\"\n",
    "REFDIR=\"/gpfs/group/jin/ref_genomes/mm10_arc/refdata-cellranger-arc-mm10-2020-A-2.0.0\"\n",
    "\n",
    "cellranger-arc count --id=$ID \\\n",
    "                        --libraries=$LIBRARIESPATH \\\n",
    "                        --reference=$REFDIR\n",
    "                        #--feature-ref=$FEATUREREFPATH"
   ]
  },
  {
   "cell_type": "markdown",
   "id": "a33830b3-1542-4ce4-87be-faaa0c148b3d",
   "metadata": {},
   "source": [
    "M2XM_220316_211-R_C01 (SSp)\n",
    "NW_MX2070-5_S01_L003.fastq.tar\n",
    "SQ_AT0579-4_S01_L003.v2.fastq.tar\n",
    "SQ_AT0579-4_S01_L003.fastq.tar\n",
    "\n",
    "M2XM_220325_216-R_B01 (SSp)\n",
    "NW_MX2072-6_S01_L003.fastq.tar\n",
    "SQ_AT0580-6_S01_L003.v2.fastq.tar\n",
    "SQ_AT0580-6_S01_L003.fastq.tar"
   ]
  },
  {
   "cell_type": "markdown",
   "id": "e15d1301-e114-4003-aa61-e8e26fdf8807",
   "metadata": {},
   "source": [
    "In /gpfs/group/jin/boli/241228_10x_3gene_T7/241228_10x_RNA_mkfastqs\n",
    "Undetermined_S0_L001_I1_001.fastq.gz\n",
    "Undetermined_S0_L001_I2_001.fastq.gz\n",
    "Undetermined_S0_L001_R1_001.fastq.gz\n",
    "Undetermined_S0_L001_R2_001.fastq.gz"
   ]
  },
  {
   "cell_type": "code",
   "execution_count": null,
   "id": "35690cd9-0a30-4f88-8875-f29443a94bbb",
   "metadata": {},
   "outputs": [],
   "source": [
    "untar fastqs, "
   ]
  }
 ],
 "metadata": {
  "kernelspec": {
   "display_name": "Python 3",
   "language": "python",
   "name": "python3"
  },
  "language_info": {
   "codemirror_mode": {
    "name": "ipython",
    "version": 3
   },
   "file_extension": ".py",
   "mimetype": "text/x-python",
   "name": "python",
   "nbconvert_exporter": "python",
   "pygments_lexer": "ipython3",
   "version": "3.8.3"
  }
 },
 "nbformat": 4,
 "nbformat_minor": 5
}
