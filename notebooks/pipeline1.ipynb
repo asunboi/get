{
 "cells": [
  {
   "cell_type": "raw",
   "id": "9f3e2a7e-e076-45ba-887e-cf5b59f5cafe",
   "metadata": {},
   "source": [
    "reference /gpfs/group/jin/boli/241229_multiome_align/count\n",
    "\n",
    "#!/bin/bash\n",
    "#SBATCH --mem=80gb\n",
    "#SBATCH --nodes=1\n",
    "#SBATCH --cpus-per-task=16\n",
    "#SBATCH --time=24:00:00\n",
    "\n",
    "## Running cellranger analysis of 10X data\n",
    "## NB: use different script for cDNA only libraries\n",
    "## Configured to work with Slurm\n",
    "\n",
    "module load cellranger-arc\n",
    "#module unload python\n",
    "\n",
    "ID=\"241228_10X_Multi\"\n",
    "\n",
    "LIBRARIESPATH=\"/gpfs/group/jin/boli/241229_multiome_align/count/241229_libraries_Multi.csv\"\n",
    "REFDIR=\"/gpfs/group/jin/ref_genomes/mm10_arc/refdata-cellranger-arc-mm10-2020-A-2.0.0\"\n",
    "\n",
    "cellranger-arc count --id=$ID \\\n",
    "                        --libraries=$LIBRARIESPATH \\\n",
    "                        --reference=$REFDIR\n",
    "                        #--feature-ref=$FEATUREREFPATH"
   ]
  },
  {
   "cell_type": "raw",
   "id": "e39818d1-84ee-49dd-a9c3-57101432781a",
   "metadata": {},
   "source": [
    "M2XM_220316_211-R_C01 (SSp)\n",
    "NW_MX2070-5_S01_L003.fastq.tar\n",
    "SQ_AT0579-4_S01_L003.v2.fastq.tar\n",
    "SQ_AT0579-4_S01_L003.fastq.tar\n",
    "\n",
    "M2XM_220325_216-R_B01 (SSp)\n",
    "NW_MX2072-6_S01_L003.fastq.tar\n",
    "SQ_AT0580-6_S01_L003.v2.fastq.tar\n",
    "SQ_AT0580-6_S01_L003.fastq.tar"
   ]
  },
  {
   "cell_type": "raw",
   "id": "6923b6f5-8ec1-454a-afef-dcc8981c4f3a",
   "metadata": {},
   "source": [
    "In /gpfs/group/jin/boli/241228_10x_3gene_T7/241228_10x_RNA_mkfastqs\n",
    "Undetermined_S0_L001_I1_001.fastq.gz\n",
    "Undetermined_S0_L001_I2_001.fastq.gz\n",
    "Undetermined_S0_L001_R1_001.fastq.gz\n",
    "Undetermined_S0_L001_R2_001.fastq.gz"
   ]
  },
  {
   "cell_type": "code",
   "execution_count": null,
   "id": "35690cd9-0a30-4f88-8875-f29443a94bbb",
   "metadata": {},
   "outputs": [],
   "source": [
    "untar fastqs, "
   ]
  },
  {
   "cell_type": "code",
   "execution_count": 2,
   "id": "40af3899-1b59-4fe0-9372-5604ac7e9771",
   "metadata": {},
   "outputs": [
    {
     "name": "stdout",
     "output_type": "stream",
     "text": [
      "Submitted batch job 37498995\n"
     ]
    }
   ],
   "source": [
    "%%bash\n",
    "sbatch /gpfs/home/asun/jin_lab/get/pipeline1_cellranger/ssp_cellranger.sbatch"
   ]
  },
  {
   "cell_type": "code",
   "execution_count": 3,
   "id": "246730ed-d509-4d2c-939d-b817d7b12a6c",
   "metadata": {},
   "outputs": [
    {
     "name": "stderr",
     "output_type": "stream",
     "text": [
      "bash: line 1: sqme: command not found\n"
     ]
    },
    {
     "ename": "CalledProcessError",
     "evalue": "Command 'b'sqme\\n'' returned non-zero exit status 127.",
     "output_type": "error",
     "traceback": [
      "\u001b[0;31m---------------------------------------------------------------------------\u001b[0m",
      "\u001b[0;31mCalledProcessError\u001b[0m                        Traceback (most recent call last)",
      "Cell \u001b[0;32mIn[3], line 1\u001b[0m\n\u001b[0;32m----> 1\u001b[0m \u001b[43mget_ipython\u001b[49m\u001b[43m(\u001b[49m\u001b[43m)\u001b[49m\u001b[38;5;241;43m.\u001b[39;49m\u001b[43mrun_cell_magic\u001b[49m\u001b[43m(\u001b[49m\u001b[38;5;124;43m'\u001b[39;49m\u001b[38;5;124;43mbash\u001b[39;49m\u001b[38;5;124;43m'\u001b[39;49m\u001b[43m,\u001b[49m\u001b[43m \u001b[49m\u001b[38;5;124;43m'\u001b[39;49m\u001b[38;5;124;43m'\u001b[39;49m\u001b[43m,\u001b[49m\u001b[43m \u001b[49m\u001b[38;5;124;43m'\u001b[39;49m\u001b[38;5;124;43msqme\u001b[39;49m\u001b[38;5;130;43;01m\\n\u001b[39;49;00m\u001b[38;5;124;43m'\u001b[39;49m\u001b[43m)\u001b[49m\n",
      "File \u001b[0;32m/opt/applications/python/3.8.3/gnu/lib/python3.8/site-packages/IPython/core/interactiveshell.py:2478\u001b[0m, in \u001b[0;36mInteractiveShell.run_cell_magic\u001b[0;34m(self, magic_name, line, cell)\u001b[0m\n\u001b[1;32m   2476\u001b[0m \u001b[38;5;28;01mwith\u001b[39;00m \u001b[38;5;28mself\u001b[39m\u001b[38;5;241m.\u001b[39mbuiltin_trap:\n\u001b[1;32m   2477\u001b[0m     args \u001b[38;5;241m=\u001b[39m (magic_arg_s, cell)\n\u001b[0;32m-> 2478\u001b[0m     result \u001b[38;5;241m=\u001b[39m \u001b[43mfn\u001b[49m\u001b[43m(\u001b[49m\u001b[38;5;241;43m*\u001b[39;49m\u001b[43margs\u001b[49m\u001b[43m,\u001b[49m\u001b[43m \u001b[49m\u001b[38;5;241;43m*\u001b[39;49m\u001b[38;5;241;43m*\u001b[39;49m\u001b[43mkwargs\u001b[49m\u001b[43m)\u001b[49m\n\u001b[1;32m   2480\u001b[0m \u001b[38;5;66;03m# The code below prevents the output from being displayed\u001b[39;00m\n\u001b[1;32m   2481\u001b[0m \u001b[38;5;66;03m# when using magics with decodator @output_can_be_silenced\u001b[39;00m\n\u001b[1;32m   2482\u001b[0m \u001b[38;5;66;03m# when the last Python token in the expression is a ';'.\u001b[39;00m\n\u001b[1;32m   2483\u001b[0m \u001b[38;5;28;01mif\u001b[39;00m \u001b[38;5;28mgetattr\u001b[39m(fn, magic\u001b[38;5;241m.\u001b[39mMAGIC_OUTPUT_CAN_BE_SILENCED, \u001b[38;5;28;01mFalse\u001b[39;00m):\n",
      "File \u001b[0;32m/opt/applications/python/3.8.3/gnu/lib/python3.8/site-packages/IPython/core/magics/script.py:153\u001b[0m, in \u001b[0;36mScriptMagics._make_script_magic.<locals>.named_script_magic\u001b[0;34m(line, cell)\u001b[0m\n\u001b[1;32m    151\u001b[0m \u001b[38;5;28;01melse\u001b[39;00m:\n\u001b[1;32m    152\u001b[0m     line \u001b[38;5;241m=\u001b[39m script\n\u001b[0;32m--> 153\u001b[0m \u001b[38;5;28;01mreturn\u001b[39;00m \u001b[38;5;28;43mself\u001b[39;49m\u001b[38;5;241;43m.\u001b[39;49m\u001b[43mshebang\u001b[49m\u001b[43m(\u001b[49m\u001b[43mline\u001b[49m\u001b[43m,\u001b[49m\u001b[43m \u001b[49m\u001b[43mcell\u001b[49m\u001b[43m)\u001b[49m\n",
      "File \u001b[0;32m/opt/applications/python/3.8.3/gnu/lib/python3.8/site-packages/IPython/core/magics/script.py:305\u001b[0m, in \u001b[0;36mScriptMagics.shebang\u001b[0;34m(self, line, cell)\u001b[0m\n\u001b[1;32m    300\u001b[0m \u001b[38;5;28;01mif\u001b[39;00m args\u001b[38;5;241m.\u001b[39mraise_error \u001b[38;5;129;01mand\u001b[39;00m p\u001b[38;5;241m.\u001b[39mreturncode \u001b[38;5;241m!=\u001b[39m \u001b[38;5;241m0\u001b[39m:\n\u001b[1;32m    301\u001b[0m     \u001b[38;5;66;03m# If we get here and p.returncode is still None, we must have\u001b[39;00m\n\u001b[1;32m    302\u001b[0m     \u001b[38;5;66;03m# killed it but not yet seen its return code. We don't wait for it,\u001b[39;00m\n\u001b[1;32m    303\u001b[0m     \u001b[38;5;66;03m# in case it's stuck in uninterruptible sleep. -9 = SIGKILL\u001b[39;00m\n\u001b[1;32m    304\u001b[0m     rc \u001b[38;5;241m=\u001b[39m p\u001b[38;5;241m.\u001b[39mreturncode \u001b[38;5;129;01mor\u001b[39;00m \u001b[38;5;241m-\u001b[39m\u001b[38;5;241m9\u001b[39m\n\u001b[0;32m--> 305\u001b[0m     \u001b[38;5;28;01mraise\u001b[39;00m CalledProcessError(rc, cell)\n",
      "\u001b[0;31mCalledProcessError\u001b[0m: Command 'b'sqme\\n'' returned non-zero exit status 127."
     ]
    }
   ],
   "source": [
    "%%bash\n",
    "sqme"
   ]
  }
 ],
 "metadata": {
  "kernelspec": {
   "display_name": "Python 3",
   "language": "python",
   "name": "python3"
  },
  "language_info": {
   "codemirror_mode": {
    "name": "ipython",
    "version": 3
   },
   "file_extension": ".py",
   "mimetype": "text/x-python",
   "name": "python",
   "nbconvert_exporter": "python",
   "pygments_lexer": "ipython3",
   "version": "3.8.3"
  }
 },
 "nbformat": 4,
 "nbformat_minor": 5
}
