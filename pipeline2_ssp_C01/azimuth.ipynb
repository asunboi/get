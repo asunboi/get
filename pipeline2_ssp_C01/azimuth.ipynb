{
 "cells": [
  {
   "cell_type": "code",
   "execution_count": 24,
   "id": "3b8db92e-d5dd-4c0d-ab29-415b394a27c0",
   "metadata": {},
   "outputs": [
    {
     "data": {
      "text/html": [
       "<style>\n",
       ".list-inline {list-style: none; margin:0; padding: 0}\n",
       ".list-inline>li {display: inline-block}\n",
       ".list-inline>li:not(:last-child)::after {content: \"\\00b7\"; padding: 0 .5ex}\n",
       "</style>\n",
       "<ol class=list-inline><li>'/opt/applications/R/4.3.0/gnu/lib64/R/library'</li><li>'/gpfs/group/home/xzheng/R/x86_64-pc-linux-gnu-library/4.3'</li></ol>\n"
      ],
      "text/latex": [
       "\\begin{enumerate*}\n",
       "\\item '/opt/applications/R/4.3.0/gnu/lib64/R/library'\n",
       "\\item '/gpfs/group/home/xzheng/R/x86\\_64-pc-linux-gnu-library/4.3'\n",
       "\\end{enumerate*}\n"
      ],
      "text/markdown": [
       "1. '/opt/applications/R/4.3.0/gnu/lib64/R/library'\n",
       "2. '/gpfs/group/home/xzheng/R/x86_64-pc-linux-gnu-library/4.3'\n",
       "\n",
       "\n"
      ],
      "text/plain": [
       "[1] \"/opt/applications/R/4.3.0/gnu/lib64/R/library\"            \n",
       "[2] \"/gpfs/group/home/xzheng/R/x86_64-pc-linux-gnu-library/4.3\""
      ]
     },
     "metadata": {},
     "output_type": "display_data"
    }
   ],
   "source": [
    ".libPaths()"
   ]
  },
  {
   "cell_type": "code",
   "execution_count": 41,
   "id": "43046019-66c3-4551-b08b-3b2d1519c6cc",
   "metadata": {},
   "outputs": [],
   "source": [
    "install.packages(\"Rcpp\", lib=\"~/R/x86_64-pc-linux-gnu-library/4.3\")"
   ]
  },
  {
   "cell_type": "code",
   "execution_count": 42,
   "id": "fd91d65c-1d91-4248-9e60-740f35412e9d",
   "metadata": {},
   "outputs": [
    {
     "name": "stderr",
     "output_type": "stream",
     "text": [
      "Warning message in install.packages(\"scCustomize\", lib = \"~/R/x86_64-pc-linux-gnu-library/4.3\"):\n",
      "\"installation of package 'scCustomize' had non-zero exit status\"\n"
     ]
    }
   ],
   "source": [
    "install.packages(\"scCustomize\", lib=\"~/R/x86_64-pc-linux-gnu-library/4.3\")"
   ]
  },
  {
   "cell_type": "code",
   "execution_count": 35,
   "id": "16804314-28ad-4350-9468-6ecdfc5bdf6b",
   "metadata": {},
   "outputs": [
    {
     "data": {
      "text/plain": [
       "python:         /opt/applications/python/3.8.3/gnu/bin/python\n",
       "libpython:      /opt/applications/python/3.8.3/gnu/lib/libpython3.8.so\n",
       "pythonhome:     /opt/applications/python/3.8.3/gnu:/opt/applications/python/3.8.3/gnu\n",
       "version:        3.8.3 (default, May 14 2020, 22:57:55)  [GCC 4.8.5 20150623 (Red Hat 4.8.5-39)]\n",
       "numpy:          /opt/applications/python/3.8.3/gnu/lib/python3.8/site-packages/numpy\n",
       "numpy_version:  1.22.4\n",
       "\n",
       "NOTE: Python version was forced by RETICULATE_PYTHON"
      ]
     },
     "metadata": {},
     "output_type": "display_data"
    }
   ],
   "source": [
    "library(reticulate)\n"
   ]
  },
  {
   "cell_type": "code",
   "execution_count": 27,
   "id": "c815aee9-f03d-4b86-9525-aab1427f30c4",
   "metadata": {},
   "outputs": [
    {
     "name": "stderr",
     "output_type": "stream",
     "text": [
      "\u001b[1m\u001b[22mscCustomize v1.1.1\n",
      "If you find the scCustomize useful please cite.\n",
      "See 'samuel-marsh.github.io/scCustomize/articles/FAQ.html' for citation info.\n",
      "\n"
     ]
    }
   ],
   "source": [
    "library(ggplot2)\n",
    "library(reshape2)\n",
    "library(Seurat)\n",
    "library(\"ggrastr\")\n",
    "library(RColorBrewer)\n",
    "library(dplyr)\n",
    "library(vangogh)\n",
    "library(patchwork)\n",
    "library(Azimuth)\n",
    "library(tibble)\n",
    "library(RColorBrewer)\n",
    "library(Signac)\n",
    "library(scCustomize)\n"
   ]
  },
  {
   "cell_type": "code",
   "execution_count": 29,
   "id": "4305c985-5da4-47df-99a0-a5601ebaf83a",
   "metadata": {},
   "outputs": [
    {
     "name": "stderr",
     "output_type": "stream",
     "text": [
      "qs 0.25.5\n",
      "\n"
     ]
    }
   ],
   "source": [
    "library(qs)"
   ]
  },
  {
   "cell_type": "code",
   "execution_count": null,
   "id": "814932f3-90c1-4f57-aca6-59cd8176d8fc",
   "metadata": {},
   "outputs": [],
   "source": []
  },
  {
   "cell_type": "code",
   "execution_count": 2,
   "id": "cdb9a1f2-7413-4792-9021-d915e83e195e",
   "metadata": {},
   "outputs": [
    {
     "data": {
      "text/html": [
       "<style>\n",
       ".list-inline {list-style: none; margin:0; padding: 0}\n",
       ".list-inline>li {display: inline-block}\n",
       ".list-inline>li:not(:last-child)::after {content: \"\\00b7\"; padding: 0 .5ex}\n",
       "</style>\n",
       "<ol class=list-inline><li>'/opt/applications/R/4.3.0/gnu/lib64/R/library'</li><li>'/gpfs/group/home/xzheng/R/x86_64-pc-linux-gnu-library/4.3'</li></ol>\n"
      ],
      "text/latex": [
       "\\begin{enumerate*}\n",
       "\\item '/opt/applications/R/4.3.0/gnu/lib64/R/library'\n",
       "\\item '/gpfs/group/home/xzheng/R/x86\\_64-pc-linux-gnu-library/4.3'\n",
       "\\end{enumerate*}\n"
      ],
      "text/markdown": [
       "1. '/opt/applications/R/4.3.0/gnu/lib64/R/library'\n",
       "2. '/gpfs/group/home/xzheng/R/x86_64-pc-linux-gnu-library/4.3'\n",
       "\n",
       "\n"
      ],
      "text/plain": [
       "[1] \"/opt/applications/R/4.3.0/gnu/lib64/R/library\"            \n",
       "[2] \"/gpfs/group/home/xzheng/R/x86_64-pc-linux-gnu-library/4.3\""
      ]
     },
     "metadata": {},
     "output_type": "display_data"
    },
    {
     "name": "stderr",
     "output_type": "stream",
     "text": [
      "Loading required package: SeuratObject\n",
      "\n",
      "Loading required package: sp\n",
      "\n",
      "\n",
      "Attaching package: ‘SeuratObject’\n",
      "\n",
      "\n",
      "The following objects are masked from ‘package:base’:\n",
      "\n",
      "    intersect, t\n",
      "\n",
      "\n",
      "\n",
      "Attaching package: ‘dplyr’\n",
      "\n",
      "\n",
      "The following objects are masked from ‘package:stats’:\n",
      "\n",
      "    filter, lag\n",
      "\n",
      "\n",
      "The following objects are masked from ‘package:base’:\n",
      "\n",
      "    intersect, setdiff, setequal, union\n",
      "\n",
      "\n",
      "Registered S3 method overwritten by 'SeuratDisk':\n",
      "  method            from  \n",
      "  as.sparse.H5Group Seurat\n",
      "\n",
      "\n",
      "\n",
      "Attaching shinyBS\n",
      "\n"
     ]
    },
    {
     "data": {
      "text/plain": [
       "[1] '5.1.0'"
      ]
     },
     "metadata": {},
     "output_type": "display_data"
    }
   ],
   "source": [
    "# Set the library paths in the desired order\n",
    ".libPaths(c(\"/opt/applications/R/4.3.0/gnu/lib64/R/library\",\n",
    "            \"/gpfs/group/home/xzheng/R/x86_64-pc-linux-gnu-library/4.3\"))\n",
    "\n",
    "# Verify the change\n",
    ".libPaths()\n",
    "\n",
    "library(ggplot2)\n",
    "library(reshape2)\n",
    "library(Seurat)\n",
    "library(\"ggrastr\")\n",
    "library(RColorBrewer)\n",
    "library(dplyr)\n",
    "library(patchwork)\n",
    "library(Azimuth)\n",
    "library(tibble)\n",
    "library(\n",
    "library(RColorBrewer)\n",
    "library(Signac)\n",
    "packageVersion(\"Seurat\")"
   ]
  },
  {
   "cell_type": "code",
   "execution_count": 3,
   "id": "15995a56-7213-45aa-986e-2b3ce511b853",
   "metadata": {},
   "outputs": [],
   "source": [
    "rm(list = ls())\n",
    "xin_pallet_21 = c(\"#8DD3C7\",\"#BEBADA\",\"#BF812E\",\"#DFC27D\",\"#FCCDE5\",\"#FB9A99\",\"#08519C\",\"#FFF7BC\",\"#80B1D3\",\"#FCBBA1\",\"#FDB462\",\"#A1D99B\",\"#D9F0A3\",\"#DD3497\",\"#02818A\",\"#D9D9D9\",\"#a37c7c\",\"#cdab83\",\"7C4A69\",\"417067\",\"2D4451\")\n",
    "\n",
    "# REFERENCE: https://satijalab.org/seurat/articles/integration_introduction.html\n",
    "\n",
    "# UPDATE ME: back to your working folder\n",
    "setwd(\"/gpfs/home/asun/jin_lab/get/pipeline2_ssp_C01/\")"
   ]
  },
  {
   "cell_type": "code",
   "execution_count": 4,
   "id": "51cdebd9-003e-4ea9-b6b8-14bc65cbf0b0",
   "metadata": {},
   "outputs": [
    {
     "name": "stderr",
     "output_type": "stream",
     "text": [
      "10X data contains more than one type and is being returned as a list containing matrices of each type.\n",
      "\n"
     ]
    }
   ],
   "source": [
    "data <- Read10X(data.dir = \"/gpfs/home/asun/jin_lab/get/pipeline2_ssp_C01/M2XM_220316_211-R_C01/outs/filtered_feature_bc_matrix\") \n"
   ]
  },
  {
   "cell_type": "code",
   "execution_count": 7,
   "id": "133e01ab-4e89-4338-b4d5-3fdd1d72fd9b",
   "metadata": {},
   "outputs": [
    {
     "data": {
      "text/html": [
       "<style>\n",
       ".list-inline {list-style: none; margin:0; padding: 0}\n",
       ".list-inline>li {display: inline-block}\n",
       ".list-inline>li:not(:last-child)::after {content: \"\\00b7\"; padding: 0 .5ex}\n",
       "</style>\n",
       "<ol class=list-inline><li>'Gene Expression'</li><li>'Peaks'</li></ol>\n"
      ],
      "text/latex": [
       "\\begin{enumerate*}\n",
       "\\item 'Gene Expression'\n",
       "\\item 'Peaks'\n",
       "\\end{enumerate*}\n"
      ],
      "text/markdown": [
       "1. 'Gene Expression'\n",
       "2. 'Peaks'\n",
       "\n",
       "\n"
      ],
      "text/plain": [
       "[1] \"Gene Expression\" \"Peaks\"          "
      ]
     },
     "metadata": {},
     "output_type": "display_data"
    }
   ],
   "source": [
    "names(data$)"
   ]
  },
  {
   "cell_type": "code",
   "execution_count": 8,
   "id": "41c4be83-3b41-4304-ac0e-78a4b8ee301a",
   "metadata": {},
   "outputs": [],
   "source": [
    "all <- CreateSeuratObject(counts = data$`Gene Expression`)\n"
   ]
  },
  {
   "cell_type": "code",
   "execution_count": 9,
   "id": "01b42510-0483-4159-939e-2544bdfed21d",
   "metadata": {},
   "outputs": [],
   "source": [
    "all[[\"percent.mt\"]] <- PercentageFeatureSet(all, pattern = \"^mt-\")\n"
   ]
  },
  {
   "cell_type": "code",
   "execution_count": 11,
   "id": "17992f4a-fe27-460a-adc0-bf9500d1c84b",
   "metadata": {},
   "outputs": [
    {
     "name": "stderr",
     "output_type": "stream",
     "text": [
      "Warning message:\n",
      "\"Overwriting miscellanous data for model\"\n",
      "Warning message:\n",
      "\"Adding a dimensional reduction (refUMAP) without the associated assay being present\"\n",
      "Warning message:\n",
      "\"Adding a dimensional reduction (refUMAP) without the associated assay being present\"\n",
      "detected inputs from MOUSE with id type Gene.name\n",
      "\n",
      "reference rownames detected MOUSE with id type Gene.name\n",
      "\n",
      "Normalizing query using reference SCT model\n",
      "\n",
      "Warning message:\n",
      "\"No layers found matching search pattern provided\"\n",
      "Warning message:\n",
      "\"65 features of the features specified were not present in both the reference query assays. \n",
      "Continuing with remaining 2935 features.\"\n",
      "Projecting cell embeddings\n",
      "\n",
      "Finding query neighbors\n",
      "\n",
      "Finding neighborhoods\n",
      "\n",
      "Finding anchors\n",
      "\n",
      "\tFound 12042 anchors\n",
      "\n",
      "Finding integration vectors\n",
      "\n",
      "Finding integration vector weights\n",
      "\n",
      "Predicting cell labels\n",
      "\n",
      "Predicting cell labels\n",
      "\n",
      "Warning message:\n",
      "\"Feature names cannot have underscores ('_'), replacing with dashes ('-')\"\n",
      "Predicting cell labels\n",
      "\n",
      "Predicting cell labels\n",
      "\n",
      "Warning message:\n",
      "\"Feature names cannot have underscores ('_'), replacing with dashes ('-')\"\n",
      "\n",
      "Integrating dataset 2 with reference dataset\n",
      "\n",
      "Finding integration vectors\n",
      "\n",
      "Integrating data\n",
      "\n",
      "Warning message:\n",
      "\"Keys should be one or more alphanumeric characters followed by an underscore, setting key from integrated_dr_ to integrateddr_\"\n",
      "Computing nearest neighbors\n",
      "\n",
      "Warning message:\n",
      "\"The default method for RunUMAP has changed from calling Python UMAP via reticulate to the R-native UWOT using the cosine metric\n",
      "To use Python UMAP via reticulate, set umap.method to 'umap-learn' and metric to 'correlation'\n",
      "This message will be shown once per session\"\n",
      "Running UMAP projection\n",
      "\n",
      "Warning message in RunUMAP.default(object = neighborlist, reduction.model = reduction.model, :\n",
      "\"Number of neighbors between query and reference is not equal to the number of neighbors within reference\"\n",
      "13:27:13 Read 9655 rows\n",
      "\n",
      "13:27:13 Processing block 1 of 1\n",
      "\n",
      "13:27:13 Commencing smooth kNN distance calibration using 1 thread\n",
      " with target n_neighbors = 20\n",
      "\n",
      "13:27:14 Initializing by weighted average of neighbor coordinates using 1 thread\n",
      "\n",
      "13:27:14 Commencing optimization for 67 epochs, with 193100 positive edges\n",
      "\n",
      "13:27:17 Finished\n",
      "\n",
      "Warning message:\n",
      "\"No assay specified, setting assay as RNA by default.\"\n",
      "Projecting reference PCA onto query\n",
      "\n",
      "Finding integration vector weights\n",
      "\n",
      "Projecting back the query cells into original PCA space\n",
      "\n",
      "Finding integration vector weights\n",
      "\n",
      "Computing scores:\n",
      "\n",
      "    Finding neighbors of original query cells\n",
      "\n",
      "    Finding neighbors of transformed query cells\n",
      "\n",
      "    Computing query SNN\n",
      "\n",
      "    Determining bandwidth and computing transition probabilities\n",
      "\n",
      "Total elapsed time: 8.40157580375671\n",
      "\n"
     ]
    },
    {
     "ename": "ERROR",
     "evalue": "Error in SaveH5Seurat(query, filename = \"rna_annotated.h5seurat\"): could not find function \"SaveH5Seurat\"\n",
     "output_type": "error",
     "traceback": [
      "Error in SaveH5Seurat(query, filename = \"rna_annotated.h5seurat\"): could not find function \"SaveH5Seurat\"\nTraceback:\n"
     ]
    }
   ],
   "source": [
    "save(all, file=\"all_obj.Robj\")\n",
    "\n",
    "##### Azimuth to cluster and annotate\n",
    "# remove low quality cells from here on:\n",
    "seur <- subset(all, subset = nFeature_RNA > 500) \n",
    "# 3455 cells\n",
    "seur = RunAzimuth(all, reference = 'mousecortexref')"
   ]
  },
  {
   "cell_type": "code",
   "execution_count": 12,
   "id": "961afdba-9e5f-4848-b3aa-68cafc57b9cc",
   "metadata": {},
   "outputs": [
    {
     "name": "stderr",
     "output_type": "stream",
     "text": [
      "Normalizing layer: counts\n",
      "\n",
      "Finding variable features for layer counts\n",
      "\n",
      "Centering and scaling data matrix\n",
      "\n",
      "PC_ 1 \n",
      "Positive:  Dpp10, Agbl4, Hcn1, Clstn2, Chsy3, Fam135b, Cntn4, Gpr158, Sgcz, Hs6st3 \n",
      "\t   Fam189a1, Trhde, Khdrbs2, Celf4, Gria1, Sh3rf3, Kcnb2, Gm26871, A830018L16Rik, Lrrtm4 \n",
      "\t   Dab1, Dpp6, Kcnc2, Neto1, Slit3, Zmat4, Nwd2, Cntnap5a, Cdh8, Cadps2 \n",
      "Negative:  Zbtb20, Qk, Dock1, Maml2, Nfia, Plekhg1, Pdlim5, Glul, Stard13, Apoe \n",
      "\t   Tmcc3, Gab1, Tcf7l2, Pard3b, Erbin, Cst3, Itpr2, Frmd4b, Mertk, Slco1c1 \n",
      "\t   Sash1, Neat1, Atp1a2, Plpp3, Ccdc141, Epas1, Lama2, Slc1a3, Chd7, Cobll1 \n",
      "PC_ 2 \n",
      "Positive:  Utrn, Abcb1a, Flt1, Slco1a4, Adgrl4, Mecom, Ptprb, Ebf1, Atp10a, Cldn5 \n",
      "\t   Adgrf5, Abcc4, Hmcn1, Tek, Lef1, Cyyr1, Itga1, Pltp, Ets1, 9530026P05Rik \n",
      "\t   Ly6a, Cgnl1, Pecam1, Spock2, Cxcl12, Itm2a, Podxl, Fzd6, Ly6c1, Egfl7 \n",
      "Negative:  St18, Mag, Mog, Ugt8a, Plp1, D7Ertd443e, Tspan2, Fa2h, Gjc3, Ermn \n",
      "\t   Mobp, Plekhh1, Cnp, Sec14l5, Mbp, Opalin, Cldn11, Aspa, Trf, Rnf220 \n",
      "\t   Gpr37, Trim59, Gm16168, Prr5l, Bcas1, Mal, Phldb1, 1700047M11Rik, Tmem88b, Car2 \n",
      "PC_ 3 \n",
      "Positive:  Fli1, Rasgrp3, Chn2, Sparc, Slco2b1, Inpp5d, St3gal6, Cfh, Csf1r, Ctss \n",
      "\t   Fcrls, Tgfbr2, Siglech, Selplg, Ikzf1, Lyn, C1qb, C1qa, Cx3cr1, Laptm5 \n",
      "\t   C1qc, Frmd4b, Adap2, Dock2, Apbb1ip, Dock8, Unc93b1, Gm10790, Fyb, Ets1 \n",
      "Negative:  Gpc5, Nwd1, Gm6145, Gli3, Rgs20, Arhgef26, Ptprz1, Gm20713, Ntsr2, Slc39a12 \n",
      "\t   Bcan, Acsbg1, Phkg1, Pla2g7, Slc4a4, Rfx4, Rmst, Gldc, Plpp3, Gli2 \n",
      "\t   Atp13a4, Luzp2, Slc7a10, Grin2c, Fgfr3, Prdm16, Bmpr1b, 4930488L21Rik, Glis3, Slc6a11 \n",
      "PC_ 4 \n",
      "Positive:  Flt1, Abcb1a, Slco1a4, Adgrl4, Ptprb, Mecom, Cldn5, Adgrf5, Ebf1, Hmcn1 \n",
      "\t   Atp10a, Cyyr1, Cobll1, Tek, Cxcl12, Itm2a, Heg1, Pltp, Cgnl1, Ly6c1 \n",
      "\t   Podxl, Egfl7, Emcn, Nostrin, Fgd5, Fn1, Ly6a, Itga1, Erg, Igfbp7 \n",
      "Negative:  Csf1r, Fcrls, Siglech, Ctss, Selplg, Cx3cr1, C1qb, C1qc, Dock2, Ikzf1 \n",
      "\t   Dock8, P2ry12, C1qa, Laptm5, Gm10790, Gpr34, Hpgds, Ly86, Apbb1ip, Fyb \n",
      "\t   Runx1, Inpp5d, Lair1, Vsir, Gm2629, Trem2, Tmem119, Csf3r, Ptprc, Tbxas1 \n",
      "PC_ 5 \n",
      "Positive:  Kcnip1, Gad1, Kcnmb2, Nxph1, Btbd11, Erbb4, Vwc2, Gad2, Slc32a1, Alk \n",
      "\t   Dlx6os1, 6330411D24Rik, Rbms3, Grip1, Kcns3, Zfp804a, Cacna2d2, Ankrd55, Kcnc1, Tox3 \n",
      "\t   A530058N18Rik, Cntnap4, Ank1, Rerg, Afap1, Gpr176, Cntnap3, Tmem132c, Gm14204, Lhx6 \n",
      "Negative:  Exph5, Nrgn, Rorb, Pdzrn3, Cadps2, Nell1, Prkg1, Nwd2, Schip1, A830036E02Rik \n",
      "\t   Kcnh5, Ptprk, Mapk4, Cdh6, Scube1, Camk2n1, Tafa1, Pamr1, Gm20752, Nectin3 \n",
      "\t   Siae, Rgs4, Gm30382, Fat3, Boc, Trpm3, Cnih3, Slit3, 4921539H07Rik, Sorcs1 \n",
      "\n",
      "Computing nearest neighbor graph\n",
      "\n",
      "Computing SNN\n",
      "\n"
     ]
    },
    {
     "name": "stdout",
     "output_type": "stream",
     "text": [
      "Modularity Optimizer version 1.3.0 by Ludo Waltman and Nees Jan van Eck\n",
      "\n",
      "Number of nodes: 9655\n",
      "Number of edges: 346504\n",
      "\n",
      "Running Louvain algorithm...\n",
      "Maximum modularity in 10 random starts: 0.9468\n",
      "Number of communities: 24\n",
      "Elapsed time: 0 seconds\n"
     ]
    },
    {
     "name": "stderr",
     "output_type": "stream",
     "text": [
      "13:34:54 UMAP embedding parameters a = 0.9922 b = 1.112\n",
      "\n",
      "Found more than one class \"dist\" in cache; using the first, from namespace 'spam'\n",
      "\n",
      "Also defined by 'BiocGenerics'\n",
      "\n",
      "13:34:54 Read 9655 rows and found 30 numeric columns\n",
      "\n",
      "13:34:54 Using Annoy for neighbor search, n_neighbors = 30\n",
      "\n",
      "Found more than one class \"dist\" in cache; using the first, from namespace 'spam'\n",
      "\n",
      "Also defined by 'BiocGenerics'\n",
      "\n",
      "13:34:54 Building Annoy index with metric = cosine, n_trees = 50\n",
      "\n",
      "0%   10   20   30   40   50   60   70   80   90   100%\n",
      "\n",
      "[----|----|----|----|----|----|----|----|----|----|\n",
      "\n",
      "*\n",
      "*\n",
      "*\n",
      "*\n",
      "*\n",
      "*\n",
      "*\n",
      "*\n",
      "*\n",
      "*\n",
      "*\n",
      "*\n",
      "*\n",
      "*\n",
      "*\n",
      "*\n",
      "*\n",
      "*\n",
      "*\n",
      "*\n",
      "*\n",
      "*\n",
      "*\n",
      "*\n",
      "*\n",
      "*\n",
      "*\n",
      "*\n",
      "*\n",
      "*\n",
      "*\n",
      "*\n",
      "*\n",
      "*\n",
      "*\n",
      "*\n",
      "*\n",
      "*\n",
      "*\n",
      "*\n",
      "*\n",
      "*\n",
      "*\n",
      "*\n",
      "*\n",
      "*\n",
      "*\n",
      "*\n",
      "*\n",
      "*\n",
      "|\n",
      "\n",
      "13:34:55 Writing NN index file to temp file /tmp/Rtmp9pxVhI/file505d528d1ef1\n",
      "\n",
      "13:34:55 Searching Annoy index using 1 thread, search_k = 3000\n",
      "\n",
      "13:34:58 Annoy recall = 100%\n",
      "\n",
      "13:35:00 Commencing smooth kNN distance calibration using 1 thread\n",
      " with target n_neighbors = 30\n",
      "\n",
      "13:35:04 Found 2 connected components, \n",
      "falling back to 'spca' initialization with init_sdev = 1\n",
      "\n",
      "Found more than one class \"dist\" in cache; using the first, from namespace 'spam'\n",
      "\n",
      "Also defined by 'BiocGenerics'\n",
      "\n",
      "13:35:04 Using 'irlba' for PCA\n",
      "\n",
      "13:35:04 PCA: 2 components explained 30.56% variance\n",
      "\n",
      "13:35:04 Scaling init to sdev = 1\n",
      "\n",
      "13:35:04 Commencing optimization for 500 epochs, with 403064 positive edges\n",
      "\n",
      "13:35:30 Optimization finished\n",
      "\n"
     ]
    }
   ],
   "source": [
    "seur <- NormalizeData(seur, assay = \"RNA\")\n",
    "seur <- FindVariableFeatures(seur)\n",
    "seur <- ScaleData(seur)\n",
    "seur <- RunPCA(seur)\n",
    "seur <- FindNeighbors(seur, dims = 1:30, reduction = \"pca\")\n",
    "seur <- FindClusters(seur, resolution = 0.5, cluster.name = \"unintegrated_clusters\")\n",
    "seur <- RunUMAP(seur, dims = 1:30, reduction = \"pca\", reduction.name = \"umap.unintegrated\")\n"
   ]
  },
  {
   "cell_type": "code",
   "execution_count": 22,
   "id": "7ce99939-0914-4f12-b67f-a976af471c24",
   "metadata": {},
   "outputs": [
    {
     "data": {
      "text/plain": [
       "An object of class Seurat \n",
       "32473 features across 9655 samples within 5 assays \n",
       "Active assay: RNA (32285 features, 2000 variable features)\n",
       " 3 layers present: counts, data, scale.data\n",
       " 4 other assays present: prediction.score.class, prediction.score.cluster, prediction.score.subclass, prediction.score.cross_species_cluster\n",
       " 4 dimensional reductions calculated: integrated_dr, ref.umap, pca, umap.unintegrated"
      ]
     },
     "metadata": {},
     "output_type": "display_data"
    }
   ],
   "source": [
    "seur\n",
    "\"\"\"\n",
    "An object of class Seurat \n",
    "32473 features across 9655 samples within 5 assays \n",
    "Active assay: RNA (32285 features, 2000 variable features)\n",
    " 3 layers present: counts, data, scale.data\n",
    " 4 other assays present: prediction.score.class, prediction.score.cluster, prediction.score.subclass, prediction.score.cross_species_cluster\n",
    " 4 dimensional reductions calculated: integrated_dr, ref.umap, pca, umap.unintegrated\n",
    "\"\"\""
   ]
  },
  {
   "cell_type": "code",
   "execution_count": 36,
   "id": "e03e94cf-6cb6-426c-b3a1-e14b8ccf8a8c",
   "metadata": {},
   "outputs": [
    {
     "ename": "ERROR",
     "evalue": "Error: 'as.anndata' is not an exported object from 'namespace:scCustomize'\n",
     "output_type": "error",
     "traceback": [
      "Error: 'as.anndata' is not an exported object from 'namespace:scCustomize'\nTraceback:\n"
     ]
    }
   ],
   "source": [
    "scCustomize::as.anndata(x = seur, file_path = \"~/jin_lab/get/pipeline2_ssp_C01\", file_name = \"rna.h5ad\")"
   ]
  },
  {
   "cell_type": "code",
   "execution_count": 37,
   "id": "7b946682-39a6-4f0b-abae-6b1e179d9867",
   "metadata": {},
   "outputs": [
    {
     "data": {
      "text/html": [
       "<style>\n",
       ".list-inline {list-style: none; margin:0; padding: 0}\n",
       ".list-inline>li {display: inline-block}\n",
       ".list-inline>li:not(:last-child)::after {content: \"\\00b7\"; padding: 0 .5ex}\n",
       "</style>\n",
       "<ol class=list-inline><li>'Add_CellBender_Diff'</li><li>'Add_Cell_Complexity_LIGER'</li><li>'Add_Cell_Complexity_Seurat'</li><li>'Add_Mito_Ribo_LIGER'</li><li>'Add_Mito_Ribo_Seurat'</li><li>'Add_Pct_Diff'</li><li>'Add_Sample_Meta'</li><li>'Blank_Theme'</li><li>'Case_Check'</li><li>'CellBender_Diff_Plot'</li><li>'CellBender_Feature_Diff'</li><li>'Cell_Highlight_Plot'</li><li>'Change_Delim_All'</li><li>'Change_Delim_Prefix'</li><li>'Change_Delim_Suffix'</li><li>'CheckMatrix_scCustom'</li><li>'Clustered_DotPlot'</li><li>'Cluster_Highlight_Plot'</li><li>'Cluster_Stats_All_Samples'</li><li>'ColorBlind_Pal'</li><li>'Copy_From_GCP'</li><li>'Copy_To_GCP'</li><li>'Create_10X_H5'</li><li>'Create_CellBender_Merged_Seurat'</li><li>'Create_Cluster_Annotation_File'</li><li>'Dark2_Pal'</li><li>'DimPlot_All_Samples'</li><li>'DimPlot_LIGER'</li><li>'DimPlot_scCustom'</li><li>'DiscretePalette_scCustomize'</li><li>'DotPlot_scCustom'</li><li>'ensembl_mito_id'</li><li>'ensembl_ribo_id'</li><li>'Extract_Sample_Meta'</li><li>'Extract_Top_Markers'</li><li>'FeaturePlot_DualAssay'</li><li>'FeaturePlot_scCustom'</li><li>'Fetch_Meta'</li><li>'Gene_Present'</li><li>'Hue_Pal'</li><li>'Iterate_Cluster_Highlight_Plot'</li><li>'Iterate_DimPlot_bySample'</li><li>'Iterate_FeaturePlot_scCustom'</li><li>'Iterate_Meta_Highlight_Plot'</li><li>'Iterate_PC_Loading_Plots'</li><li>'Iterate_Plot_Density_Custom'</li><li>'Iterate_Plot_Density_Joint'</li><li>'Iterate_VlnPlot_scCustom'</li><li>'JCO_Four'</li><li>'Liger_to_Seurat'</li><li>'Median_Stats'</li><li>'Merge_Seurat_List'</li><li>'Merge_Sparse_Data_All'</li><li>'Meta_Highlight_Plot'</li><li>'Meta_Numeric'</li><li>'Meta_Present'</li><li>'Meta_Present_LIGER'</li><li>'Meta_Remove_Seurat'</li><li>'Move_Legend'</li><li>'NavyAndOrange'</li><li>'PalettePlot'</li><li>'PC_Plotting'</li><li>'Percent_Expressing'</li><li>'Plot_Cells_per_Sample'</li><li>'Plot_Density_Custom'</li><li>'Plot_Density_Joint_Only'</li><li>'plotFactors_scCustom'</li><li>'Plot_Median_Genes'</li><li>'Plot_Median_Mito'</li><li>'Plot_Median_Other'</li><li>'Plot_Median_UMIs'</li><li>'Pull_Cluster_Annotation'</li><li>'Pull_Directory_List'</li><li>'QC_Plot_GenevsFeature'</li><li>'QC_Plots_Combined_Vln'</li><li>'QC_Plots_Complexity'</li><li>'QC_Plots_Feature'</li><li>'QC_Plots_Genes'</li><li>'QC_Plots_Mito'</li><li>'QC_Plots_UMIs'</li><li>'QC_Plot_UMIvsFeature'</li><li>'QC_Plot_UMIvsGene'</li><li>'Read10X_GEO'</li><li>'Read10X_h5_GEO'</li><li>'Read10X_h5_Multi_Directory'</li><li>'Read10X_Multi_Directory'</li><li>'Read_CellBender_h5_Mat'</li><li>'Read_CellBender_h5_Multi_Directory'</li><li>'Read_CellBender_h5_Multi_File'</li><li>'Read_GEO_Delim'</li><li>'Read_Metrics_10X'</li><li>'Rename_Clusters'</li><li>'Replace_Suffix'</li><li>'scCustomize_Palette'</li><li>'Seq_QC_Plot_Alignment_Combined'</li><li>'Seq_QC_Plot_Antisense'</li><li>'Seq_QC_Plot_Basic_Combined'</li><li>'Seq_QC_Plot_Exonic'</li><li>'Seq_QC_Plot_Genes'</li><li>'Seq_QC_Plot_Genome'</li><li>'Seq_QC_Plot_Intergenic'</li><li>'Seq_QC_Plot_Intronic'</li><li>'Seq_QC_Plot_Number_Cells'</li><li>'Seq_QC_Plot_Reads_in_Cells'</li><li>'Seq_QC_Plot_Reads_per_Cell'</li><li>'Seq_QC_Plot_Saturation'</li><li>'Seq_QC_Plot_Total_Genes'</li><li>'Seq_QC_Plot_Transcriptome'</li><li>'Seq_QC_Plot_UMIs'</li><li>'Setup_scRNAseq_Project'</li><li>'Single_Color_Palette'</li><li>'Split_FeatureScatter'</li><li>'Stacked_VlnPlot'</li><li>'Store_Misc_Info_Seurat'</li><li>'Store_Palette_Seurat'</li><li>'theme_ggprism_mod'</li><li>'Top_Genes_Factor'</li><li>'UnRotate_X'</li><li>'VariableFeaturePlot_scCustom'</li><li>'Variable_Features_ALL_LIGER'</li><li>'viridis_dark_high'</li><li>'viridis_inferno_dark_high'</li><li>'viridis_inferno_light_high'</li><li>'viridis_light_high'</li><li>'viridis_magma_dark_high'</li><li>'viridis_magma_light_high'</li><li>'viridis_plasma_dark_high'</li><li>'viridis_plasma_light_high'</li><li>'VlnPlot_scCustom'</li></ol>\n"
      ],
      "text/latex": [
       "\\begin{enumerate*}\n",
       "\\item 'Add\\_CellBender\\_Diff'\n",
       "\\item 'Add\\_Cell\\_Complexity\\_LIGER'\n",
       "\\item 'Add\\_Cell\\_Complexity\\_Seurat'\n",
       "\\item 'Add\\_Mito\\_Ribo\\_LIGER'\n",
       "\\item 'Add\\_Mito\\_Ribo\\_Seurat'\n",
       "\\item 'Add\\_Pct\\_Diff'\n",
       "\\item 'Add\\_Sample\\_Meta'\n",
       "\\item 'Blank\\_Theme'\n",
       "\\item 'Case\\_Check'\n",
       "\\item 'CellBender\\_Diff\\_Plot'\n",
       "\\item 'CellBender\\_Feature\\_Diff'\n",
       "\\item 'Cell\\_Highlight\\_Plot'\n",
       "\\item 'Change\\_Delim\\_All'\n",
       "\\item 'Change\\_Delim\\_Prefix'\n",
       "\\item 'Change\\_Delim\\_Suffix'\n",
       "\\item 'CheckMatrix\\_scCustom'\n",
       "\\item 'Clustered\\_DotPlot'\n",
       "\\item 'Cluster\\_Highlight\\_Plot'\n",
       "\\item 'Cluster\\_Stats\\_All\\_Samples'\n",
       "\\item 'ColorBlind\\_Pal'\n",
       "\\item 'Copy\\_From\\_GCP'\n",
       "\\item 'Copy\\_To\\_GCP'\n",
       "\\item 'Create\\_10X\\_H5'\n",
       "\\item 'Create\\_CellBender\\_Merged\\_Seurat'\n",
       "\\item 'Create\\_Cluster\\_Annotation\\_File'\n",
       "\\item 'Dark2\\_Pal'\n",
       "\\item 'DimPlot\\_All\\_Samples'\n",
       "\\item 'DimPlot\\_LIGER'\n",
       "\\item 'DimPlot\\_scCustom'\n",
       "\\item 'DiscretePalette\\_scCustomize'\n",
       "\\item 'DotPlot\\_scCustom'\n",
       "\\item 'ensembl\\_mito\\_id'\n",
       "\\item 'ensembl\\_ribo\\_id'\n",
       "\\item 'Extract\\_Sample\\_Meta'\n",
       "\\item 'Extract\\_Top\\_Markers'\n",
       "\\item 'FeaturePlot\\_DualAssay'\n",
       "\\item 'FeaturePlot\\_scCustom'\n",
       "\\item 'Fetch\\_Meta'\n",
       "\\item 'Gene\\_Present'\n",
       "\\item 'Hue\\_Pal'\n",
       "\\item 'Iterate\\_Cluster\\_Highlight\\_Plot'\n",
       "\\item 'Iterate\\_DimPlot\\_bySample'\n",
       "\\item 'Iterate\\_FeaturePlot\\_scCustom'\n",
       "\\item 'Iterate\\_Meta\\_Highlight\\_Plot'\n",
       "\\item 'Iterate\\_PC\\_Loading\\_Plots'\n",
       "\\item 'Iterate\\_Plot\\_Density\\_Custom'\n",
       "\\item 'Iterate\\_Plot\\_Density\\_Joint'\n",
       "\\item 'Iterate\\_VlnPlot\\_scCustom'\n",
       "\\item 'JCO\\_Four'\n",
       "\\item 'Liger\\_to\\_Seurat'\n",
       "\\item 'Median\\_Stats'\n",
       "\\item 'Merge\\_Seurat\\_List'\n",
       "\\item 'Merge\\_Sparse\\_Data\\_All'\n",
       "\\item 'Meta\\_Highlight\\_Plot'\n",
       "\\item 'Meta\\_Numeric'\n",
       "\\item 'Meta\\_Present'\n",
       "\\item 'Meta\\_Present\\_LIGER'\n",
       "\\item 'Meta\\_Remove\\_Seurat'\n",
       "\\item 'Move\\_Legend'\n",
       "\\item 'NavyAndOrange'\n",
       "\\item 'PalettePlot'\n",
       "\\item 'PC\\_Plotting'\n",
       "\\item 'Percent\\_Expressing'\n",
       "\\item 'Plot\\_Cells\\_per\\_Sample'\n",
       "\\item 'Plot\\_Density\\_Custom'\n",
       "\\item 'Plot\\_Density\\_Joint\\_Only'\n",
       "\\item 'plotFactors\\_scCustom'\n",
       "\\item 'Plot\\_Median\\_Genes'\n",
       "\\item 'Plot\\_Median\\_Mito'\n",
       "\\item 'Plot\\_Median\\_Other'\n",
       "\\item 'Plot\\_Median\\_UMIs'\n",
       "\\item 'Pull\\_Cluster\\_Annotation'\n",
       "\\item 'Pull\\_Directory\\_List'\n",
       "\\item 'QC\\_Plot\\_GenevsFeature'\n",
       "\\item 'QC\\_Plots\\_Combined\\_Vln'\n",
       "\\item 'QC\\_Plots\\_Complexity'\n",
       "\\item 'QC\\_Plots\\_Feature'\n",
       "\\item 'QC\\_Plots\\_Genes'\n",
       "\\item 'QC\\_Plots\\_Mito'\n",
       "\\item 'QC\\_Plots\\_UMIs'\n",
       "\\item 'QC\\_Plot\\_UMIvsFeature'\n",
       "\\item 'QC\\_Plot\\_UMIvsGene'\n",
       "\\item 'Read10X\\_GEO'\n",
       "\\item 'Read10X\\_h5\\_GEO'\n",
       "\\item 'Read10X\\_h5\\_Multi\\_Directory'\n",
       "\\item 'Read10X\\_Multi\\_Directory'\n",
       "\\item 'Read\\_CellBender\\_h5\\_Mat'\n",
       "\\item 'Read\\_CellBender\\_h5\\_Multi\\_Directory'\n",
       "\\item 'Read\\_CellBender\\_h5\\_Multi\\_File'\n",
       "\\item 'Read\\_GEO\\_Delim'\n",
       "\\item 'Read\\_Metrics\\_10X'\n",
       "\\item 'Rename\\_Clusters'\n",
       "\\item 'Replace\\_Suffix'\n",
       "\\item 'scCustomize\\_Palette'\n",
       "\\item 'Seq\\_QC\\_Plot\\_Alignment\\_Combined'\n",
       "\\item 'Seq\\_QC\\_Plot\\_Antisense'\n",
       "\\item 'Seq\\_QC\\_Plot\\_Basic\\_Combined'\n",
       "\\item 'Seq\\_QC\\_Plot\\_Exonic'\n",
       "\\item 'Seq\\_QC\\_Plot\\_Genes'\n",
       "\\item 'Seq\\_QC\\_Plot\\_Genome'\n",
       "\\item 'Seq\\_QC\\_Plot\\_Intergenic'\n",
       "\\item 'Seq\\_QC\\_Plot\\_Intronic'\n",
       "\\item 'Seq\\_QC\\_Plot\\_Number\\_Cells'\n",
       "\\item 'Seq\\_QC\\_Plot\\_Reads\\_in\\_Cells'\n",
       "\\item 'Seq\\_QC\\_Plot\\_Reads\\_per\\_Cell'\n",
       "\\item 'Seq\\_QC\\_Plot\\_Saturation'\n",
       "\\item 'Seq\\_QC\\_Plot\\_Total\\_Genes'\n",
       "\\item 'Seq\\_QC\\_Plot\\_Transcriptome'\n",
       "\\item 'Seq\\_QC\\_Plot\\_UMIs'\n",
       "\\item 'Setup\\_scRNAseq\\_Project'\n",
       "\\item 'Single\\_Color\\_Palette'\n",
       "\\item 'Split\\_FeatureScatter'\n",
       "\\item 'Stacked\\_VlnPlot'\n",
       "\\item 'Store\\_Misc\\_Info\\_Seurat'\n",
       "\\item 'Store\\_Palette\\_Seurat'\n",
       "\\item 'theme\\_ggprism\\_mod'\n",
       "\\item 'Top\\_Genes\\_Factor'\n",
       "\\item 'UnRotate\\_X'\n",
       "\\item 'VariableFeaturePlot\\_scCustom'\n",
       "\\item 'Variable\\_Features\\_ALL\\_LIGER'\n",
       "\\item 'viridis\\_dark\\_high'\n",
       "\\item 'viridis\\_inferno\\_dark\\_high'\n",
       "\\item 'viridis\\_inferno\\_light\\_high'\n",
       "\\item 'viridis\\_light\\_high'\n",
       "\\item 'viridis\\_magma\\_dark\\_high'\n",
       "\\item 'viridis\\_magma\\_light\\_high'\n",
       "\\item 'viridis\\_plasma\\_dark\\_high'\n",
       "\\item 'viridis\\_plasma\\_light\\_high'\n",
       "\\item 'VlnPlot\\_scCustom'\n",
       "\\end{enumerate*}\n"
      ],
      "text/markdown": [
       "1. 'Add_CellBender_Diff'\n",
       "2. 'Add_Cell_Complexity_LIGER'\n",
       "3. 'Add_Cell_Complexity_Seurat'\n",
       "4. 'Add_Mito_Ribo_LIGER'\n",
       "5. 'Add_Mito_Ribo_Seurat'\n",
       "6. 'Add_Pct_Diff'\n",
       "7. 'Add_Sample_Meta'\n",
       "8. 'Blank_Theme'\n",
       "9. 'Case_Check'\n",
       "10. 'CellBender_Diff_Plot'\n",
       "11. 'CellBender_Feature_Diff'\n",
       "12. 'Cell_Highlight_Plot'\n",
       "13. 'Change_Delim_All'\n",
       "14. 'Change_Delim_Prefix'\n",
       "15. 'Change_Delim_Suffix'\n",
       "16. 'CheckMatrix_scCustom'\n",
       "17. 'Clustered_DotPlot'\n",
       "18. 'Cluster_Highlight_Plot'\n",
       "19. 'Cluster_Stats_All_Samples'\n",
       "20. 'ColorBlind_Pal'\n",
       "21. 'Copy_From_GCP'\n",
       "22. 'Copy_To_GCP'\n",
       "23. 'Create_10X_H5'\n",
       "24. 'Create_CellBender_Merged_Seurat'\n",
       "25. 'Create_Cluster_Annotation_File'\n",
       "26. 'Dark2_Pal'\n",
       "27. 'DimPlot_All_Samples'\n",
       "28. 'DimPlot_LIGER'\n",
       "29. 'DimPlot_scCustom'\n",
       "30. 'DiscretePalette_scCustomize'\n",
       "31. 'DotPlot_scCustom'\n",
       "32. 'ensembl_mito_id'\n",
       "33. 'ensembl_ribo_id'\n",
       "34. 'Extract_Sample_Meta'\n",
       "35. 'Extract_Top_Markers'\n",
       "36. 'FeaturePlot_DualAssay'\n",
       "37. 'FeaturePlot_scCustom'\n",
       "38. 'Fetch_Meta'\n",
       "39. 'Gene_Present'\n",
       "40. 'Hue_Pal'\n",
       "41. 'Iterate_Cluster_Highlight_Plot'\n",
       "42. 'Iterate_DimPlot_bySample'\n",
       "43. 'Iterate_FeaturePlot_scCustom'\n",
       "44. 'Iterate_Meta_Highlight_Plot'\n",
       "45. 'Iterate_PC_Loading_Plots'\n",
       "46. 'Iterate_Plot_Density_Custom'\n",
       "47. 'Iterate_Plot_Density_Joint'\n",
       "48. 'Iterate_VlnPlot_scCustom'\n",
       "49. 'JCO_Four'\n",
       "50. 'Liger_to_Seurat'\n",
       "51. 'Median_Stats'\n",
       "52. 'Merge_Seurat_List'\n",
       "53. 'Merge_Sparse_Data_All'\n",
       "54. 'Meta_Highlight_Plot'\n",
       "55. 'Meta_Numeric'\n",
       "56. 'Meta_Present'\n",
       "57. 'Meta_Present_LIGER'\n",
       "58. 'Meta_Remove_Seurat'\n",
       "59. 'Move_Legend'\n",
       "60. 'NavyAndOrange'\n",
       "61. 'PalettePlot'\n",
       "62. 'PC_Plotting'\n",
       "63. 'Percent_Expressing'\n",
       "64. 'Plot_Cells_per_Sample'\n",
       "65. 'Plot_Density_Custom'\n",
       "66. 'Plot_Density_Joint_Only'\n",
       "67. 'plotFactors_scCustom'\n",
       "68. 'Plot_Median_Genes'\n",
       "69. 'Plot_Median_Mito'\n",
       "70. 'Plot_Median_Other'\n",
       "71. 'Plot_Median_UMIs'\n",
       "72. 'Pull_Cluster_Annotation'\n",
       "73. 'Pull_Directory_List'\n",
       "74. 'QC_Plot_GenevsFeature'\n",
       "75. 'QC_Plots_Combined_Vln'\n",
       "76. 'QC_Plots_Complexity'\n",
       "77. 'QC_Plots_Feature'\n",
       "78. 'QC_Plots_Genes'\n",
       "79. 'QC_Plots_Mito'\n",
       "80. 'QC_Plots_UMIs'\n",
       "81. 'QC_Plot_UMIvsFeature'\n",
       "82. 'QC_Plot_UMIvsGene'\n",
       "83. 'Read10X_GEO'\n",
       "84. 'Read10X_h5_GEO'\n",
       "85. 'Read10X_h5_Multi_Directory'\n",
       "86. 'Read10X_Multi_Directory'\n",
       "87. 'Read_CellBender_h5_Mat'\n",
       "88. 'Read_CellBender_h5_Multi_Directory'\n",
       "89. 'Read_CellBender_h5_Multi_File'\n",
       "90. 'Read_GEO_Delim'\n",
       "91. 'Read_Metrics_10X'\n",
       "92. 'Rename_Clusters'\n",
       "93. 'Replace_Suffix'\n",
       "94. 'scCustomize_Palette'\n",
       "95. 'Seq_QC_Plot_Alignment_Combined'\n",
       "96. 'Seq_QC_Plot_Antisense'\n",
       "97. 'Seq_QC_Plot_Basic_Combined'\n",
       "98. 'Seq_QC_Plot_Exonic'\n",
       "99. 'Seq_QC_Plot_Genes'\n",
       "100. 'Seq_QC_Plot_Genome'\n",
       "101. 'Seq_QC_Plot_Intergenic'\n",
       "102. 'Seq_QC_Plot_Intronic'\n",
       "103. 'Seq_QC_Plot_Number_Cells'\n",
       "104. 'Seq_QC_Plot_Reads_in_Cells'\n",
       "105. 'Seq_QC_Plot_Reads_per_Cell'\n",
       "106. 'Seq_QC_Plot_Saturation'\n",
       "107. 'Seq_QC_Plot_Total_Genes'\n",
       "108. 'Seq_QC_Plot_Transcriptome'\n",
       "109. 'Seq_QC_Plot_UMIs'\n",
       "110. 'Setup_scRNAseq_Project'\n",
       "111. 'Single_Color_Palette'\n",
       "112. 'Split_FeatureScatter'\n",
       "113. 'Stacked_VlnPlot'\n",
       "114. 'Store_Misc_Info_Seurat'\n",
       "115. 'Store_Palette_Seurat'\n",
       "116. 'theme_ggprism_mod'\n",
       "117. 'Top_Genes_Factor'\n",
       "118. 'UnRotate_X'\n",
       "119. 'VariableFeaturePlot_scCustom'\n",
       "120. 'Variable_Features_ALL_LIGER'\n",
       "121. 'viridis_dark_high'\n",
       "122. 'viridis_inferno_dark_high'\n",
       "123. 'viridis_inferno_light_high'\n",
       "124. 'viridis_light_high'\n",
       "125. 'viridis_magma_dark_high'\n",
       "126. 'viridis_magma_light_high'\n",
       "127. 'viridis_plasma_dark_high'\n",
       "128. 'viridis_plasma_light_high'\n",
       "129. 'VlnPlot_scCustom'\n",
       "\n",
       "\n"
      ],
      "text/plain": [
       "  [1] \"Add_CellBender_Diff\"                \"Add_Cell_Complexity_LIGER\"         \n",
       "  [3] \"Add_Cell_Complexity_Seurat\"         \"Add_Mito_Ribo_LIGER\"               \n",
       "  [5] \"Add_Mito_Ribo_Seurat\"               \"Add_Pct_Diff\"                      \n",
       "  [7] \"Add_Sample_Meta\"                    \"Blank_Theme\"                       \n",
       "  [9] \"Case_Check\"                         \"CellBender_Diff_Plot\"              \n",
       " [11] \"CellBender_Feature_Diff\"            \"Cell_Highlight_Plot\"               \n",
       " [13] \"Change_Delim_All\"                   \"Change_Delim_Prefix\"               \n",
       " [15] \"Change_Delim_Suffix\"                \"CheckMatrix_scCustom\"              \n",
       " [17] \"Clustered_DotPlot\"                  \"Cluster_Highlight_Plot\"            \n",
       " [19] \"Cluster_Stats_All_Samples\"          \"ColorBlind_Pal\"                    \n",
       " [21] \"Copy_From_GCP\"                      \"Copy_To_GCP\"                       \n",
       " [23] \"Create_10X_H5\"                      \"Create_CellBender_Merged_Seurat\"   \n",
       " [25] \"Create_Cluster_Annotation_File\"     \"Dark2_Pal\"                         \n",
       " [27] \"DimPlot_All_Samples\"                \"DimPlot_LIGER\"                     \n",
       " [29] \"DimPlot_scCustom\"                   \"DiscretePalette_scCustomize\"       \n",
       " [31] \"DotPlot_scCustom\"                   \"ensembl_mito_id\"                   \n",
       " [33] \"ensembl_ribo_id\"                    \"Extract_Sample_Meta\"               \n",
       " [35] \"Extract_Top_Markers\"                \"FeaturePlot_DualAssay\"             \n",
       " [37] \"FeaturePlot_scCustom\"               \"Fetch_Meta\"                        \n",
       " [39] \"Gene_Present\"                       \"Hue_Pal\"                           \n",
       " [41] \"Iterate_Cluster_Highlight_Plot\"     \"Iterate_DimPlot_bySample\"          \n",
       " [43] \"Iterate_FeaturePlot_scCustom\"       \"Iterate_Meta_Highlight_Plot\"       \n",
       " [45] \"Iterate_PC_Loading_Plots\"           \"Iterate_Plot_Density_Custom\"       \n",
       " [47] \"Iterate_Plot_Density_Joint\"         \"Iterate_VlnPlot_scCustom\"          \n",
       " [49] \"JCO_Four\"                           \"Liger_to_Seurat\"                   \n",
       " [51] \"Median_Stats\"                       \"Merge_Seurat_List\"                 \n",
       " [53] \"Merge_Sparse_Data_All\"              \"Meta_Highlight_Plot\"               \n",
       " [55] \"Meta_Numeric\"                       \"Meta_Present\"                      \n",
       " [57] \"Meta_Present_LIGER\"                 \"Meta_Remove_Seurat\"                \n",
       " [59] \"Move_Legend\"                        \"NavyAndOrange\"                     \n",
       " [61] \"PalettePlot\"                        \"PC_Plotting\"                       \n",
       " [63] \"Percent_Expressing\"                 \"Plot_Cells_per_Sample\"             \n",
       " [65] \"Plot_Density_Custom\"                \"Plot_Density_Joint_Only\"           \n",
       " [67] \"plotFactors_scCustom\"               \"Plot_Median_Genes\"                 \n",
       " [69] \"Plot_Median_Mito\"                   \"Plot_Median_Other\"                 \n",
       " [71] \"Plot_Median_UMIs\"                   \"Pull_Cluster_Annotation\"           \n",
       " [73] \"Pull_Directory_List\"                \"QC_Plot_GenevsFeature\"             \n",
       " [75] \"QC_Plots_Combined_Vln\"              \"QC_Plots_Complexity\"               \n",
       " [77] \"QC_Plots_Feature\"                   \"QC_Plots_Genes\"                    \n",
       " [79] \"QC_Plots_Mito\"                      \"QC_Plots_UMIs\"                     \n",
       " [81] \"QC_Plot_UMIvsFeature\"               \"QC_Plot_UMIvsGene\"                 \n",
       " [83] \"Read10X_GEO\"                        \"Read10X_h5_GEO\"                    \n",
       " [85] \"Read10X_h5_Multi_Directory\"         \"Read10X_Multi_Directory\"           \n",
       " [87] \"Read_CellBender_h5_Mat\"             \"Read_CellBender_h5_Multi_Directory\"\n",
       " [89] \"Read_CellBender_h5_Multi_File\"      \"Read_GEO_Delim\"                    \n",
       " [91] \"Read_Metrics_10X\"                   \"Rename_Clusters\"                   \n",
       " [93] \"Replace_Suffix\"                     \"scCustomize_Palette\"               \n",
       " [95] \"Seq_QC_Plot_Alignment_Combined\"     \"Seq_QC_Plot_Antisense\"             \n",
       " [97] \"Seq_QC_Plot_Basic_Combined\"         \"Seq_QC_Plot_Exonic\"                \n",
       " [99] \"Seq_QC_Plot_Genes\"                  \"Seq_QC_Plot_Genome\"                \n",
       "[101] \"Seq_QC_Plot_Intergenic\"             \"Seq_QC_Plot_Intronic\"              \n",
       "[103] \"Seq_QC_Plot_Number_Cells\"           \"Seq_QC_Plot_Reads_in_Cells\"        \n",
       "[105] \"Seq_QC_Plot_Reads_per_Cell\"         \"Seq_QC_Plot_Saturation\"            \n",
       "[107] \"Seq_QC_Plot_Total_Genes\"            \"Seq_QC_Plot_Transcriptome\"         \n",
       "[109] \"Seq_QC_Plot_UMIs\"                   \"Setup_scRNAseq_Project\"            \n",
       "[111] \"Single_Color_Palette\"               \"Split_FeatureScatter\"              \n",
       "[113] \"Stacked_VlnPlot\"                    \"Store_Misc_Info_Seurat\"            \n",
       "[115] \"Store_Palette_Seurat\"               \"theme_ggprism_mod\"                 \n",
       "[117] \"Top_Genes_Factor\"                   \"UnRotate_X\"                        \n",
       "[119] \"VariableFeaturePlot_scCustom\"       \"Variable_Features_ALL_LIGER\"       \n",
       "[121] \"viridis_dark_high\"                  \"viridis_inferno_dark_high\"         \n",
       "[123] \"viridis_inferno_light_high\"         \"viridis_light_high\"                \n",
       "[125] \"viridis_magma_dark_high\"            \"viridis_magma_light_high\"          \n",
       "[127] \"viridis_plasma_dark_high\"           \"viridis_plasma_light_high\"         \n",
       "[129] \"VlnPlot_scCustom\"                  "
      ]
     },
     "metadata": {},
     "output_type": "display_data"
    }
   ],
   "source": [
    "ls(\"package:scCustomize\")"
   ]
  },
  {
   "cell_type": "code",
   "execution_count": 38,
   "id": "a184ea01-cc3f-436e-8060-3bc2cca52a3e",
   "metadata": {},
   "outputs": [
    {
     "data": {
      "text/plain": [
       "[1] '1.1.1'"
      ]
     },
     "metadata": {},
     "output_type": "display_data"
    }
   ],
   "source": [
    "packageVersion(\"scCustomize\")"
   ]
  },
  {
   "cell_type": "code",
   "execution_count": 39,
   "id": "7ec235c4-fc2d-4431-80b6-4e7c438b0a3e",
   "metadata": {},
   "outputs": [
    {
     "data": {
      "text/html": [
       "'/gpfs/group/home/xzheng/R/x86_64-pc-linux-gnu-library/4.3/scCustomize'"
      ],
      "text/latex": [
       "'/gpfs/group/home/xzheng/R/x86\\_64-pc-linux-gnu-library/4.3/scCustomize'"
      ],
      "text/markdown": [
       "'/gpfs/group/home/xzheng/R/x86_64-pc-linux-gnu-library/4.3/scCustomize'"
      ],
      "text/plain": [
       "[1] \"/gpfs/group/home/xzheng/R/x86_64-pc-linux-gnu-library/4.3/scCustomize\""
      ]
     },
     "metadata": {},
     "output_type": "display_data"
    }
   ],
   "source": [
    "find.package(\"scCustomize\")"
   ]
  },
  {
   "cell_type": "code",
   "execution_count": 43,
   "id": "307c6e41-f0d1-49b9-9315-b483b040fe0f",
   "metadata": {},
   "outputs": [
    {
     "name": "stderr",
     "output_type": "stream",
     "text": [
      "Warning message:\n",
      "\"Key 'rna_' taken, using 'rna3_' instead\"\n",
      "Renaming default assay from RNA3 to RNA\n",
      "\n",
      "Warning message:\n",
      "\"Key 'rna3_' taken, using 'rna_' instead\"\n",
      "Creating h5Seurat file for version 3.1.5.9900\n",
      "\n",
      "Adding data for prediction.score.class\n",
      "\n",
      "No variable features found for prediction.score.class\n",
      "\n",
      "No feature-level metadata found for prediction.score.class\n",
      "\n",
      "Adding data for prediction.score.cluster\n",
      "\n",
      "No variable features found for prediction.score.cluster\n",
      "\n",
      "No feature-level metadata found for prediction.score.cluster\n",
      "\n",
      "Adding data for prediction.score.subclass\n",
      "\n",
      "No variable features found for prediction.score.subclass\n",
      "\n",
      "No feature-level metadata found for prediction.score.subclass\n",
      "\n",
      "Adding data for prediction.score.cross_species_cluster\n",
      "\n",
      "No variable features found for prediction.score.cross_species_cluster\n",
      "\n",
      "No feature-level metadata found for prediction.score.cross_species_cluster\n",
      "\n",
      "Adding counts for RNA\n",
      "\n",
      "Adding data for RNA\n",
      "\n",
      "Adding scale.data for RNA\n",
      "\n",
      "Adding variable features for RNA\n",
      "\n",
      "Adding feature-level metadata for RNA\n",
      "\n",
      "Adding cell embeddings for integrated_dr\n",
      "\n",
      "No loadings for integrated_dr\n",
      "\n",
      "No projected loadings for integrated_dr\n",
      "\n",
      "No standard deviations for integrated_dr\n",
      "\n",
      "No JackStraw data for integrated_dr\n",
      "\n",
      "Adding cell embeddings for ref.umap\n",
      "\n",
      "No loadings for ref.umap\n",
      "\n",
      "No projected loadings for ref.umap\n",
      "\n",
      "No standard deviations for ref.umap\n",
      "\n",
      "No JackStraw data for ref.umap\n",
      "\n",
      "Adding cell embeddings for pca\n",
      "\n",
      "Adding loadings for pca\n",
      "\n",
      "No projected loadings for pca\n",
      "\n",
      "Adding standard deviations for pca\n",
      "\n",
      "No JackStraw data for pca\n",
      "\n",
      "Adding cell embeddings for umap.unintegrated\n",
      "\n",
      "No loadings for umap.unintegrated\n",
      "\n",
      "No projected loadings for umap.unintegrated\n",
      "\n",
      "No standard deviations for umap.unintegrated\n",
      "\n",
      "No JackStraw data for umap.unintegrated\n",
      "\n",
      "Validating h5Seurat file\n",
      "\n",
      "Adding scale.data from RNA as X\n",
      "\n",
      "Transfering meta.features to var\n",
      "\n",
      "Adding data from RNA as raw\n",
      "\n",
      "Transfering meta.features to raw/var\n",
      "\n",
      "Transfering meta.data to obs\n",
      "\n",
      "Adding dimensional reduction information for integrated_dr\n",
      "\n",
      "Adding dimensional reduction information for pca\n",
      "\n",
      "Adding feature loadings for pca\n",
      "\n",
      "Adding dimensional reduction information for ref.umap\n",
      "\n",
      "Adding dimensional reduction information for umap.unintegrated\n",
      "\n",
      "Adding RNA_snn as neighbors\n",
      "\n"
     ]
    }
   ],
   "source": [
    "seur[[\"RNA3\"]] <- as(object = seur[[\"RNA\"]], Class = \"Assay\")\n",
    "DefaultAssay(seur) <- \"RNA3\"\n",
    "seur[[\"RNA\"]] <- NULL\n",
    "seur <- RenameAssays(object = seur, RNA3 = 'RNA')\n",
    "SaveH5Seurat(seur, filename = \"rna.h5Seurat\")\n",
    "Convert(\"rna.h5Seurat\", dest = \"h5ad\")\n"
   ]
  },
  {
   "cell_type": "code",
   "execution_count": 20,
   "id": "996e4eaf-7d7c-426c-9bc7-f1cc8b603c57",
   "metadata": {},
   "outputs": [
    {
     "name": "stderr",
     "output_type": "stream",
     "text": [
      "Validating h5Seurat file\n",
      "\n",
      "Adding data from RNA as X\n",
      "\n"
     ]
    },
    {
     "ename": "ERROR",
     "evalue": "Error in assay.group$obj_copy_to(dst_loc = dfile, dst_name = \"X\", src_name = x.data): HDF5-API Errors:\n    error #000: H5Ocopy.c in H5Ocopy(): line 240: unable to copy object\n        class: HDF5\n        major: Object header\n        minor: Unable to copy object\n\n    error #001: H5VLcallback.c in H5VL_object_copy(): line 5495: object copy failed\n        class: HDF5\n        major: Virtual Object Layer\n        minor: Unable to copy object\n\n    error #002: H5VLcallback.c in H5VL__object_copy(): line 5456: object copy failed\n        class: HDF5\n        major: Virtual Object Layer\n        minor: Unable to copy object\n\n    error #003: H5VLnative_object.c in H5VL__native_object_copy(): line 125: unable to copy object\n        class: HDF5\n        major: Object header\n        minor: Unable to copy object\n\n    error #004: H5Ocopy.c in H5O__copy(): line 291: source object not found\n        class: HDF5\n        major: Symbol table\n        minor: Object not found\n\n    error #005: H5Gloc.c in H5G_loc_find(): line 442: can't find object\n        class: HDF5\n        major: Symbol table\n   \n",
     "output_type": "error",
     "traceback": [
      "Error in assay.group$obj_copy_to(dst_loc = dfile, dst_name = \"X\", src_name = x.data): HDF5-API Errors:\n    error #000: H5Ocopy.c in H5Ocopy(): line 240: unable to copy object\n        class: HDF5\n        major: Object header\n        minor: Unable to copy object\n\n    error #001: H5VLcallback.c in H5VL_object_copy(): line 5495: object copy failed\n        class: HDF5\n        major: Virtual Object Layer\n        minor: Unable to copy object\n\n    error #002: H5VLcallback.c in H5VL__object_copy(): line 5456: object copy failed\n        class: HDF5\n        major: Virtual Object Layer\n        minor: Unable to copy object\n\n    error #003: H5VLnative_object.c in H5VL__native_object_copy(): line 125: unable to copy object\n        class: HDF5\n        major: Object header\n        minor: Unable to copy object\n\n    error #004: H5Ocopy.c in H5O__copy(): line 291: source object not found\n        class: HDF5\n        major: Symbol table\n        minor: Object not found\n\n    error #005: H5Gloc.c in H5G_loc_find(): line 442: can't find object\n        class: HDF5\n        major: Symbol table\n   \nTraceback:\n",
      "1. Convert(\"rna.h5Seurat\", dest = \"h5ad\")",
      "2. Convert.character(\"rna.h5Seurat\", dest = \"h5ad\")",
      "3. Convert(source = hfile, dest = dest, assay = assay, overwrite = overwrite, \n .     verbose = verbose, ...)",
      "4. Convert.h5Seurat(source = hfile, dest = dest, assay = assay, \n .     overwrite = overwrite, verbose = verbose, ...)",
      "5. H5SeuratToH5AD(source = source, dest = dest, assay = assay, overwrite = overwrite, \n .     verbose = verbose)",
      "6. assay.group$obj_copy_to(dst_loc = dfile, dst_name = \"X\", src_name = x.data)"
     ]
    }
   ],
   "source": [
    "Convert(\"rna.h5Seurat\", dest = \"h5ad\")"
   ]
  },
  {
   "cell_type": "code",
   "execution_count": 16,
   "id": "6f567544-a9ed-4c40-9c3f-1176de6a42cd",
   "metadata": {},
   "outputs": [
    {
     "name": "stderr",
     "output_type": "stream",
     "text": [
      "\n",
      "Attaching package: 'SeuratDisk'\n",
      "\n",
      "\n",
      "The following object is masked from 'package:Azimuth':\n",
      "\n",
      "    Connect\n",
      "\n",
      "\n"
     ]
    }
   ],
   "source": [
    "library(SeuratDisk)"
   ]
  },
  {
   "cell_type": "code",
   "execution_count": 17,
   "id": "3d5612d2-3649-4ef8-aa9c-ec43ac8e62a0",
   "metadata": {},
   "outputs": [
    {
     "name": "stderr",
     "output_type": "stream",
     "text": [
      "── \u001b[1mInstalled datasets\u001b[22m ──────────────────────────────── SeuratData v0.2.2.9001 ──\n",
      "\n",
      "\u001b[32m✔\u001b[39m \u001b[34mmousecortexref\u001b[39m 1.0.0                  \n",
      "\n",
      "\n",
      "────────────────────────────────────── Key ─────────────────────────────────────\n",
      "\n",
      "\u001b[32m✔\u001b[39m Dataset loaded successfully\n",
      "\u001b[33m❯\u001b[39m Dataset built with a newer version of Seurat than installed\n",
      "\u001b[31m❓\u001b[39m Unknown version of Seurat installed\n",
      "\n",
      "\n"
     ]
    }
   ],
   "source": [
    "library(SeuratData)"
   ]
  }
 ],
 "metadata": {
  "kernelspec": {
   "display_name": "R4.3.0",
   "language": "R",
   "name": "r430"
  },
  "language_info": {
   "codemirror_mode": "r",
   "file_extension": ".r",
   "mimetype": "text/x-r-source",
   "name": "R",
   "pygments_lexer": "r",
   "version": "4.3.0"
  }
 },
 "nbformat": 4,
 "nbformat_minor": 5
}
